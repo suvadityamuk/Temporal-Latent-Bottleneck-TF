{
  "cells": [
    {
      "cell_type": "code",
      "execution_count": 1,
      "metadata": {
        "id": "lIYdn1woOS1n"
      },
      "outputs": [],
      "source": [
        "import tensorflow as tf\n",
        "from tensorflow import keras\n",
        "from tensorflow.keras.layers import MultiHeadAttention"
      ]
    },
    {
      "cell_type": "code",
      "source": [
        "query = tf.random.normal((32, 10, 64))\n",
        "value = tf.random.normal((32, 20, 64))\n",
        "\n",
        "outputs, attn_weights = MultiHeadAttention(\n",
        "    num_heads=1,\n",
        "    key_dim=64,\n",
        ")(query, value, return_attention_scores=True)"
      ],
      "metadata": {
        "id": "gi-voO-9o0so"
      },
      "execution_count": 3,
      "outputs": []
    },
    {
      "cell_type": "code",
      "source": [
        "# batch, num_heads, query, value/key\n",
        "attn_weights.shape"
      ],
      "metadata": {
        "id": "A9M5qV94pcZN",
        "outputId": "c4317da6-c53b-4e10-b442-7e1d65f2add2",
        "colab": {
          "base_uri": "https://localhost:8080/"
        }
      },
      "execution_count": 5,
      "outputs": [
        {
          "output_type": "execute_result",
          "data": {
            "text/plain": [
              "TensorShape([32, 1, 10, 20])"
            ]
          },
          "metadata": {},
          "execution_count": 5
        }
      ]
    },
    {
      "cell_type": "code",
      "source": [
        "from matplotlib import pyplot as plt"
      ],
      "metadata": {
        "id": "7O9WNWSzpdnm"
      },
      "execution_count": 6,
      "outputs": []
    },
    {
      "cell_type": "code",
      "source": [
        "plt.imshow(attn_weights[0, 0, ...], cmap=\"inferno\")"
      ],
      "metadata": {
        "id": "5Kmtsj5OpmN2",
        "outputId": "94d542ef-c0cb-4924-f23f-3194074e9a13",
        "colab": {
          "base_uri": "https://localhost:8080/",
          "height": 232
        }
      },
      "execution_count": 7,
      "outputs": [
        {
          "output_type": "execute_result",
          "data": {
            "text/plain": [
              "<matplotlib.image.AxesImage at 0x7fd4c5ae9e80>"
            ]
          },
          "metadata": {},
          "execution_count": 7
        },
        {
          "output_type": "display_data",
          "data": {
            "text/plain": [
              "<Figure size 432x288 with 1 Axes>"
            ],
            "image/png": "[encoded data removed]"
          },
          "metadata": {
            "needs_background": "light"
          }
        }
      ]
    },
    {
      "cell_type": "code",
      "source": [
        "a = tf.math.reduce_max(attn_weights, axis=-1)\n",
        "a.shape"
      ],
      "metadata": {
        "id": "6tvbt195pwTt",
        "outputId": "56165b72-55c8-4918-cf33-292bafed8515",
        "colab": {
          "base_uri": "https://localhost:8080/"
        }
      },
      "execution_count": 11,
      "outputs": [
        {
          "output_type": "execute_result",
          "data": {
            "text/plain": [
              "TensorShape([32, 1, 10])"
            ]
          },
          "metadata": {},
          "execution_count": 11
        }
      ]
    },
    {
      "cell_type": "code",
      "source": [
        "plt.imshow(a[0, 0, ..., None], cmap=\"inferno\")"
      ],
      "metadata": {
        "id": "ksTZ4_qMtjs9",
        "outputId": "02dbde62-0342-4411-d460-cab78411d252",
        "colab": {
          "base_uri": "https://localhost:8080/",
          "height": 282
        }
      },
      "execution_count": 12,
      "outputs": [
        {
          "output_type": "execute_result",
          "data": {
            "text/plain": [
              "<matplotlib.image.AxesImage at 0x7fd4c59ab040>"
            ]
          },
          "metadata": {},
          "execution_count": 12
        },
        {
          "output_type": "display_data",
          "data": {
            "text/plain": [
              "<Figure size 432x288 with 1 Axes>"
            ],
            "image/png": "[encoded data removed]"
          },
          "metadata": {
            "needs_background": "light"
          }
        }
      ]
    }
  ],
  "metadata": {
    "colab": {
      "name": "scratchpad",
      "provenance": []
    },
    "kernelspec": {
      "display_name": "Python 3",
      "name": "python3"
    }
  },
  "nbformat": 4,
  "nbformat_minor": 0
}