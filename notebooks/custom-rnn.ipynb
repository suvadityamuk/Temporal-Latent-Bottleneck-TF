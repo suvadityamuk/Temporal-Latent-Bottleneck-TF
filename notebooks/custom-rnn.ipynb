{
 "cells": [
  {
   "cell_type": "markdown",
   "metadata": {
    "id": "aXAk9l5ZXBDs"
   },
   "source": [
    "# Imports"
   ]
  },
  {
   "cell_type": "code",
   "execution_count": 66,
   "metadata": {
    "id": "_A1LES4Fo2jq"
   },
   "outputs": [],
   "source": [
    "import tensorflow as tf\n",
    "from tensorflow import keras\n",
    "from tensorflow.keras import layers"
   ]
  },
  {
   "cell_type": "markdown",
   "metadata": {
    "id": "p8YYYUCeXCd0"
   },
   "source": [
    "# Building a Custom RNN Cell"
   ]
  },
  {
   "cell_type": "code",
   "execution_count": 81,
   "metadata": {
    "id": "Qqu2mlLMnyV6"
   },
   "outputs": [],
   "source": [
    "class CustomCell(layers.Layer):\n",
    "    def __init__(self, chunk_size, units, **kwargs):\n",
    "        self.chunk_size = chunk_size\n",
    "        self.units = units\n",
    "        self.state_size = tf.TensorShape([chunk_size, units])\n",
    "        self.output_size = tf.TensorShape([chunk_size, units])\n",
    "\n",
    "        # This is the point where we need to add our custom logic\n",
    "        # instead of the MLP\n",
    "        self.perceptual_module = []\n",
    "        self.mlp = keras.Sequential(\n",
    "            [\n",
    "                layers.Dense(units, activation=\"relu\"),\n",
    "                layers.Dense(units * 4, activation=\"relu\"),\n",
    "                layers.Dense(units, activation=\"relu\"),\n",
    "            ]\n",
    "        )\n",
    "\n",
    "        super().__init__(**kwargs)\n",
    "\n",
    "    def call(self, inputs, states):\n",
    "        # inputs => (batch, chunk_size, dims)\n",
    "        # states => [(batch, chunk_size, units)]\n",
    "\n",
    "        prev_state = states[0]\n",
    "\n",
    "        outputs = self.mlp(inputs)\n",
    "        new_state = outputs + prev_state\n",
    "\n",
    "        return outputs, [new_state]\n",
    "\n",
    "    def get_config(self):\n",
    "        return {\"units\": self.units, \"chunk_size\": self.chunk_size}"
   ]
  },
  {
   "cell_type": "markdown",
   "metadata": {
    "id": "_oAS3TzJXbd6"
   },
   "source": [
    "# Test the RNN Layer"
   ]
  },
  {
   "cell_type": "code",
   "execution_count": 83,
   "metadata": {
    "colab": {
     "base_uri": "https://localhost:8080/"
    },
    "id": "g9pNr433pO4R",
    "outputId": "24a6f899-e171-4ede-8795-e98358438986"
   },
   "outputs": [
    {
     "data": {
      "text/plain": [
       "TensorShape([64, 10, 8, 32])"
      ]
     },
     "execution_count": 83,
     "metadata": {},
     "output_type": "execute_result"
    }
   ],
   "source": [
    "keras.backend.clear_session()\n",
    "\n",
    "units = 32\n",
    "chunk_size = 8\n",
    "\n",
    "dims = 16\n",
    "\n",
    "batch_size = 64\n",
    "num_batches = 10\n",
    "timestep = 80\n",
    "\n",
    "inputs = tf.random.normal((batch_size, timestep // chunk_size, chunk_size, dims))\n",
    "\n",
    "cell = CustomCell(units=units, chunk_size=chunk_size)\n",
    "rnn = layers.RNN(cell, return_sequences=True)\n",
    "rnn(inputs).shape"
   ]
  }
 ],
 "metadata": {
  "colab": {
   "authorship_tag": "ABX9TyM0QQz5lVj6M2t9yIyFf1Bx",
   "provenance": []
  },
  "kernelspec": {
   "display_name": "Python 3",
   "language": "python",
   "name": "python3"
  },
  "language_info": {
   "name": "python",
   "version": "3.11.1"
  },
  "vscode": {
   "interpreter": {
    "hash": "e7370f93d1d0cde622a1f8e1c04877d8463912d04d973331ad4851f04de6915a"
   }
  }
 },
 "nbformat": 4,
 "nbformat_minor": 0
}
