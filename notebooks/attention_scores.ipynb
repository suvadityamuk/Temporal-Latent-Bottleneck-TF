{
 "nbformat": 4,
 "nbformat_minor": 0,
 "metadata": {
  "colab": {
   "provenance": [],
   "machine_shape": "hm",
   "authorship_tag": "ABX9TyPX1RrlHcNG5bNdACVtyEFF",
   "include_colab_link": true
  },
  "kernelspec": {
   "name": "python3",
   "display_name": "Python 3"
  },
  "language_info": {
   "name": "python"
  },
  "gpuClass": "premium",
  "accelerator": "GPU"
 },
 "cells": [
  {
   "cell_type": "markdown",
   "metadata": {
    "id": "view-in-github",
    "colab_type": "text"
   },
   "source": [
    "<a href=\"https://colab.research.google.com/github/suvadityamuk/Temporal-Latent-Bottleneck-TF/blob/main/notebooks/attention_scores.ipynb\" target=\"_parent\"><img src=\"https://colab.research.google.com/assets/colab-badge.svg\" alt=\"Open In Colab\"/></a>"
   ]
  },
  {
   "cell_type": "code",
   "source": [
    "!nvidia-smi"
   ],
   "metadata": {
    "colab": {
     "base_uri": "https://localhost:8080/"
    },
    "id": "z0Ae5PLbi0z6",
    "outputId": "40e4f05f-4c5d-47b6-c63d-eb7a9c94b13d"
   },
   "execution_count": 31,
   "outputs": [
    {
     "output_type": "stream",
     "name": "stdout",
     "text": [
      "Thu Mar  9 13:24:30 2023       \n",
      "+-----------------------------------------------------------------------------+\n",
      "| NVIDIA-SMI 525.85.12    Driver Version: 525.85.12    CUDA Version: 12.0     |\n",
      "|-------------------------------+----------------------+----------------------+\n",
      "| GPU  Name        Persistence-M| Bus-Id        Disp.A | Volatile Uncorr. ECC |\n",
      "| Fan  Temp  Perf  Pwr:Usage/Cap|         Memory-Usage | GPU-Util  Compute M. |\n",
      "|                               |                      |               MIG M. |\n",
      "|===============================+======================+======================|\n",
      "|   0  NVIDIA A100-SXM...  Off  | 00000000:00:04.0 Off |                    0 |\n",
      "| N/A   30C    P0    50W / 400W |   9561MiB / 40960MiB |      0%      Default |\n",
      "|                               |                      |             Disabled |\n",
      "+-------------------------------+----------------------+----------------------+\n",
      "                                                                               \n",
      "+-----------------------------------------------------------------------------+\n",
      "| Processes:                                                                  |\n",
      "|  GPU   GI   CI        PID   Type   Process name                  GPU Memory |\n",
      "|        ID   ID                                                   Usage      |\n",
      "|=============================================================================|\n",
      "+-----------------------------------------------------------------------------+\n"
     ]
    }
   ]
  },
  {
   "cell_type": "markdown",
   "source": [
    "# Imports"
   ],
   "metadata": {
    "id": "HejkilXVMTGs"
   }
  },
  {
   "cell_type": "code",
   "source": [
    "!pip install -q tensorflow==2.11.0"
   ],
   "metadata": {
    "id": "94e30EYbLNfw"
   },
   "execution_count": 1,
   "outputs": []
  },
  {
   "cell_type": "code",
   "source": [
    "import numpy as np\n",
    "import tensorflow as tf\n",
    "from tensorflow import keras\n",
    "from tensorflow.keras import layers\n",
    "from tensorflow.keras.optimizers.experimental import AdamW\n",
    "from typing import Tuple\n",
    "from matplotlib import pyplot as plt\n",
    "\n",
    "# Set seed for reproducibility.\n",
    "tf.keras.utils.set_random_seed(42)"
   ],
   "metadata": {
    "id": "hb66VOLCLHjC"
   },
   "execution_count": 2,
   "outputs": []
  },
  {
   "cell_type": "code",
   "source": [
    "print(tf.__version__)"
   ],
   "metadata": {
    "colab": {
     "base_uri": "https://localhost:8080/"
    },
    "id": "z9AwzrziLVkw",
    "outputId": "33a9f275-0b10-4016-d5b7-bee277ad4287"
   },
   "execution_count": 3,
   "outputs": [
    {
     "output_type": "stream",
     "name": "stdout",
     "text": [
      "2.11.0\n"
     ]
    }
   ]
  },
  {
   "cell_type": "markdown",
   "source": [
    "# Configurations"
   ],
   "metadata": {
    "id": "jpqYrqLiMUQ5"
   }
  },
  {
   "cell_type": "code",
   "source": [
    "# DATA\n",
    "TRAIN_SLICE = 40000\n",
    "BATCH_SIZE = 1024\n",
    "BUFFER_SIZE = BATCH_SIZE * 2\n",
    "AUTO = tf.data.AUTOTUNE\n",
    "INPUT_SHAPE = (32, 32, 3)\n",
    "IMAGE_SIZE = 48\n",
    "NUM_CLASSES = 10\n",
    "\n",
    "# OPTIMIZER\n",
    "LEARNING_RATE = 5e-3\n",
    "WEIGHT_DECAY = 1e-4\n",
    "\n",
    "# TRAINING\n",
    "EPOCHS = 50\n",
    "\n",
    "# MODEL\n",
    "PATCH_SIZE = 4\n",
    "EMBED_DIM = 64\n",
    "CHUNK_SIZE = 8\n",
    "R = 2\n",
    "NUM_LAYERS = 4\n",
    "FFN_DROP = 0.1\n",
    "ATTN_DROP = 0.1\n",
    "NUM_HEADS = 1"
   ],
   "metadata": {
    "id": "IJDSbV2bCfOo"
   },
   "execution_count": 4,
   "outputs": []
  },
  {
   "cell_type": "markdown",
   "source": [
    "# Datasets"
   ],
   "metadata": {
    "id": "7jxku70OMWhs"
   }
  },
  {
   "cell_type": "code",
   "source": [
    "(x_train, y_train), (x_test, y_test) = keras.datasets.cifar10.load_data()\n",
    "(x_train, y_train), (x_val, y_val) = (\n",
    "    (x_train[:TRAIN_SLICE], y_train[:TRAIN_SLICE]),\n",
    "    (x_train[TRAIN_SLICE:], y_train[TRAIN_SLICE:]),\n",
    ")"
   ],
   "metadata": {
    "colab": {
     "base_uri": "https://localhost:8080/"
    },
    "id": "TLSxYNjFCloE",
    "outputId": "15122044-62e1-4a06-9ee8-21419f07ab77"
   },
   "execution_count": 5,
   "outputs": [
    {
     "output_type": "stream",
     "name": "stdout",
     "text": [
      "Downloading data from https://www.cs.toronto.edu/~kriz/cifar-10-python.tar.gz\n",
      "170498071/170498071 [==============================] - 2s 0us/step\n"
     ]
    }
   ]
  },
  {
   "cell_type": "code",
   "source": [
    "# Build the `train` augmentation pipeline.\n",
    "train_aug = keras.Sequential(\n",
    "    [\n",
    "        layers.Rescaling(1 / 255.0),\n",
    "        layers.Resizing(INPUT_SHAPE[0] + 20, INPUT_SHAPE[0] + 20),\n",
    "        layers.RandomCrop(IMAGE_SIZE, IMAGE_SIZE),\n",
    "        layers.RandomFlip(\"horizontal\"),\n",
    "    ],\n",
    "    name=\"train_data_augmentation\",\n",
    ")\n",
    "\n",
    "# Build the `val` and `test` data pipeline.\n",
    "test_aug = keras.Sequential(\n",
    "    [\n",
    "        layers.Rescaling(1 / 255.0),\n",
    "        layers.Resizing(IMAGE_SIZE, IMAGE_SIZE),\n",
    "    ],\n",
    "    name=\"test_data_augmentation\",\n",
    ")"
   ],
   "metadata": {
    "id": "VmRBDXphCoDu"
   },
   "execution_count": 6,
   "outputs": []
  },
  {
   "cell_type": "code",
   "source": [
    "def train_map_fn(image, label):\n",
    "    return train_aug(image), label\n",
    "\n",
    "\n",
    "def test_map_fn(image, label):\n",
    "    return test_aug(image), label"
   ],
   "metadata": {
    "id": "va4h0jW-Crze"
   },
   "execution_count": 7,
   "outputs": []
  },
  {
   "cell_type": "code",
   "source": [
    "train_ds = tf.data.Dataset.from_tensor_slices((x_train, y_train))\n",
    "train_ds = (\n",
    "    train_ds.map(train_map_fn, num_parallel_calls=AUTO)\n",
    "    .shuffle(BUFFER_SIZE)\n",
    "    .batch(BATCH_SIZE)\n",
    "    .prefetch(AUTO)\n",
    ")\n",
    "\n",
    "val_ds = tf.data.Dataset.from_tensor_slices((x_val, y_val))\n",
    "val_ds = (\n",
    "    val_ds.map(test_map_fn, num_parallel_calls=AUTO).batch(BATCH_SIZE).prefetch(AUTO)\n",
    ")\n",
    "\n",
    "test_ds = tf.data.Dataset.from_tensor_slices((x_test, y_test))\n",
    "test_ds = (\n",
    "    test_ds.map(test_map_fn, num_parallel_calls=AUTO).batch(BATCH_SIZE).prefetch(AUTO)\n",
    ")"
   ],
   "metadata": {
    "id": "tFJToGQFCo3i"
   },
   "execution_count": 8,
   "outputs": []
  },
  {
   "cell_type": "code",
   "source": [
    "for image, label in train_ds.take(1):\n",
    "    print(image.shape)\n",
    "    print(label.shape)"
   ],
   "metadata": {
    "colab": {
     "base_uri": "https://localhost:8080/"
    },
    "id": "2dZ0UnVlDGO4",
    "outputId": "02873d90-f7f6-4ff8-c441-f58fe0aea60d"
   },
   "execution_count": 9,
   "outputs": [
    {
     "output_type": "stream",
     "name": "stdout",
     "text": [
      "(512, 48, 48, 3)\n",
      "(512, 1)\n"
     ]
    }
   ]
  },
  {
   "cell_type": "markdown",
   "source": [
    "# PatchEmbedding"
   ],
   "metadata": {
    "id": "9FpQDW0eDQwF"
   }
  },
  {
   "cell_type": "code",
   "source": [
    "class PatchEmbed(layers.Layer):\n",
    "    \"\"\"Image patch embedding layer.\n",
    "\n",
    "    Args:\n",
    "        image_size (Tuple[int]): Input image resolution.\n",
    "        patch_size (Tuple[int]): Patch spatial resolution.\n",
    "        embed_dim (int): Embedding dimension.\n",
    "        add_pos_info (bool): Whether to add positional information to tokens.\n",
    "    \"\"\"\n",
    "\n",
    "    def __init__(\n",
    "        self,\n",
    "        image_size: Tuple[int] = (48, 48),\n",
    "        patch_size: Tuple[int] = (4, 4),\n",
    "        embed_dim: int = 32,\n",
    "        chunk_size: int = 8,\n",
    "        **kwargs,\n",
    "    ):\n",
    "        super().__init__(**kwargs)\n",
    "        patch_resolution = [\n",
    "            image_size[0] // patch_size[0],\n",
    "            image_size[1] // patch_size[1],\n",
    "        ]\n",
    "        self.image_size = image_size\n",
    "        self.patch_size = patch_size\n",
    "        self.embed_dim = embed_dim\n",
    "        self.patch_resolution = patch_resolution\n",
    "        self.num_patches = patch_resolution[0] * patch_resolution[1]\n",
    "        self.proj = layers.Conv2D(\n",
    "            filters=embed_dim, kernel_size=patch_size, strides=patch_size\n",
    "        )\n",
    "        self.flatten = layers.Reshape(target_shape=(-1, embed_dim))\n",
    "        self.position_embedding = layers.Embedding(\n",
    "            input_dim=self.num_patches, output_dim=embed_dim\n",
    "        )\n",
    "        self.positions = tf.range(start=0, limit=self.num_patches, delta=1)\n",
    "        self.norm = keras.layers.LayerNormalization(epsilon=1e-5)\n",
    "        self.chunking_layer = layers.Reshape(\n",
    "            target_shape=(self.num_patches // chunk_size, chunk_size, embed_dim)\n",
    "        )\n",
    "\n",
    "    def call(self, x: tf.Tensor) -> Tuple[tf.Tensor, int, int, int]:\n",
    "        \"\"\"Patchifies the image, converts into tokens and adds pos information.\n",
    "\n",
    "        Args:\n",
    "            x: Tensor of shape (B, H, W, C)\n",
    "\n",
    "        Returns:\n",
    "            A tuple of the processed tensor, height of the projected\n",
    "            feature map, width of the projected feature map, number\n",
    "            of channels of the projected feature map.\n",
    "        \"\"\"\n",
    "        # Project the inputs.\n",
    "        x = self.proj(x)\n",
    "        x = self.flatten(x)\n",
    "        x = x + self.position_embedding(self.positions)\n",
    "\n",
    "        # B, H, W, C -> B, H*W, C\n",
    "        x = self.norm(x)\n",
    "\n",
    "        # Chunk the tokens in K\n",
    "        x = self.chunking_layer(x)\n",
    "\n",
    "        return x"
   ],
   "metadata": {
    "id": "Q9w8rUdFDMkP"
   },
   "execution_count": 10,
   "outputs": []
  },
  {
   "cell_type": "markdown",
   "source": [
    "# FFN"
   ],
   "metadata": {
    "id": "ApnyYrSTDnwy"
   }
  },
  {
   "cell_type": "code",
   "source": [
    "class FeedForwardNetwork(layers.Layer):\n",
    "    \"\"\"Feed Forward Network.\n",
    "\n",
    "    Args:\n",
    "        dims (`int`): Dimension of the FFN.\n",
    "        dropout (`float`): Dropout probability of FFN.\n",
    "    \"\"\"\n",
    "\n",
    "    def __init__(self, dims: int, dropout: float = 0.1, **kwargs):\n",
    "        super().__init__(**kwargs)\n",
    "        self.ffn = keras.Sequential(\n",
    "            [\n",
    "                layers.Dense(units=4 * dims, activation=tf.nn.gelu),\n",
    "                layers.Dense(units=dims),\n",
    "                layers.Dropout(rate=dropout),\n",
    "            ]\n",
    "        )\n",
    "        self.add = layers.Add()\n",
    "        self.layernorm = layers.LayerNormalization(epsilon=1e-5)\n",
    "\n",
    "    def call(self, inputs: tf.Tensor):\n",
    "        x = self.layernorm(inputs)\n",
    "        x = self.add([inputs, self.ffn(x)])\n",
    "        return x"
   ],
   "metadata": {
    "id": "a_ztuHnGDcAR"
   },
   "execution_count": 11,
   "outputs": []
  },
  {
   "cell_type": "markdown",
   "source": [
    "# Attention"
   ],
   "metadata": {
    "id": "eVH2CUFDDq3d"
   }
  },
  {
   "cell_type": "code",
   "source": [
    "class Attention(layers.Layer):\n",
    "    \"\"\"The base attention module.\n",
    "\n",
    "    Args:\n",
    "        num_heads (`int`): Number of attention heads.\n",
    "        key_dim (`int`): Size of each attention head for query and key.\n",
    "        dropout (`float`): Dropout probability for Attention Module.\n",
    "\n",
    "    \"\"\"\n",
    "\n",
    "    def __init__(self, num_heads: int, key_dim: int, dropout: float = 0.1, **kwargs):\n",
    "        super().__init__(**kwargs)\n",
    "        self.mha = layers.MultiHeadAttention(num_heads, key_dim, dropout=dropout)\n",
    "        self.q_layernorm = layers.LayerNormalization(epsilon=1e-5)\n",
    "        self.k_layernorm = layers.LayerNormalization(epsilon=1e-5)\n",
    "        self.v_layernorm = layers.LayerNormalization(epsilon=1e-5)\n",
    "        self.add = layers.Add()\n",
    "\n",
    "    def call(self, input_query: tf.Tensor, key: tf.Tensor, value: tf.Tensor):\n",
    "        query = self.q_layernorm(input_query)\n",
    "        key = self.k_layernorm(key)\n",
    "        value = self.v_layernorm(value)\n",
    "        (attn_outs, attn_scores) = self.mha(\n",
    "            query=query,\n",
    "            key=key,\n",
    "            value=value,\n",
    "            return_attention_scores=True,\n",
    "        )\n",
    "        self.attn_scores = attn_scores\n",
    "        x = self.add([input_query, attn_outs])\n",
    "        return x"
   ],
   "metadata": {
    "id": "Tap3IUcGDrZ1"
   },
   "execution_count": 12,
   "outputs": []
  },
  {
   "cell_type": "code",
   "source": [
    "class AttentionWithFFN(layers.Layer):\n",
    "    \"\"\"Self-attention module with FFN\n",
    "\n",
    "    Args:\n",
    "        ffn_dims (`int`): Number of units in FFN.\n",
    "        ffn_dropout (`float`): Dropout probability for FFN.\n",
    "        num_heads (`int`): Number of attention heads.\n",
    "        key_dim (`int`): Size of each attention head for query and key.\n",
    "        attn_dropout (`float`): Dropout probability for attention module.\n",
    "    \"\"\"\n",
    "\n",
    "    def __init__(\n",
    "        self,\n",
    "        ffn_dims: int = 128,\n",
    "        ffn_dropout: float = 0.1,\n",
    "        num_heads: int = 4,\n",
    "        key_dim: int = 256,\n",
    "        attn_dropout: float = 0.1,\n",
    "        **kwargs\n",
    "    ):\n",
    "        super().__init__(**kwargs)\n",
    "        self.attention = Attention(num_heads, key_dim, attn_dropout)\n",
    "        self.ffn = FeedForwardNetwork(ffn_dims, ffn_dropout)\n",
    "\n",
    "    def call(self, query: tf.Tensor, key: tf.Tensor, value: tf.Tensor):\n",
    "        x = self.attention(query, key, value)\n",
    "        self.attn_scores = self.attention.attn_scores\n",
    "        x = self.ffn(x)\n",
    "        return x"
   ],
   "metadata": {
    "id": "rOH4DFJKDr5n"
   },
   "execution_count": 13,
   "outputs": []
  },
  {
   "cell_type": "markdown",
   "source": [
    "# Recurrence"
   ],
   "metadata": {
    "id": "QFRetSjPD8Cx"
   }
  },
  {
   "cell_type": "code",
   "source": [
    "class CustomCell(layers.Layer):\n",
    "    \"\"\"Custom logic inside each recurrence.\n",
    "\n",
    "    Args:\n",
    "        chunk_size (`int`): Chunk size of the inputs.\n",
    "        r (`int`): One Cross Attention per **r** Self Attention.\n",
    "        num_layers (`int`): Number of layers in the Perceptual Model.\n",
    "        ffn_dims (`int`): Number of units in FFN.\n",
    "        ffn_dropout (`float`): Dropout probability for FFN.\n",
    "        num_heads (`int`): Number of attention heads.\n",
    "        key_dim (`int`): Size of each attention head for query and key.\n",
    "        attn_dropout (`float`): Dropout probability for attention module.\n",
    "    \"\"\"\n",
    "\n",
    "    def __init__(\n",
    "        self,\n",
    "        chunk_size,\n",
    "        r=2,\n",
    "        num_layers: int = 5,\n",
    "        ffn_dims: int = 128,\n",
    "        ffn_dropout: float = 0.1,\n",
    "        num_heads: int = 4,\n",
    "        key_dim: int = 256,\n",
    "        attn_dropout: float = 0.1,\n",
    "        **kwargs,\n",
    "    ):\n",
    "        super().__init__(**kwargs)\n",
    "        self.chunk_size = chunk_size\n",
    "        self.r = r\n",
    "        self.num_layers = num_layers\n",
    "        self.ffn_dims = ffn_dims\n",
    "        self.ffn_droput = ffn_dropout\n",
    "        self.num_heads = num_heads\n",
    "        self.key_dim = key_dim\n",
    "        self.attn_dropout = attn_dropout\n",
    "\n",
    "        self.state_size = tf.TensorShape([chunk_size, ffn_dims])\n",
    "        self.output_size = tf.TensorShape([chunk_size, ffn_dims])\n",
    "\n",
    "        self.get_attn_scores = False\n",
    "        self.attn_scores = []\n",
    "\n",
    "        ########################################################################\n",
    "        # Perceptual Module\n",
    "        ########################################################################\n",
    "        perceptual_module = list()\n",
    "        for layer_idx in range(num_layers):\n",
    "            perceptual_module.append(\n",
    "                AttentionWithFFN(\n",
    "                    ffn_dims=ffn_dims,\n",
    "                    ffn_dropout=ffn_dropout,\n",
    "                    num_heads=num_heads,\n",
    "                    key_dim=key_dim,\n",
    "                    attn_dropout=attn_dropout,\n",
    "                    name=f\"PM_SelfAttentionFFN{layer_idx}\",\n",
    "                )\n",
    "            )\n",
    "            if layer_idx % r == 0:\n",
    "                perceptual_module.append(\n",
    "                    AttentionWithFFN(\n",
    "                        ffn_dims=ffn_dims,\n",
    "                        ffn_dropout=ffn_dropout,\n",
    "                        num_heads=num_heads,\n",
    "                        key_dim=key_dim,\n",
    "                        attn_dropout=attn_dropout,\n",
    "                        name=f\"PM_CrossAttentionFFN{layer_idx}\",\n",
    "                    )\n",
    "                )\n",
    "        self.perceptual_module = perceptual_module\n",
    "\n",
    "        ########################################################################\n",
    "        # Temporal Latent Bottleneck Module\n",
    "        ########################################################################\n",
    "        self.tlb_module = AttentionWithFFN(\n",
    "            ffn_dims=ffn_dims,\n",
    "            ffn_dropout=ffn_dropout,\n",
    "            num_heads=num_heads,\n",
    "            key_dim=key_dim,\n",
    "            attn_dropout=attn_dropout,\n",
    "            name=f\"TLBM_CrossAttentionFFN\",\n",
    "        )\n",
    "\n",
    "    def call(self, inputs, states, training=None):\n",
    "        # inputs => (batch, chunk_size, dims)\n",
    "        # states => [(batch, chunk_size, units)]\n",
    "\n",
    "        slow_stream = states[0]\n",
    "        fast_stream = inputs\n",
    "\n",
    "        for layer_idx, layer in enumerate(self.perceptual_module):\n",
    "            fast_stream = layer(query=fast_stream, key=fast_stream, value=fast_stream)\n",
    "\n",
    "            if layer_idx % self.r == 0:\n",
    "                fast_stream = layer(\n",
    "                    query=fast_stream, key=slow_stream, value=slow_stream\n",
    "                )\n",
    "\n",
    "        slow_stream = self.tlb_module(\n",
    "            query=slow_stream, key=fast_stream, value=fast_stream\n",
    "        )\n",
    "\n",
    "        if self.get_attn_scores:\n",
    "            self.attn_scores.append(self.tlb_module.attn_scores)\n",
    "\n",
    "        return fast_stream, [slow_stream]"
   ],
   "metadata": {
    "id": "QT4kMDPnDuBP"
   },
   "execution_count": 14,
   "outputs": []
  },
  {
   "cell_type": "markdown",
   "source": [
    "# Build the model"
   ],
   "metadata": {
    "id": "ZiHEV98_QxCS"
   }
  },
  {
   "cell_type": "code",
   "source": [
    "class ModelTrainer(keras.Model):\n",
    "    def __init__(self, patch_layer, custom_cell, **kwargs):\n",
    "        super().__init__(**kwargs)\n",
    "        self.patch_layer = patch_layer\n",
    "        self.rnn = layers.RNN(custom_cell)\n",
    "        self.gap = layers.GlobalAveragePooling1D()\n",
    "        self.head = layers.Dense(10, activation=\"softmax\")\n",
    "\n",
    "    def call(self, inputs):\n",
    "        x = self.patch_layer(inputs)\n",
    "        x = self.rnn(x)\n",
    "        x = self.gap(x)\n",
    "        outputs = self.head(x)\n",
    "        return outputs"
   ],
   "metadata": {
    "id": "1aNjF5SXRMo9"
   },
   "execution_count": 15,
   "outputs": []
  },
  {
   "cell_type": "code",
   "source": [
    "keras.backend.clear_session()\n",
    "\n",
    "# PATCH\n",
    "patch_layer = PatchEmbed(\n",
    "    image_size=(IMAGE_SIZE, IMAGE_SIZE),\n",
    "    patch_size=(PATCH_SIZE, PATCH_SIZE),\n",
    "    embed_dim=EMBED_DIM,\n",
    "    chunk_size=CHUNK_SIZE,\n",
    ")\n",
    "\n",
    "# RECURRENCE\n",
    "cell = CustomCell(\n",
    "    chunk_size=CHUNK_SIZE,\n",
    "    r=R,\n",
    "    num_layers=NUM_LAYERS,\n",
    "    ffn_dims=EMBED_DIM,\n",
    "    ffn_dropout=FFN_DROP,\n",
    "    num_heads=NUM_HEADS,\n",
    "    key_dim=EMBED_DIM,\n",
    "    attn_dropout=ATTN_DROP,\n",
    ")\n",
    "\n",
    "\n",
    "model = ModelTrainer(patch_layer, cell)"
   ],
   "metadata": {
    "id": "Z9EngzvgD99W"
   },
   "execution_count": 16,
   "outputs": []
  },
  {
   "cell_type": "code",
   "source": [
    "# Some code is taken from:\n",
    "# https://www.kaggle.com/ashusma/training-rfcx-tensorflow-tpu-effnet-b2.\n",
    "class WarmUpCosine(keras.optimizers.schedules.LearningRateSchedule):\n",
    "    def __init__(\n",
    "        self, learning_rate_base, total_steps, warmup_learning_rate, warmup_steps\n",
    "    ):\n",
    "        super().__init__()\n",
    "        self.learning_rate_base = learning_rate_base\n",
    "        self.total_steps = total_steps\n",
    "        self.warmup_learning_rate = warmup_learning_rate\n",
    "        self.warmup_steps = warmup_steps\n",
    "        self.pi = tf.constant(np.pi)\n",
    "\n",
    "    def __call__(self, step):\n",
    "        if self.total_steps < self.warmup_steps:\n",
    "            raise ValueError(\"Total_steps must be larger or equal to warmup_steps.\")\n",
    "        cos_annealed_lr = tf.cos(\n",
    "            self.pi\n",
    "            * (tf.cast(step, tf.float32) - self.warmup_steps)\n",
    "            / float(self.total_steps - self.warmup_steps)\n",
    "        )\n",
    "        learning_rate = 0.5 * self.learning_rate_base * (1 + cos_annealed_lr)\n",
    "        if self.warmup_steps > 0:\n",
    "            if self.learning_rate_base < self.warmup_learning_rate:\n",
    "                raise ValueError(\n",
    "                    \"Learning_rate_base must be larger or equal to \"\n",
    "                    \"warmup_learning_rate.\"\n",
    "                )\n",
    "            slope = (\n",
    "                self.learning_rate_base - self.warmup_learning_rate\n",
    "            ) / self.warmup_steps\n",
    "            warmup_rate = slope * tf.cast(step, tf.float32) + self.warmup_learning_rate\n",
    "            learning_rate = tf.where(\n",
    "                step < self.warmup_steps, warmup_rate, learning_rate\n",
    "            )\n",
    "        return tf.where(\n",
    "            step > self.total_steps, 0.0, learning_rate, name=\"learning_rate\"\n",
    "        )\n",
    "\n",
    "\n",
    "total_steps = int((len(x_train) / BATCH_SIZE) * EPOCHS)\n",
    "warmup_epoch_percentage = 0.15\n",
    "warmup_steps = int(total_steps * warmup_epoch_percentage)\n",
    "scheduled_lrs = WarmUpCosine(\n",
    "    learning_rate_base=LEARNING_RATE,\n",
    "    total_steps=total_steps,\n",
    "    warmup_learning_rate=0.0,\n",
    "    warmup_steps=warmup_steps,\n",
    ")"
   ],
   "metadata": {
    "id": "_EpuEVpAyudV"
   },
   "execution_count": 17,
   "outputs": []
  },
  {
   "cell_type": "code",
   "source": [
    "# optimizer = AdamW(learning_rate=scheduled_lrs, weight_decay=WEIGHT_DECAY)\n",
    "optimizer = AdamW(learning_rate=1e-4, weight_decay=1e-4)\n",
    "\n",
    "# Compile and train the model.\n",
    "model.compile(\n",
    "    optimizer=optimizer,\n",
    "    loss=\"sparse_categorical_crossentropy\",\n",
    "    metrics=[\"accuracy\"],\n",
    "    # jit_compile=True,\n",
    ")\n",
    "history = model.fit(\n",
    "    train_ds,\n",
    "    epochs=EPOCHS,\n",
    "    validation_data=val_ds,\n",
    ")"
   ],
   "metadata": {
    "colab": {
     "base_uri": "https://localhost:8080/"
    },
    "id": "-7pwBfVwFdPv",
    "outputId": "f34524ce-1d23-400d-ad5c-1ffe19410717"
   },
   "execution_count": 18,
   "outputs": [
    {
     "output_type": "stream",
     "name": "stdout",
     "text": [
      "Epoch 1/50\n",
      "79/79 [==============================] - 180s 1s/step - loss: 2.2683 - accuracy: 0.1646 - val_loss: 2.0775 - val_accuracy: 0.2522\n",
      "Epoch 2/50\n",
      "79/79 [==============================] - 94s 1s/step - loss: 2.0341 - accuracy: 0.2515 - val_loss: 2.0297 - val_accuracy: 0.2658\n",
      "Epoch 3/50\n",
      "79/79 [==============================] - 94s 1s/step - loss: 1.9539 - accuracy: 0.2839 - val_loss: 1.9202 - val_accuracy: 0.2996\n",
      "Epoch 4/50\n",
      "79/79 [==============================] - 93s 1s/step - loss: 1.8590 - accuracy: 0.3218 - val_loss: 1.8136 - val_accuracy: 0.3487\n",
      "Epoch 5/50\n",
      "79/79 [==============================] - 94s 1s/step - loss: 1.7378 - accuracy: 0.3631 - val_loss: 1.6913 - val_accuracy: 0.3818\n",
      "Epoch 6/50\n",
      "79/79 [==============================] - 93s 1s/step - loss: 1.6544 - accuracy: 0.3915 - val_loss: 1.6079 - val_accuracy: 0.4150\n",
      "Epoch 7/50\n",
      "79/79 [==============================] - 94s 1s/step - loss: 1.5874 - accuracy: 0.4141 - val_loss: 1.5316 - val_accuracy: 0.4408\n",
      "Epoch 8/50\n",
      "79/79 [==============================] - 94s 1s/step - loss: 1.5424 - accuracy: 0.4320 - val_loss: 1.5077 - val_accuracy: 0.4517\n",
      "Epoch 9/50\n",
      "79/79 [==============================] - 94s 1s/step - loss: 1.5114 - accuracy: 0.4432 - val_loss: 1.4688 - val_accuracy: 0.4680\n",
      "Epoch 10/50\n",
      "79/79 [==============================] - 94s 1s/step - loss: 1.4784 - accuracy: 0.4566 - val_loss: 1.4482 - val_accuracy: 0.4764\n",
      "Epoch 11/50\n",
      "79/79 [==============================] - 94s 1s/step - loss: 1.4462 - accuracy: 0.4697 - val_loss: 1.4509 - val_accuracy: 0.4832\n",
      "Epoch 12/50\n",
      "79/79 [==============================] - 93s 1s/step - loss: 1.4276 - accuracy: 0.4772 - val_loss: 1.3950 - val_accuracy: 0.4926\n",
      "Epoch 13/50\n",
      "79/79 [==============================] - 92s 1s/step - loss: 1.4058 - accuracy: 0.4854 - val_loss: 1.3767 - val_accuracy: 0.5040\n",
      "Epoch 14/50\n",
      "79/79 [==============================] - 93s 1s/step - loss: 1.3779 - accuracy: 0.4971 - val_loss: 1.3812 - val_accuracy: 0.4991\n",
      "Epoch 15/50\n",
      "79/79 [==============================] - 94s 1s/step - loss: 1.3645 - accuracy: 0.4999 - val_loss: 1.3390 - val_accuracy: 0.5171\n",
      "Epoch 16/50\n",
      "79/79 [==============================] - 94s 1s/step - loss: 1.3457 - accuracy: 0.5088 - val_loss: 1.3420 - val_accuracy: 0.5181\n",
      "Epoch 17/50\n",
      "79/79 [==============================] - 94s 1s/step - loss: 1.3224 - accuracy: 0.5178 - val_loss: 1.3138 - val_accuracy: 0.5262\n",
      "Epoch 18/50\n",
      "79/79 [==============================] - 93s 1s/step - loss: 1.3005 - accuracy: 0.5262 - val_loss: 1.2851 - val_accuracy: 0.5377\n",
      "Epoch 19/50\n",
      "79/79 [==============================] - 93s 1s/step - loss: 1.2805 - accuracy: 0.5331 - val_loss: 1.3121 - val_accuracy: 0.5298\n",
      "Epoch 20/50\n",
      "79/79 [==============================] - 94s 1s/step - loss: 1.2768 - accuracy: 0.5368 - val_loss: 1.2741 - val_accuracy: 0.5411\n",
      "Epoch 21/50\n",
      "79/79 [==============================] - 93s 1s/step - loss: 1.2499 - accuracy: 0.5449 - val_loss: 1.2721 - val_accuracy: 0.5471\n",
      "Epoch 22/50\n",
      "79/79 [==============================] - 93s 1s/step - loss: 1.2371 - accuracy: 0.5505 - val_loss: 1.2377 - val_accuracy: 0.5575\n",
      "Epoch 23/50\n",
      "79/79 [==============================] - 93s 1s/step - loss: 1.2225 - accuracy: 0.5563 - val_loss: 1.2214 - val_accuracy: 0.5623\n",
      "Epoch 24/50\n",
      "79/79 [==============================] - 93s 1s/step - loss: 1.2168 - accuracy: 0.5587 - val_loss: 1.2278 - val_accuracy: 0.5591\n",
      "Epoch 25/50\n",
      "79/79 [==============================] - 93s 1s/step - loss: 1.1971 - accuracy: 0.5675 - val_loss: 1.2044 - val_accuracy: 0.5686\n",
      "Epoch 26/50\n",
      "79/79 [==============================] - 94s 1s/step - loss: 1.1860 - accuracy: 0.5727 - val_loss: 1.2331 - val_accuracy: 0.5570\n",
      "Epoch 27/50\n",
      "79/79 [==============================] - 93s 1s/step - loss: 1.1769 - accuracy: 0.5741 - val_loss: 1.1979 - val_accuracy: 0.5712\n",
      "Epoch 28/50\n",
      "79/79 [==============================] - 93s 1s/step - loss: 1.1670 - accuracy: 0.5782 - val_loss: 1.1877 - val_accuracy: 0.5755\n",
      "Epoch 29/50\n",
      "79/79 [==============================] - 92s 1s/step - loss: 1.1583 - accuracy: 0.5843 - val_loss: 1.1913 - val_accuracy: 0.5733\n",
      "Epoch 30/50\n",
      "79/79 [==============================] - 94s 1s/step - loss: 1.1410 - accuracy: 0.5859 - val_loss: 1.1735 - val_accuracy: 0.5818\n",
      "Epoch 31/50\n",
      "79/79 [==============================] - 93s 1s/step - loss: 1.1335 - accuracy: 0.5908 - val_loss: 1.1523 - val_accuracy: 0.5861\n",
      "Epoch 32/50\n",
      "79/79 [==============================] - 94s 1s/step - loss: 1.1253 - accuracy: 0.5942 - val_loss: 1.1563 - val_accuracy: 0.5846\n",
      "Epoch 33/50\n",
      "79/79 [==============================] - 93s 1s/step - loss: 1.1257 - accuracy: 0.5946 - val_loss: 1.1477 - val_accuracy: 0.5853\n",
      "Epoch 34/50\n",
      "79/79 [==============================] - 93s 1s/step - loss: 1.1017 - accuracy: 0.6025 - val_loss: 1.1469 - val_accuracy: 0.5898\n",
      "Epoch 35/50\n",
      "79/79 [==============================] - 93s 1s/step - loss: 1.1055 - accuracy: 0.6025 - val_loss: 1.1223 - val_accuracy: 0.5981\n",
      "Epoch 36/50\n",
      "79/79 [==============================] - 93s 1s/step - loss: 1.0891 - accuracy: 0.6070 - val_loss: 1.1265 - val_accuracy: 0.5990\n",
      "Epoch 37/50\n",
      "79/79 [==============================] - 92s 1s/step - loss: 1.0894 - accuracy: 0.6085 - val_loss: 1.1282 - val_accuracy: 0.6001\n",
      "Epoch 38/50\n",
      "79/79 [==============================] - 93s 1s/step - loss: 1.0795 - accuracy: 0.6115 - val_loss: 1.0992 - val_accuracy: 0.6050\n",
      "Epoch 39/50\n",
      "79/79 [==============================] - 92s 1s/step - loss: 1.0612 - accuracy: 0.6175 - val_loss: 1.1076 - val_accuracy: 0.6080\n",
      "Epoch 40/50\n",
      "79/79 [==============================] - 92s 1s/step - loss: 1.0665 - accuracy: 0.6157 - val_loss: 1.1038 - val_accuracy: 0.6074\n",
      "Epoch 41/50\n",
      "79/79 [==============================] - 94s 1s/step - loss: 1.0467 - accuracy: 0.6240 - val_loss: 1.1004 - val_accuracy: 0.6082\n",
      "Epoch 42/50\n",
      "79/79 [==============================] - 94s 1s/step - loss: 1.0489 - accuracy: 0.6219 - val_loss: 1.0751 - val_accuracy: 0.6161\n",
      "Epoch 43/50\n",
      "79/79 [==============================] - 92s 1s/step - loss: 1.0398 - accuracy: 0.6230 - val_loss: 1.0811 - val_accuracy: 0.6153\n",
      "Epoch 44/50\n",
      "79/79 [==============================] - 93s 1s/step - loss: 1.0310 - accuracy: 0.6297 - val_loss: 1.0705 - val_accuracy: 0.6163\n",
      "Epoch 45/50\n",
      "79/79 [==============================] - 92s 1s/step - loss: 1.0248 - accuracy: 0.6322 - val_loss: 1.0581 - val_accuracy: 0.6216\n",
      "Epoch 46/50\n",
      "79/79 [==============================] - 93s 1s/step - loss: 1.0132 - accuracy: 0.6354 - val_loss: 1.0622 - val_accuracy: 0.6227\n",
      "Epoch 47/50\n",
      "79/79 [==============================] - 93s 1s/step - loss: 1.0146 - accuracy: 0.6378 - val_loss: 1.0441 - val_accuracy: 0.6271\n",
      "Epoch 48/50\n",
      "79/79 [==============================] - 94s 1s/step - loss: 0.9963 - accuracy: 0.6403 - val_loss: 1.0549 - val_accuracy: 0.6274\n",
      "Epoch 49/50\n",
      "79/79 [==============================] - 95s 1s/step - loss: 1.0003 - accuracy: 0.6393 - val_loss: 1.0421 - val_accuracy: 0.6284\n",
      "Epoch 50/50\n",
      "79/79 [==============================] - 95s 1s/step - loss: 0.9905 - accuracy: 0.6454 - val_loss: 1.0261 - val_accuracy: 0.6366\n"
     ]
    }
   ]
  },
  {
   "cell_type": "code",
   "source": [
    "plt.plot(history.history[\"loss\"], label=\"loss\")\n",
    "plt.plot(history.history[\"val_loss\"], label=\"val_loss\")\n",
    "plt.legend()\n",
    "plt.show()\n",
    "\n",
    "plt.plot(history.history[\"accuracy\"], label=\"accuracy\")\n",
    "plt.plot(history.history[\"val_accuracy\"], label=\"val_accuracy\")\n",
    "plt.legend()\n",
    "plt.show()"
   ],
   "metadata": {
    "colab": {
     "base_uri": "https://localhost:8080/",
     "height": 513
    },
    "id": "QtAaAc8zLhTi",
    "outputId": "8ad90b0a-7847-466d-d641-d20abfc9ccc7"
   },
   "execution_count": 19,
   "outputs": [
    {
     "output_type": "display_data",
     "data": {
      "text/plain": [
       "<Figure size 432x288 with 1 Axes>"
      ],
      "image/png": "[encoded data removed]"
     },
     "metadata": {
      "needs_background": "light"
     }
    },
    {
     "output_type": "display_data",
     "data": {
      "text/plain": [
       "<Figure size 432x288 with 1 Axes>"
      ],
      "image/png": "[encoded data removed]"
     },
     "metadata": {
      "needs_background": "light"
     }
    }
   ]
  },
  {
   "cell_type": "markdown",
   "source": [
    "# Visualize the Latent Bottleneck"
   ],
   "metadata": {
    "id": "46jtqZe1ZU-S"
   }
  },
  {
   "cell_type": "code",
   "source": [
    "images, labels = next(iter(test_ds))\n",
    "\n",
    "# Set the flag for attn score\n",
    "model.rnn.cell.get_attn_scores = True\n",
    "outputs = model(images)"
   ],
   "metadata": {
    "id": "T4mOZkr6ZUtu"
   },
   "execution_count": 20,
   "outputs": []
  },
  {
   "cell_type": "code",
   "source": [
    "# Grab the list of chunk scores\n",
    "list_chunk_scores = model.rnn.cell.attn_scores"
   ],
   "metadata": {
    "id": "kOlZjLck25ga"
   },
   "execution_count": 21,
   "outputs": []
  },
  {
   "cell_type": "code",
   "source": [
    "def score_to_viz(chunk_score):\n",
    "    chunk_viz = tf.math.reduce_max(chunk_score, axis=-2)  # get the most attended token\n",
    "    chunk_viz = tf.math.reduce_mean(chunk_viz, axis=1)  # get the mean across heads\n",
    "    return chunk_viz"
   ],
   "metadata": {
    "id": "7gs1eZGL6Q1i"
   },
   "execution_count": 22,
   "outputs": []
  },
  {
   "cell_type": "code",
   "source": [
    "list_chunk_viz = [score_to_viz(x) for x in list_chunk_scores]"
   ],
   "metadata": {
    "id": "_eynRKf13xM3"
   },
   "execution_count": 23,
   "outputs": []
  },
  {
   "cell_type": "code",
   "source": [
    "chunk_viz = tf.concat(list_chunk_viz[1:], axis=-1)\n",
    "chunk_viz = tf.reshape(\n",
    "    chunk_viz, (BATCH_SIZE, IMAGE_SIZE // PATCH_SIZE, IMAGE_SIZE // PATCH_SIZE, 1)\n",
    ")"
   ],
   "metadata": {
    "id": "9zmhicYN7DKG"
   },
   "execution_count": 24,
   "outputs": []
  },
  {
   "cell_type": "code",
   "source": [
    "upsampled_heat_map = layers.UpSampling2D(size=(4, 4), interpolation=\"bilinear\")(\n",
    "    chunk_viz\n",
    ")"
   ],
   "metadata": {
    "id": "ihBgmyV_3AH1"
   },
   "execution_count": 25,
   "outputs": []
  },
  {
   "cell_type": "code",
   "source": [
    "fig, ax = plt.subplots(nrows=1, ncols=2, figsize=(10, 5))\n",
    "\n",
    "index = 10\n",
    "orig_image = images[index]\n",
    "overlay_image = upsampled_heat_map[index, ..., 0]\n",
    "\n",
    "ax[0].imshow(orig_image)\n",
    "ax[0].set_title(\"Original:\")\n",
    "ax[0].axis(\"off\")\n",
    "\n",
    "image = ax[1].imshow(orig_image)\n",
    "ax[1].imshow(overlay_image, cmap=\"inferno\", alpha=0.6, extent=image.get_extent())\n",
    "ax[1].set_title(\"TLB Attention:\")\n",
    "\n",
    "plt.show()"
   ],
   "metadata": {
    "colab": {
     "base_uri": "https://localhost:8080/",
     "height": 318
    },
    "id": "Ju48l8DC3CJQ",
    "outputId": "d0370dbb-a79e-4435-b7ab-adf0a6fe646f"
   },
   "execution_count": 40,
   "outputs": [
    {
     "output_type": "display_data",
     "data": {
      "text/plain": [
       "<Figure size 720x360 with 2 Axes>"
      ],
      "image/png": "[encoded data removed]"
     },
     "metadata": {
      "needs_background": "light"
     }
    }
   ]
  },
  {
   "cell_type": "markdown",
   "source": [
    "# Save the model"
   ],
   "metadata": {
    "id": "vqB2B-oYindY"
   }
  },
  {
   "cell_type": "code",
   "source": [
    "model.summary()"
   ],
   "metadata": {
    "colab": {
     "base_uri": "https://localhost:8080/"
    },
    "id": "T0GmvHG9inIc",
    "outputId": "153565e7-977f-4610-8d14-894994f744f4"
   },
   "execution_count": 32,
   "outputs": [
    {
     "output_type": "stream",
     "name": "stdout",
     "text": [
      "Model: \"model_trainer\"\n",
      "_________________________________________________________________\n",
      " Layer (type)                Output Shape              Param #   \n",
      "=================================================================\n",
      " patch_embed (PatchEmbed)    multiple                  12480     \n",
      "                                                                 \n",
      " rnn (RNN)                   multiple                  351680    \n",
      "                                                                 \n",
      " global_average_pooling1d (G  multiple                 0         \n",
      " lobalAveragePooling1D)                                          \n",
      "                                                                 \n",
      " dense_14 (Dense)            multiple                  650       \n",
      "                                                                 \n",
      "=================================================================\n",
      "Total params: 364,810\n",
      "Trainable params: 364,810\n",
      "Non-trainable params: 0\n",
      "_________________________________________________________________\n"
     ]
    }
   ]
  }
 ]
}