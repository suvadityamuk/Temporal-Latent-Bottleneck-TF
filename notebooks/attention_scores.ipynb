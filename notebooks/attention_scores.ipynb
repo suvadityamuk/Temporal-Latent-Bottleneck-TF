{
  "nbformat": 4,
  "nbformat_minor": 0,
  "metadata": {
    "colab": {
      "provenance": [],
      "machine_shape": "hm",
      "authorship_tag": "ABX9TyN+mNqm5ZbcIO2tXfGGdqJI",
      "include_colab_link": true
    },
    "kernelspec": {
      "name": "python3",
      "display_name": "Python 3"
    },
    "language_info": {
      "name": "python"
    },
    "gpuClass": "premium",
    "accelerator": "GPU"
  },
  "cells": [
    {
      "cell_type": "markdown",
      "metadata": {
        "id": "view-in-github",
        "colab_type": "text"
      },
      "source": [
        "<a href=\"https://colab.research.google.com/github/suvadityamuk/Temporal-Latent-Bottleneck-TF/blob/main/notebooks/attention_scores.ipynb\" target=\"_parent\"><img src=\"https://colab.research.google.com/assets/colab-badge.svg\" alt=\"Open In Colab\"/></a>"
      ]
    },
    {
      "cell_type": "markdown",
      "source": [
        "# Imports"
      ],
      "metadata": {
        "id": "HejkilXVMTGs"
      }
    },
    {
      "cell_type": "code",
      "source": [
        "!pip install -q tensorflow==2.11.0"
      ],
      "metadata": {
        "id": "94e30EYbLNfw"
      },
      "execution_count": 1,
      "outputs": []
    },
    {
      "cell_type": "code",
      "source": [
        "import numpy as np\n",
        "import tensorflow as tf\n",
        "from tensorflow import keras\n",
        "from tensorflow.keras import layers\n",
        "from tensorflow.keras.optimizers.experimental import AdamW\n",
        "from typing import Tuple\n",
        "from matplotlib import pyplot as plt\n",
        "\n",
        "# Set seed for reproducibility.\n",
        "tf.keras.utils.set_random_seed(42)"
      ],
      "metadata": {
        "id": "hb66VOLCLHjC"
      },
      "execution_count": 2,
      "outputs": []
    },
    {
      "cell_type": "code",
      "source": [
        "print(tf.__version__)"
      ],
      "metadata": {
        "colab": {
          "base_uri": "https://localhost:8080/"
        },
        "id": "z9AwzrziLVkw",
        "outputId": "ef86a650-f0b7-4f9e-87df-69d5cf189b87"
      },
      "execution_count": 3,
      "outputs": [
        {
          "output_type": "stream",
          "name": "stdout",
          "text": [
            "2.11.0\n"
          ]
        }
      ]
    },
    {
      "cell_type": "markdown",
      "source": [
        "# Configurations"
      ],
      "metadata": {
        "id": "jpqYrqLiMUQ5"
      }
    },
    {
      "cell_type": "code",
      "source": [
        "# DATA\n",
        "TRAIN_SLICE = 40000\n",
        "BATCH_SIZE = 512\n",
        "BUFFER_SIZE = BATCH_SIZE*2\n",
        "AUTO = tf.data.AUTOTUNE\n",
        "INPUT_SHAPE = (32, 32, 3)\n",
        "IMAGE_SIZE = 48\n",
        "NUM_CLASSES = 10\n",
        "\n",
        "# OPTIMIZER\n",
        "LEARNING_RATE = 5e-3\n",
        "WEIGHT_DECAY = 1e-4\n",
        "\n",
        "# TRAINING\n",
        "EPOCHS = 10\n",
        "\n",
        "# MODEL\n",
        "PATCH_SIZE = 4\n",
        "EMBED_DIM = 64\n",
        "CHUNK_SIZE = 8\n",
        "R = 2\n",
        "NUM_LAYERS = 4\n",
        "FFN_DROP = 0.1\n",
        "ATTN_DROP = 0.1\n",
        "NUM_HEADS = 1"
      ],
      "metadata": {
        "id": "IJDSbV2bCfOo"
      },
      "execution_count": 4,
      "outputs": []
    },
    {
      "cell_type": "markdown",
      "source": [
        "# Datasets"
      ],
      "metadata": {
        "id": "7jxku70OMWhs"
      }
    },
    {
      "cell_type": "code",
      "source": [
        "(x_train, y_train), (x_test, y_test) = keras.datasets.cifar10.load_data()\n",
        "(x_train, y_train), (x_val, y_val) = (\n",
        "    (x_train[:TRAIN_SLICE], y_train[:TRAIN_SLICE]),\n",
        "    (x_train[TRAIN_SLICE:], y_train[TRAIN_SLICE:]),\n",
        ")"
      ],
      "metadata": {
        "colab": {
          "base_uri": "https://localhost:8080/"
        },
        "id": "TLSxYNjFCloE",
        "outputId": "ef192ff3-5499-4eb1-e7ea-73f5bfa01d74"
      },
      "execution_count": 5,
      "outputs": [
        {
          "output_type": "stream",
          "name": "stdout",
          "text": [
            "Downloading data from https://www.cs.toronto.edu/~kriz/cifar-10-python.tar.gz\n",
            "170498071/170498071 [==============================] - 2s 0us/step\n"
          ]
        }
      ]
    },
    {
      "cell_type": "code",
      "source": [
        "# Build the `train` augmentation pipeline.\n",
        "train_aug = keras.Sequential(\n",
        "    [\n",
        "        layers.Rescaling(1 / 255.0),\n",
        "        layers.Resizing(INPUT_SHAPE[0] + 20, INPUT_SHAPE[0] + 20),\n",
        "        layers.RandomCrop(IMAGE_SIZE, IMAGE_SIZE),\n",
        "        layers.RandomFlip(\"horizontal\"),\n",
        "    ],\n",
        "    name=\"train_data_augmentation\",\n",
        ")\n",
        "\n",
        "# Build the `val` and `test` data pipeline.\n",
        "test_aug = keras.Sequential(\n",
        "    [\n",
        "        layers.Rescaling(1 / 255.0),\n",
        "        layers.Resizing(IMAGE_SIZE, IMAGE_SIZE),\n",
        "    ],\n",
        "    name=\"test_data_augmentation\",\n",
        ")"
      ],
      "metadata": {
        "id": "VmRBDXphCoDu"
      },
      "execution_count": 6,
      "outputs": []
    },
    {
      "cell_type": "code",
      "source": [
        "def train_map_fn(image, label):\n",
        "    return train_aug(image), label\n",
        "\n",
        "def test_map_fn(image, label):\n",
        "    return test_aug(image), label"
      ],
      "metadata": {
        "id": "va4h0jW-Crze"
      },
      "execution_count": 7,
      "outputs": []
    },
    {
      "cell_type": "code",
      "source": [
        "train_ds = tf.data.Dataset.from_tensor_slices((x_train, y_train))\n",
        "train_ds = (\n",
        "    train_ds.map(\n",
        "        train_map_fn, num_parallel_calls=AUTO\n",
        "    )\n",
        "    .shuffle(BUFFER_SIZE)\n",
        "    .batch(BATCH_SIZE)\n",
        "    .prefetch(AUTO)\n",
        ")\n",
        "\n",
        "val_ds = tf.data.Dataset.from_tensor_slices((x_val, y_val))\n",
        "val_ds = (\n",
        "    val_ds.map(\n",
        "        test_map_fn, num_parallel_calls=AUTO\n",
        "    )\n",
        "    .batch(BATCH_SIZE)\n",
        "    .prefetch(AUTO)\n",
        ")\n",
        "\n",
        "test_ds = tf.data.Dataset.from_tensor_slices((x_test, y_test))\n",
        "test_ds = (\n",
        "    test_ds.map(\n",
        "        test_map_fn, num_parallel_calls=AUTO\n",
        "    )\n",
        "    .batch(BATCH_SIZE)\n",
        "    .prefetch(AUTO)\n",
        ")"
      ],
      "metadata": {
        "id": "tFJToGQFCo3i"
      },
      "execution_count": 8,
      "outputs": []
    },
    {
      "cell_type": "code",
      "source": [
        "for image, label in train_ds.take(1):\n",
        "    print(image.shape)\n",
        "    print(label.shape)"
      ],
      "metadata": {
        "colab": {
          "base_uri": "https://localhost:8080/"
        },
        "id": "2dZ0UnVlDGO4",
        "outputId": "353280b3-ffd5-4678-d8bb-e08991fc7fb9"
      },
      "execution_count": 9,
      "outputs": [
        {
          "output_type": "stream",
          "name": "stdout",
          "text": [
            "(512, 48, 48, 3)\n",
            "(512, 1)\n"
          ]
        }
      ]
    },
    {
      "cell_type": "markdown",
      "source": [
        "# PatchEmbedding"
      ],
      "metadata": {
        "id": "9FpQDW0eDQwF"
      }
    },
    {
      "cell_type": "code",
      "source": [
        "class PatchEmbed(layers.Layer):\n",
        "    \"\"\"Image patch embedding layer.\n",
        "\n",
        "    Args:\n",
        "        image_size (Tuple[int]): Input image resolution.\n",
        "        patch_size (Tuple[int]): Patch spatial resolution.\n",
        "        embed_dim (int): Embedding dimension.\n",
        "        add_pos_info (bool): Whether to add positional information to tokens.\n",
        "    \"\"\"\n",
        "\n",
        "    def __init__(\n",
        "        self,\n",
        "        image_size: Tuple[int] = (48, 48),\n",
        "        patch_size: Tuple[int] = (4, 4),\n",
        "        embed_dim: int = 32,\n",
        "        chunk_size: int = 8,\n",
        "        **kwargs,\n",
        "    ):\n",
        "        super().__init__(**kwargs)\n",
        "        patch_resolution = [\n",
        "            image_size[0] // patch_size[0],\n",
        "            image_size[1] // patch_size[1],\n",
        "        ]\n",
        "        self.image_size = image_size\n",
        "        self.patch_size = patch_size\n",
        "        self.embed_dim = embed_dim\n",
        "        self.patch_resolution = patch_resolution\n",
        "        self.num_patches = patch_resolution[0] * patch_resolution[1]\n",
        "        self.proj = layers.Conv2D(\n",
        "            filters=embed_dim, kernel_size=patch_size, strides=patch_size\n",
        "        )\n",
        "        self.flatten = layers.Reshape(target_shape=(-1, embed_dim))\n",
        "        self.position_embedding = layers.Embedding(\n",
        "            input_dim=self.num_patches, output_dim=embed_dim\n",
        "        )\n",
        "        self.positions = tf.range(start=0, limit=self.num_patches, delta=1)\n",
        "        self.norm = keras.layers.LayerNormalization(epsilon=1e-5)\n",
        "        self.chunking_layer = layers.Reshape(\n",
        "            target_shape=(self.num_patches//chunk_size, chunk_size, embed_dim)\n",
        "        )\n",
        "\n",
        "    def call(self, x: tf.Tensor) -> Tuple[tf.Tensor, int, int, int]:\n",
        "        \"\"\"Patchifies the image, converts into tokens and adds pos information.\n",
        "\n",
        "        Args:\n",
        "            x: Tensor of shape (B, H, W, C)\n",
        "\n",
        "        Returns:\n",
        "            A tuple of the processed tensor, height of the projected\n",
        "            feature map, width of the projected feature map, number\n",
        "            of channels of the projected feature map.\n",
        "        \"\"\"\n",
        "        # Project the inputs.\n",
        "        x = self.proj(x)\n",
        "        x = self.flatten(x)\n",
        "        x = x + self.position_embedding(self.positions)\n",
        "\n",
        "        # B, H, W, C -> B, H*W, C\n",
        "        x = self.norm(x)\n",
        "\n",
        "        # Chunk the tokens in K\n",
        "        x = self.chunking_layer(x)\n",
        "\n",
        "        return x"
      ],
      "metadata": {
        "id": "Q9w8rUdFDMkP"
      },
      "execution_count": 10,
      "outputs": []
    },
    {
      "cell_type": "markdown",
      "source": [
        "# FFN"
      ],
      "metadata": {
        "id": "ApnyYrSTDnwy"
      }
    },
    {
      "cell_type": "code",
      "source": [
        "class FeedForwardNetwork(layers.Layer):\n",
        "    \"\"\"Feed Forward Network.\n",
        "\n",
        "    Args:\n",
        "        dims (`int`): Dimension of the FFN.\n",
        "        dropout (`float`): Dropout probability of FFN.\n",
        "    \"\"\"\n",
        "\n",
        "    def __init__(self, dims: int, dropout: float = 0.1, **kwargs):\n",
        "        super().__init__(**kwargs)\n",
        "        self.ffn = keras.Sequential(\n",
        "            [\n",
        "                layers.Dense(units=4*dims, activation=tf.nn.gelu),\n",
        "                layers.Dense(units=dims),\n",
        "                layers.Dropout(rate=dropout),\n",
        "            ]\n",
        "        )\n",
        "        self.add = layers.Add()\n",
        "        self.layernorm = layers.LayerNormalization(epsilon=1e-5)\n",
        "\n",
        "    def call(self, inputs: tf.Tensor):\n",
        "        x = self.layernorm(inputs)\n",
        "        x = self.add([inputs, self.ffn(x)])\n",
        "        return x"
      ],
      "metadata": {
        "id": "a_ztuHnGDcAR"
      },
      "execution_count": 11,
      "outputs": []
    },
    {
      "cell_type": "markdown",
      "source": [
        "# Attention"
      ],
      "metadata": {
        "id": "eVH2CUFDDq3d"
      }
    },
    {
      "cell_type": "code",
      "source": [
        "class Attention(layers.Layer):\n",
        "    \"\"\"The base attention module.\n",
        "    \n",
        "    Args:\n",
        "        num_heads (`int`): Number of attention heads.\n",
        "        key_dim (`int`): Size of each attention head for query and key.\n",
        "        dropout (`float`): Dropout probability for Attention Module.\n",
        "    \n",
        "    \"\"\"\n",
        "\n",
        "    def __init__(self, num_heads: int, key_dim: int, dropout: float = 0.1, **kwargs):\n",
        "        super().__init__(**kwargs)\n",
        "        self.mha = layers.MultiHeadAttention(num_heads, key_dim, dropout=dropout)\n",
        "        self.q_layernorm = layers.LayerNormalization(epsilon=1e-5)\n",
        "        self.k_layernorm = layers.LayerNormalization(epsilon=1e-5)\n",
        "        self.v_layernorm = layers.LayerNormalization(epsilon=1e-5)\n",
        "        self.add = layers.Add()\n",
        "\n",
        "    def call(self, input_query: tf.Tensor, key: tf.Tensor, value: tf.Tensor):\n",
        "        query = self.q_layernorm(input_query)\n",
        "        key = self.k_layernorm(key)\n",
        "        value = self.v_layernorm(value)\n",
        "        (attn_outs, attn_scores) = self.mha(\n",
        "            query=query,\n",
        "            key=key,\n",
        "            value=value,\n",
        "            return_attention_scores=True,\n",
        "        )\n",
        "        self.attn_scores = attn_scores\n",
        "        x = self.add([input_query, attn_outs])\n",
        "        return x"
      ],
      "metadata": {
        "id": "Tap3IUcGDrZ1"
      },
      "execution_count": 12,
      "outputs": []
    },
    {
      "cell_type": "code",
      "source": [
        "class AttentionWithFFN(layers.Layer):\n",
        "    \"\"\"Self-attention module with FFN\n",
        "\n",
        "    Args:\n",
        "        ffn_dims (`int`): Number of units in FFN.\n",
        "        ffn_dropout (`float`): Dropout probability for FFN.\n",
        "        num_heads (`int`): Number of attention heads.\n",
        "        key_dim (`int`): Size of each attention head for query and key.\n",
        "        attn_dropout (`float`): Dropout probability for attention module.\n",
        "    \"\"\"\n",
        "\n",
        "    def __init__(\n",
        "        self,\n",
        "        ffn_dims: int = 128,\n",
        "        ffn_dropout: float = 0.1, \n",
        "        num_heads: int = 4,\n",
        "        key_dim: int = 256,\n",
        "        attn_dropout: float = 0.1,\n",
        "        **kwargs\n",
        "    ):\n",
        "        super().__init__(**kwargs)\n",
        "        self.attention = Attention(num_heads, key_dim, attn_dropout)\n",
        "        self.ffn = FeedForwardNetwork(ffn_dims, ffn_dropout)\n",
        "        \n",
        "    \n",
        "    def call(self, query: tf.Tensor, key: tf.Tensor, value: tf.Tensor):\n",
        "        x = self.attention(query, key, value)\n",
        "        self.attn_scores = self.attention.attn_scores\n",
        "        x = self.ffn(x)\n",
        "        return x"
      ],
      "metadata": {
        "id": "rOH4DFJKDr5n"
      },
      "execution_count": 13,
      "outputs": []
    },
    {
      "cell_type": "markdown",
      "source": [
        "# Recurrence"
      ],
      "metadata": {
        "id": "QFRetSjPD8Cx"
      }
    },
    {
      "cell_type": "code",
      "source": [
        "class CustomCell(layers.Layer):\n",
        "    \"\"\"Custom logic inside each recurrence.\n",
        "\n",
        "    Args:\n",
        "        chunk_size (`int`): Chunk size of the inputs.\n",
        "        r (`int`): One Cross Attention per **r** Self Attention.\n",
        "        num_layers (`int`): Number of layers in the Perceptual Model.\n",
        "        ffn_dims (`int`): Number of units in FFN.\n",
        "        ffn_dropout (`float`): Dropout probability for FFN.\n",
        "        num_heads (`int`): Number of attention heads.\n",
        "        key_dim (`int`): Size of each attention head for query and key.\n",
        "        attn_dropout (`float`): Dropout probability for attention module.\n",
        "    \"\"\"\n",
        "    def __init__(\n",
        "        self,\n",
        "        chunk_size,\n",
        "        r=2,\n",
        "        num_layers: int = 5,\n",
        "        ffn_dims: int = 128,\n",
        "        ffn_dropout: float = 0.1, \n",
        "        num_heads: int = 4,\n",
        "        key_dim: int = 256,\n",
        "        attn_dropout: float = 0.1,\n",
        "        **kwargs\n",
        "    ):\n",
        "        super().__init__(**kwargs)\n",
        "        self.chunk_size = chunk_size\n",
        "        self.r = r\n",
        "        self.num_layers = num_layers\n",
        "        self.ffn_dims = ffn_dims\n",
        "        self.ffn_droput = ffn_dropout\n",
        "        self.num_heads = num_heads\n",
        "        self.key_dim = key_dim\n",
        "        self.attn_dropout = attn_dropout\n",
        "\n",
        "        self.state_size = tf.TensorShape([chunk_size, ffn_dims])\n",
        "        self.output_size = tf.TensorShape([chunk_size, ffn_dims])\n",
        "\n",
        "        self.get_attn_scores = False\n",
        "        self.attn_scores = []\n",
        "\n",
        "        ########################################################################\n",
        "        # Perceptual Module\n",
        "        ########################################################################\n",
        "        perceptual_module = list()\n",
        "        for layer_idx in range(num_layers):\n",
        "            perceptual_module.append(\n",
        "                AttentionWithFFN(\n",
        "                    ffn_dims=ffn_dims,\n",
        "                    ffn_dropout=ffn_dropout, \n",
        "                    num_heads=num_heads,\n",
        "                    key_dim=key_dim,\n",
        "                    attn_dropout=attn_dropout,\n",
        "                    name=f\"PM_SelfAttentionFFN{layer_idx}\")\n",
        "            )\n",
        "            if layer_idx % r == 0:\n",
        "                perceptual_module.append(\n",
        "                    AttentionWithFFN(\n",
        "                    ffn_dims=ffn_dims,\n",
        "                    ffn_dropout=ffn_dropout, \n",
        "                    num_heads=num_heads,\n",
        "                    key_dim=key_dim,\n",
        "                    attn_dropout=attn_dropout,\n",
        "                    name=f\"PM_CrossAttentionFFN{layer_idx}\")\n",
        "                )\n",
        "        self.perceptual_module = perceptual_module\n",
        "\n",
        "        ########################################################################\n",
        "        # Temporal Latent Bottleneck Module\n",
        "        ########################################################################\n",
        "        self.tlb_module = AttentionWithFFN(\n",
        "            ffn_dims=ffn_dims,\n",
        "            ffn_dropout=ffn_dropout, \n",
        "            num_heads=num_heads,\n",
        "            key_dim=key_dim,\n",
        "            attn_dropout=attn_dropout,\n",
        "            name=f\"TLBM_CrossAttentionFFN\"\n",
        "        )\n",
        "\n",
        "    def call(self, inputs, states, training=None):\n",
        "        # inputs => (batch, chunk_size, dims)\n",
        "        # states => [(batch, chunk_size, units)]\n",
        "\n",
        "        slow_stream = states[0]\n",
        "        fast_stream = inputs\n",
        "\n",
        "        for layer_idx, layer in enumerate(self.perceptual_module):\n",
        "            fast_stream = layer(\n",
        "                query=fast_stream,\n",
        "                key=fast_stream,\n",
        "                value=fast_stream\n",
        "            )\n",
        "            \n",
        "            if layer_idx % self.r == 0:\n",
        "                fast_stream = layer(\n",
        "                    query=fast_stream,\n",
        "                    key=slow_stream,\n",
        "                    value=slow_stream\n",
        "                )\n",
        "        \n",
        "        slow_stream = self.tlb_module(\n",
        "            query=slow_stream,\n",
        "            key=fast_stream,\n",
        "            value=fast_stream\n",
        "        )\n",
        "\n",
        "        if self.get_attn_scores:\n",
        "            self.attn_scores.append(self.tlb_module.attn_scores)\n",
        "        \n",
        "        return fast_stream, [slow_stream]"
      ],
      "metadata": {
        "id": "QT4kMDPnDuBP"
      },
      "execution_count": 14,
      "outputs": []
    },
    {
      "cell_type": "markdown",
      "source": [
        "# Build the model"
      ],
      "metadata": {
        "id": "ZiHEV98_QxCS"
      }
    },
    {
      "cell_type": "code",
      "source": [
        "class ModelTrainer(keras.Model):\n",
        "    def __init__(self, patch_layer, custom_cell, **kwargs):\n",
        "        super().__init__(**kwargs)\n",
        "        self.patch_layer = patch_layer\n",
        "        self.rnn = layers.RNN(custom_cell)\n",
        "        self.gap = layers.GlobalAveragePooling1D()\n",
        "        self.head = layers.Dense(10, activation=\"softmax\")\n",
        "    \n",
        "    def call(self, inputs):\n",
        "        x = self.patch_layer(inputs)\n",
        "        x = self.rnn(x)\n",
        "        x = self.gap(x)\n",
        "        outputs = self.head(x)\n",
        "        return outputs"
      ],
      "metadata": {
        "id": "1aNjF5SXRMo9"
      },
      "execution_count": 15,
      "outputs": []
    },
    {
      "cell_type": "code",
      "source": [
        "keras.backend.clear_session()\n",
        "\n",
        "# PATCH\n",
        "patch_layer = PatchEmbed(\n",
        "    image_size=(IMAGE_SIZE, IMAGE_SIZE),\n",
        "    patch_size=(PATCH_SIZE, PATCH_SIZE),\n",
        "    embed_dim=EMBED_DIM,\n",
        "    chunk_size=CHUNK_SIZE,\n",
        ")\n",
        "\n",
        "# RECURRENCE\n",
        "cell = CustomCell(\n",
        "    chunk_size=CHUNK_SIZE,\n",
        "    r=R,\n",
        "    num_layers=NUM_LAYERS,\n",
        "    ffn_dims=EMBED_DIM,\n",
        "    ffn_dropout=FFN_DROP, \n",
        "    num_heads=NUM_HEADS,\n",
        "    key_dim=EMBED_DIM,\n",
        "    attn_dropout=ATTN_DROP,\n",
        ")\n",
        "\n",
        "\n",
        "model = ModelTrainer(patch_layer, cell)"
      ],
      "metadata": {
        "id": "Z9EngzvgD99W"
      },
      "execution_count": 16,
      "outputs": []
    },
    {
      "cell_type": "code",
      "source": [
        "# Some code is taken from:\n",
        "# https://www.kaggle.com/ashusma/training-rfcx-tensorflow-tpu-effnet-b2.\n",
        "class WarmUpCosine(keras.optimizers.schedules.LearningRateSchedule):\n",
        "    def __init__(\n",
        "        self, learning_rate_base, total_steps, warmup_learning_rate, warmup_steps\n",
        "    ):\n",
        "        super().__init__()\n",
        "        self.learning_rate_base = learning_rate_base\n",
        "        self.total_steps = total_steps\n",
        "        self.warmup_learning_rate = warmup_learning_rate\n",
        "        self.warmup_steps = warmup_steps\n",
        "        self.pi = tf.constant(np.pi)\n",
        "\n",
        "    def __call__(self, step):\n",
        "        if self.total_steps < self.warmup_steps:\n",
        "            raise ValueError(\"Total_steps must be larger or equal to warmup_steps.\")\n",
        "        cos_annealed_lr = tf.cos(\n",
        "            self.pi\n",
        "            * (tf.cast(step, tf.float32) - self.warmup_steps)\n",
        "            / float(self.total_steps - self.warmup_steps)\n",
        "        )\n",
        "        learning_rate = 0.5 * self.learning_rate_base * (1 + cos_annealed_lr)\n",
        "        if self.warmup_steps > 0:\n",
        "            if self.learning_rate_base < self.warmup_learning_rate:\n",
        "                raise ValueError(\n",
        "                    \"Learning_rate_base must be larger or equal to \"\n",
        "                    \"warmup_learning_rate.\"\n",
        "                )\n",
        "            slope = (\n",
        "                self.learning_rate_base - self.warmup_learning_rate\n",
        "            ) / self.warmup_steps\n",
        "            warmup_rate = slope * tf.cast(step, tf.float32) + self.warmup_learning_rate\n",
        "            learning_rate = tf.where(\n",
        "                step < self.warmup_steps, warmup_rate, learning_rate\n",
        "            )\n",
        "        return tf.where(\n",
        "            step > self.total_steps, 0.0, learning_rate, name=\"learning_rate\"\n",
        "        )\n",
        "\n",
        "\n",
        "total_steps = int((len(x_train) / BATCH_SIZE) * EPOCHS)\n",
        "warmup_epoch_percentage = 0.15\n",
        "warmup_steps = int(total_steps * warmup_epoch_percentage)\n",
        "scheduled_lrs = WarmUpCosine(\n",
        "    learning_rate_base=LEARNING_RATE,\n",
        "    total_steps=total_steps,\n",
        "    warmup_learning_rate=0.0,\n",
        "    warmup_steps=warmup_steps,\n",
        ")"
      ],
      "metadata": {
        "id": "_EpuEVpAyudV"
      },
      "execution_count": 17,
      "outputs": []
    },
    {
      "cell_type": "code",
      "source": [
        "# optimizer = AdamW(learning_rate=scheduled_lrs, weight_decay=WEIGHT_DECAY)\n",
        "optimizer = AdamW(learning_rate=1e-4, weight_decay=1e-4)\n",
        "\n",
        "# Compile and train the model.\n",
        "model.compile(\n",
        "    optimizer=optimizer,\n",
        "    loss=\"sparse_categorical_crossentropy\",\n",
        "    metrics=[\"accuracy\"],\n",
        "    # jit_compile=True,\n",
        ")\n",
        "history = model.fit(\n",
        "    train_ds,\n",
        "    epochs=EPOCHS,\n",
        "    validation_data=val_ds,\n",
        ")"
      ],
      "metadata": {
        "colab": {
          "base_uri": "https://localhost:8080/"
        },
        "id": "-7pwBfVwFdPv",
        "outputId": "6aa23259-22f1-4437-9f68-8f79d941aca6"
      },
      "execution_count": 18,
      "outputs": [
        {
          "output_type": "stream",
          "name": "stdout",
          "text": [
            "Epoch 1/10\n",
            "79/79 [==============================] - 187s 1s/step - loss: 2.2677 - accuracy: 0.1657 - val_loss: 2.0770 - val_accuracy: 0.2530\n",
            "Epoch 2/10\n",
            "79/79 [==============================] - 90s 1s/step - loss: 2.0327 - accuracy: 0.2517 - val_loss: 2.0299 - val_accuracy: 0.2691\n",
            "Epoch 3/10\n",
            "79/79 [==============================] - 90s 1s/step - loss: 1.9517 - accuracy: 0.2858 - val_loss: 1.9134 - val_accuracy: 0.3038\n",
            "Epoch 4/10\n",
            "79/79 [==============================] - 90s 1s/step - loss: 1.8583 - accuracy: 0.3239 - val_loss: 1.7946 - val_accuracy: 0.3482\n",
            "Epoch 5/10\n",
            "79/79 [==============================] - 90s 1s/step - loss: 1.7356 - accuracy: 0.3637 - val_loss: 1.6872 - val_accuracy: 0.3830\n",
            "Epoch 6/10\n",
            "79/79 [==============================] - 90s 1s/step - loss: 1.6478 - accuracy: 0.3935 - val_loss: 1.5868 - val_accuracy: 0.4210\n",
            "Epoch 7/10\n",
            "79/79 [==============================] - 90s 1s/step - loss: 1.5858 - accuracy: 0.4152 - val_loss: 1.5406 - val_accuracy: 0.4376\n",
            "Epoch 8/10\n",
            "79/79 [==============================] - 90s 1s/step - loss: 1.5420 - accuracy: 0.4305 - val_loss: 1.5083 - val_accuracy: 0.4495\n",
            "Epoch 9/10\n",
            "79/79 [==============================] - 90s 1s/step - loss: 1.5086 - accuracy: 0.4448 - val_loss: 1.4846 - val_accuracy: 0.4606\n",
            "Epoch 10/10\n",
            "79/79 [==============================] - 90s 1s/step - loss: 1.4849 - accuracy: 0.4550 - val_loss: 1.4390 - val_accuracy: 0.4783\n"
          ]
        }
      ]
    },
    {
      "cell_type": "code",
      "source": [
        "plt.plot(history.history[\"loss\"], label=\"loss\")\n",
        "plt.plot(history.history[\"val_loss\"], label=\"val_loss\")\n",
        "plt.legend()\n",
        "plt.show()\n",
        "\n",
        "plt.plot(history.history[\"accuracy\"], label=\"accuracy\")\n",
        "plt.plot(history.history[\"val_accuracy\"], label=\"val_accuracy\")\n",
        "plt.legend()\n",
        "plt.show()"
      ],
      "metadata": {
        "colab": {
          "base_uri": "https://localhost:8080/",
          "height": 513
        },
        "id": "QtAaAc8zLhTi",
        "outputId": "a7ab7ac4-8ced-478b-8b76-0deb29a54382"
      },
      "execution_count": 19,
      "outputs": [
        {
          "output_type": "display_data",
          "data": {
            "text/plain": [
              "<Figure size 432x288 with 1 Axes>"
            ],
            "image/png": "[encoded data removed]"
          },
          "metadata": {
            "needs_background": "light"
          }
        },
        {
          "output_type": "display_data",
          "data": {
            "text/plain": [
              "<Figure size 432x288 with 1 Axes>"
            ],
            "image/png": "[encoded data removed]"
          },
          "metadata": {
            "needs_background": "light"
          }
        }
      ]
    },
    {
      "cell_type": "markdown",
      "source": [
        "# Visualize the Latent Bottleneck"
      ],
      "metadata": {
        "id": "46jtqZe1ZU-S"
      }
    },
    {
      "cell_type": "code",
      "source": [
        "images, labels = next(iter(test_ds))\n",
        "\n",
        "# Set the flag for attn score\n",
        "model.rnn.cell.get_attn_scores = True\n",
        "outputs = model(images)"
      ],
      "metadata": {
        "id": "T4mOZkr6ZUtu"
      },
      "execution_count": 20,
      "outputs": []
    },
    {
      "cell_type": "code",
      "source": [
        "# Grab the list of chunk scores\n",
        "list_chunk_scores = model.rnn.cell.attn_scores"
      ],
      "metadata": {
        "id": "kOlZjLck25ga"
      },
      "execution_count": 21,
      "outputs": []
    },
    {
      "cell_type": "code",
      "source": [
        "def score_to_viz(chunk_score):\n",
        "    chunk_viz = tf.math.reduce_max(chunk_score, axis=-1) # get the most attended token\n",
        "    chunk_viz = tf.math.reduce_mean(chunk_viz, axis=1) # get the mean across heads\n",
        "    return chunk_viz"
      ],
      "metadata": {
        "id": "7gs1eZGL6Q1i"
      },
      "execution_count": 22,
      "outputs": []
    },
    {
      "cell_type": "code",
      "source": [
        "list_chunk_viz = [score_to_viz(x) for x in list_chunk_scores]"
      ],
      "metadata": {
        "id": "_eynRKf13xM3"
      },
      "execution_count": 23,
      "outputs": []
    },
    {
      "cell_type": "code",
      "source": [
        "chunk_viz = tf.concat(list_chunk_viz[1:], axis=-1)\n",
        "chunk_viz = tf.reshape(\n",
        "    chunk_viz,\n",
        "    (BATCH_SIZE, IMAGE_SIZE//PATCH_SIZE, IMAGE_SIZE//PATCH_SIZE, 1)\n",
        ")"
      ],
      "metadata": {
        "id": "9zmhicYN7DKG"
      },
      "execution_count": 24,
      "outputs": []
    },
    {
      "cell_type": "code",
      "source": [
        "upsampled_heat_map = layers.UpSampling2D(\n",
        "    size=(4, 4),\n",
        "    interpolation='bilinear'\n",
        ")(chunk_viz)"
      ],
      "metadata": {
        "id": "ihBgmyV_3AH1"
      },
      "execution_count": 25,
      "outputs": []
    },
    {
      "cell_type": "code",
      "source": [
        "fig, ax = plt.subplots(nrows=1, ncols=2, figsize=(10, 5))\n",
        "\n",
        "index = 20\n",
        "orig_image = images[index]\n",
        "overlay_image = upsampled_heat_map[index, ..., 0]\n",
        "\n",
        "ax[0].imshow(orig_image)\n",
        "ax[0].set_title(\"Original:\")\n",
        "ax[0].axis(\"off\")\n",
        "\n",
        "image = ax[1].imshow(orig_image)\n",
        "ax[1].imshow(\n",
        "    overlay_image,\n",
        "    cmap=\"inferno\",\n",
        "    alpha=0.6,\n",
        "    extent=image.get_extent()\n",
        ")\n",
        "ax[1].set_title(\"TLB Attention:\")\n",
        "\n",
        "plt.show()"
      ],
      "metadata": {
        "colab": {
          "base_uri": "https://localhost:8080/",
          "height": 318
        },
        "id": "Ju48l8DC3CJQ",
        "outputId": "69e97d18-d373-43ed-a694-4f47dd6a1142"
      },
      "execution_count": 28,
      "outputs": [
        {
          "output_type": "display_data",
          "data": {
            "text/plain": [
              "<Figure size 720x360 with 2 Axes>"
            ],
            "image/png": "[encoded data removed]"
          },
          "metadata": {
            "needs_background": "light"
          }
        }
      ]
    }
  ]
}