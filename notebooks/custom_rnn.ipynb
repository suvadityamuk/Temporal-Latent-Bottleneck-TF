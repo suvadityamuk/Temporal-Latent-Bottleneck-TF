{
  "nbformat": 4,
  "nbformat_minor": 0,
  "metadata": {
    "colab": {
      "provenance": [],
      "authorship_tag": "ABX9TyM0QQz5lVj6M2t9yIyFf1Bx"
    },
    "kernelspec": {
      "name": "python3",
      "display_name": "Python 3"
    },
    "language_info": {
      "name": "python"
    }
  },
  "cells": [
    {
      "cell_type": "markdown",
      "source": [
        "# Imports"
      ],
      "metadata": {
        "id": "aXAk9l5ZXBDs"
      }
    },
    {
      "cell_type": "code",
      "source": [
        "import tensorflow as tf\n",
        "from tensorflow import keras\n",
        "from tensorflow.keras import layers"
      ],
      "metadata": {
        "id": "_A1LES4Fo2jq"
      },
      "execution_count": 66,
      "outputs": []
    },
    {
      "cell_type": "markdown",
      "source": [
        "# Building a Custom RNN Cell"
      ],
      "metadata": {
        "id": "p8YYYUCeXCd0"
      }
    },
    {
      "cell_type": "code",
      "source": [
        "class CustomCell(layers.Layer):\n",
        "    def __init__(self, chunk_size, units, **kwargs):\n",
        "        self.chunk_size = chunk_size\n",
        "        self.units = units\n",
        "        self.state_size = tf.TensorShape([chunk_size, units])\n",
        "        self.output_size = tf.TensorShape([chunk_size, units])\n",
        "\n",
        "        # This is the point where we need to add our custom logic\n",
        "        # instead of the MLP\n",
        "        self.mlp = keras.Sequential([\n",
        "            layers.Dense(units, activation=\"relu\"),\n",
        "            layers.Dense(units * 4, activation=\"relu\"),\n",
        "            layers.Dense(units, activation=\"relu\"),\n",
        "        ])\n",
        "        \n",
        "        super().__init__(**kwargs)\n",
        "\n",
        "    def call(self, inputs, states):\n",
        "        # inputs => (batch, chunk_size, dims)\n",
        "        # states => [(batch, chunk_size, units)]\n",
        "\n",
        "        prev_state = states[0]\n",
        "\n",
        "        outputs = self.mlp(inputs)\n",
        "        new_state = outputs + prev_state\n",
        "        \n",
        "        return outputs, [new_state]\n",
        "\n",
        "    def get_config(self):\n",
        "        return {\"units\": self.units, \"chunk_size\": chunk_size}"
      ],
      "metadata": {
        "id": "Qqu2mlLMnyV6"
      },
      "execution_count": 81,
      "outputs": []
    },
    {
      "cell_type": "markdown",
      "source": [
        "# Test the RNN Layer"
      ],
      "metadata": {
        "id": "_oAS3TzJXbd6"
      }
    },
    {
      "cell_type": "code",
      "source": [
        "keras.backend.clear_session()\n",
        "\n",
        "units = 32\n",
        "chunk_size = 8\n",
        "\n",
        "dims = 16\n",
        "\n",
        "batch_size = 64\n",
        "num_batches = 10\n",
        "timestep = 80\n",
        "\n",
        "inputs = tf.random.normal(\n",
        "    (batch_size, timestep//chunk_size, chunk_size, dims)\n",
        ")\n",
        "\n",
        "cell = CustomCell(units=units, chunk_size=chunk_size)\n",
        "rnn = layers.RNN(cell, return_sequences=True)\n",
        "rnn(inputs).shape"
      ],
      "metadata": {
        "colab": {
          "base_uri": "https://localhost:8080/"
        },
        "id": "g9pNr433pO4R",
        "outputId": "24a6f899-e171-4ede-8795-e98358438986"
      },
      "execution_count": 83,
      "outputs": [
        {
          "output_type": "execute_result",
          "data": {
            "text/plain": [
              "TensorShape([64, 10, 8, 32])"
            ]
          },
          "metadata": {},
          "execution_count": 83
        }
      ]
    }
  ]
}