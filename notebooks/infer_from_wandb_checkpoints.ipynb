{
  "cells": [
    {
      "cell_type": "code",
      "source": [
        "! pip install -q wandb"
      ],
      "metadata": {
        "colab": {
          "base_uri": "https://localhost:8080/"
        },
        "id": "fLy-xP-EWcIu",
        "outputId": "575cebb4-5e08-45a4-a784-331a5a760e66"
      },
      "execution_count": 1,
      "outputs": [
        {
          "output_type": "stream",
          "name": "stdout",
          "text": [
            "\u001b[2K     \u001b[90m━━━━━━━━━━━━━━━━━━━━━━━━━━━━━━━━━━━━━━━━\u001b[0m \u001b[32m2.0/2.0 MB\u001b[0m \u001b[31m19.7 MB/s\u001b[0m eta \u001b[36m0:00:00\u001b[0m\n",
            "\u001b[2K     \u001b[90m━━━━━━━━━━━━━━━━━━━━━━━━━━━━━━━━━━━━━━━\u001b[0m \u001b[32m184.3/184.3 KB\u001b[0m \u001b[31m7.4 MB/s\u001b[0m eta \u001b[36m0:00:00\u001b[0m\n",
            "\u001b[2K     \u001b[90m━━━━━━━━━━━━━━━━━━━━━━━━━━━━━━━━━━━━━━━\u001b[0m \u001b[32m184.3/184.3 KB\u001b[0m \u001b[31m9.4 MB/s\u001b[0m eta \u001b[36m0:00:00\u001b[0m\n",
            "\u001b[?25h  Preparing metadata (setup.py) ... \u001b[?25l\u001b[?25hdone\n",
            "\u001b[2K     \u001b[90m━━━━━━━━━━━━━━━━━━━━━━━━━━━━━━━━━━━━━━━━\u001b[0m \u001b[32m62.7/62.7 KB\u001b[0m \u001b[31m2.6 MB/s\u001b[0m eta \u001b[36m0:00:00\u001b[0m\n",
            "\u001b[?25h  Building wheel for pathtools (setup.py) ... \u001b[?25l\u001b[?25hdone\n"
          ]
        }
      ]
    },
    {
      "cell_type": "code",
      "execution_count": 2,
      "metadata": {
        "id": "lIYdn1woOS1n"
      },
      "outputs": [],
      "source": [
        "import wandb"
      ]
    },
    {
      "cell_type": "code",
      "source": [
        "api = wandb.Api()\n",
        "artifact = api.artifact(\"arig23498/temporal-latent-bottleneck/run_7081udud_model:v1\")\n",
        "artifact_path = artifact.download()"
      ],
      "metadata": {
        "colab": {
          "base_uri": "https://localhost:8080/",
          "height": 121
        },
        "id": "WWIyGLr8We38",
        "outputId": "c1b12f50-66ef-4f75-9f8b-037d9c5a64da"
      },
      "execution_count": 3,
      "outputs": [
        {
          "output_type": "display_data",
          "data": {
            "text/plain": [
              "<IPython.core.display.Javascript object>"
            ],
            "application/javascript": [
              "\n",
              "        window._wandbApiKey = new Promise((resolve, reject) => {\n",
              "            function loadScript(url) {\n",
              "            return new Promise(function(resolve, reject) {\n",
              "                let newScript = document.createElement(\"script\");\n",
              "                newScript.onerror = reject;\n",
              "                newScript.onload = resolve;\n",
              "                document.body.appendChild(newScript);\n",
              "                newScript.src = url;\n",
              "            });\n",
              "            }\n",
              "            loadScript(\"https://cdn.jsdelivr.net/npm/postmate/build/postmate.min.js\").then(() => {\n",
              "            const iframe = document.createElement('iframe')\n",
              "            iframe.style.cssText = \"width:0;height:0;border:none\"\n",
              "            document.body.appendChild(iframe)\n",
              "            const handshake = new Postmate({\n",
              "                container: iframe,\n",
              "                url: 'https://wandb.ai/authorize'\n",
              "            });\n",
              "            const timeout = setTimeout(() => reject(\"Couldn't auto authenticate\"), 5000)\n",
              "            handshake.then(function(child) {\n",
              "                child.on('authorize', data => {\n",
              "                    clearTimeout(timeout)\n",
              "                    resolve(data)\n",
              "                });\n",
              "            });\n",
              "            })\n",
              "        });\n",
              "    "
            ]
          },
          "metadata": {}
        },
        {
          "output_type": "stream",
          "name": "stderr",
          "text": [
            "\u001b[34m\u001b[1mwandb\u001b[0m: Logging into wandb.ai. (Learn how to deploy a W&B server locally: https://wandb.me/wandb-server)\n",
            "\u001b[34m\u001b[1mwandb\u001b[0m: You can find your API key in your browser here: https://wandb.ai/authorize\n",
            "wandb: Paste an API key from your profile and hit enter, or press ctrl+c to quit:"
          ]
        },
        {
          "name": "stdout",
          "output_type": "stream",
          "text": [
            " ··········\n"
          ]
        },
        {
          "output_type": "stream",
          "name": "stderr",
          "text": [
            "\u001b[34m\u001b[1mwandb\u001b[0m: Appending key for api.wandb.ai to your netrc file: /root/.netrc\n",
            "\u001b[34m\u001b[1mwandb\u001b[0m:   5 of 5 files downloaded.  \n"
          ]
        }
      ]
    },
    {
      "cell_type": "code",
      "source": [
        "artifact_path"
      ],
      "metadata": {
        "colab": {
          "base_uri": "https://localhost:8080/",
          "height": 35
        },
        "id": "KIzHaInUWp-R",
        "outputId": "9bf121b0-1e70-4553-8850-e28f5752a8b8"
      },
      "execution_count": 4,
      "outputs": [
        {
          "output_type": "execute_result",
          "data": {
            "text/plain": [
              "'./artifacts/run_7081udud_model:v1'"
            ],
            "application/vnd.google.colaboratory.intrinsic+json": {
              "type": "string"
            }
          },
          "metadata": {},
          "execution_count": 4
        }
      ]
    },
    {
      "cell_type": "code",
      "source": [
        "import tensorflow as tf\n",
        "from tensorflow import keras\n",
        "from tensorflow.keras import layers\n",
        "\n",
        "from typing import Tuple"
      ],
      "metadata": {
        "id": "-m1lCthUXLPx"
      },
      "execution_count": 9,
      "outputs": []
    },
    {
      "cell_type": "code",
      "execution_count": 10,
      "metadata": {
        "id": "Q9w8rUdFDMkP"
      },
      "outputs": [],
      "source": [
        "class PatchEmbed(layers.Layer):\n",
        "    \"\"\"Image patch embedding layer.\n",
        "\n",
        "    Args:\n",
        "        image_size (Tuple[int]): Input image resolution.\n",
        "        patch_size (Tuple[int]): Patch spatial resolution.\n",
        "        embed_dim (int): Embedding dimension.\n",
        "        add_pos_info (bool): Whether to add positional information to tokens.\n",
        "    \"\"\"\n",
        "\n",
        "    def __init__(\n",
        "        self,\n",
        "        image_size: Tuple[int] = (48, 48),\n",
        "        patch_size: Tuple[int] = (4, 4),\n",
        "        embed_dim: int = 32,\n",
        "        chunk_size: int = 8,\n",
        "        **kwargs,\n",
        "    ):\n",
        "        super().__init__(**kwargs)\n",
        "        patch_resolution = [\n",
        "            image_size[0] // patch_size[0],\n",
        "            image_size[1] // patch_size[1],\n",
        "        ]\n",
        "        self.image_size = image_size\n",
        "        self.patch_size = patch_size\n",
        "        self.embed_dim = embed_dim\n",
        "        self.patch_resolution = patch_resolution\n",
        "        self.num_patches = patch_resolution[0] * patch_resolution[1]\n",
        "        self.proj = layers.Conv2D(\n",
        "            filters=embed_dim, kernel_size=patch_size, strides=patch_size\n",
        "        )\n",
        "        self.flatten = layers.Reshape(target_shape=(-1, embed_dim))\n",
        "        self.position_embedding = layers.Embedding(\n",
        "            input_dim=self.num_patches, output_dim=embed_dim\n",
        "        )\n",
        "        self.positions = tf.range(start=0, limit=self.num_patches, delta=1)\n",
        "        self.norm = keras.layers.LayerNormalization(epsilon=1e-5)\n",
        "        self.chunking_layer = layers.Reshape(\n",
        "            target_shape=(self.num_patches//chunk_size, chunk_size, embed_dim)\n",
        "        )\n",
        "\n",
        "    def call(self, x: tf.Tensor) -> Tuple[tf.Tensor, int, int, int]:\n",
        "        \"\"\"Patchifies the image, converts into tokens and adds pos information.\n",
        "\n",
        "        Args:\n",
        "            x: Tensor of shape (B, H, W, C)\n",
        "\n",
        "        Returns:\n",
        "            A tuple of the processed tensor, height of the projected\n",
        "            feature map, width of the projected feature map, number\n",
        "            of channels of the projected feature map.\n",
        "        \"\"\"\n",
        "        # Project the inputs.\n",
        "        x = self.proj(x)\n",
        "        x = self.flatten(x)\n",
        "        x = x + self.position_embedding(self.positions)\n",
        "\n",
        "        # B, H, W, C -> B, H*W, C\n",
        "        x = self.norm(x)\n",
        "\n",
        "        # Chunk the tokens in K\n",
        "        x = self.chunking_layer(x)\n",
        "\n",
        "        return x\n",
        "class FeedForwardNetwork(layers.Layer):\n",
        "    \"\"\"Feed Forward Network.\n",
        "\n",
        "    Args:\n",
        "        dims (`int`): Dimension of the FFN.\n",
        "        dropout (`float`): Dropout probability of FFN.\n",
        "    \"\"\"\n",
        "\n",
        "    def __init__(self, dims: int, dropout: float = 0.1, **kwargs):\n",
        "        super().__init__(**kwargs)\n",
        "        self.ffn = keras.Sequential(\n",
        "            [\n",
        "                layers.Dense(units=4*dims, activation=tf.nn.gelu),\n",
        "                layers.Dense(units=dims),\n",
        "                layers.Dropout(rate=dropout),\n",
        "            ]\n",
        "        )\n",
        "        self.add = layers.Add()\n",
        "        self.layernorm = layers.LayerNormalization(epsilon=1e-5)\n",
        "\n",
        "    def call(self, inputs: tf.Tensor):\n",
        "        x = self.layernorm(inputs)\n",
        "        x = self.add([inputs, self.ffn(x)])\n",
        "        return x\n",
        "class BaseAttention(layers.Layer):\n",
        "    \"\"\"The base attention module.\n",
        "    \n",
        "    Args:\n",
        "        num_heads (`int`): Number of attention heads.\n",
        "        key_dim (`int`): Size of each attention head for query and key.\n",
        "        dropout (`float`): Dropout probability for Attention Module.\n",
        "    \n",
        "    \"\"\"\n",
        "\n",
        "    def __init__(self, num_heads: int, key_dim: int, dropout: float = 0.1, **kwargs):\n",
        "        super().__init__(**kwargs)\n",
        "        self.mha = layers.MultiHeadAttention(num_heads, key_dim, dropout=dropout)\n",
        "        self.q_layernorm = layers.LayerNormalization(epsilon=1e-5)\n",
        "        self.k_layernorm = layers.LayerNormalization(epsilon=1e-5)\n",
        "        self.v_layernorm = layers.LayerNormalization(epsilon=1e-5)\n",
        "        self.add = layers.Add()\n",
        "\n",
        "    def call(self, input_query: tf.Tensor, key: tf.Tensor, value: tf.Tensor):\n",
        "        query = self.q_layernorm(input_query)\n",
        "        key = self.k_layernorm(key)\n",
        "        value = self.v_layernorm(value)\n",
        "        (attn_outs, attn_scores) = self.mha(\n",
        "            query=query,\n",
        "            key=key,\n",
        "            value=value,\n",
        "            return_attention_scores=True,\n",
        "        )\n",
        "        self.attn_scores = attn_scores\n",
        "        x = self.add([input_query, attn_outs])\n",
        "        return x\n",
        "class AttentionWithFFN(layers.Layer):\n",
        "    \"\"\"Self-attention module with FFN\n",
        "\n",
        "    Args:\n",
        "        ffn_dims (`int`): Number of units in FFN.\n",
        "        ffn_dropout (`float`): Dropout probability for FFN.\n",
        "        num_heads (`int`): Number of attention heads.\n",
        "        key_dim (`int`): Size of each attention head for query and key.\n",
        "        attn_dropout (`float`): Dropout probability for attention module.\n",
        "    \"\"\"\n",
        "\n",
        "    def __init__(\n",
        "        self,\n",
        "        ffn_dims: int = 128,\n",
        "        ffn_dropout: float = 0.1, \n",
        "        num_heads: int = 4,\n",
        "        key_dim: int = 256,\n",
        "        attn_dropout: float = 0.1,\n",
        "        **kwargs\n",
        "    ):\n",
        "        super().__init__(**kwargs)\n",
        "        self.attention = BaseAttention(num_heads, key_dim, attn_dropout, name=\"BaseAttention\")\n",
        "        self.ffn = FeedForwardNetwork(ffn_dims, ffn_dropout, name=\"FeedForward\")\n",
        "        \n",
        "    \n",
        "    def call(self, query: tf.Tensor, key: tf.Tensor, value: tf.Tensor):\n",
        "        x = self.attention(query, key, value)\n",
        "        self.attn_scores = self.attention.attn_scores\n",
        "        x = self.ffn(x)\n",
        "        return x\n",
        "class CustomCell(layers.Layer):\n",
        "    \"\"\"Custom logic inside each recurrence.\n",
        "\n",
        "    Args:\n",
        "        chunk_size (`int`): Chunk size of the inputs.\n",
        "        r (`int`): One Cross Attention per **r** Self Attention.\n",
        "        num_layers (`int`): Number of layers in the Perceptual Model.\n",
        "        ffn_dims (`int`): Number of units in FFN.\n",
        "        ffn_dropout (`float`): Dropout probability for FFN.\n",
        "        num_heads (`int`): Number of attention heads.\n",
        "        key_dim (`int`): Size of each attention head for query and key.\n",
        "        attn_dropout (`float`): Dropout probability for attention module.\n",
        "    \"\"\"\n",
        "    def __init__(\n",
        "        self,\n",
        "        chunk_size,\n",
        "        r=2,\n",
        "        num_layers: int = 5,\n",
        "        ffn_dims: int = 128,\n",
        "        ffn_dropout: float = 0.1, \n",
        "        num_heads: int = 4,\n",
        "        key_dim: int = 256,\n",
        "        attn_dropout: float = 0.1,\n",
        "        **kwargs\n",
        "    ):\n",
        "        super().__init__(**kwargs)\n",
        "        self.chunk_size = chunk_size\n",
        "        self.r = r\n",
        "        self.num_layers = num_layers\n",
        "        self.ffn_dims = ffn_dims\n",
        "        self.ffn_droput = ffn_dropout\n",
        "        self.num_heads = num_heads\n",
        "        self.key_dim = key_dim\n",
        "        self.attn_dropout = attn_dropout\n",
        "\n",
        "        self.state_size = tf.TensorShape([chunk_size, ffn_dims])\n",
        "        self.output_size = tf.TensorShape([chunk_size, ffn_dims])\n",
        "\n",
        "        self.get_attn_scores = False\n",
        "        self.attn_scores = []\n",
        "\n",
        "        ########################################################################\n",
        "        # Perceptual Module\n",
        "        ########################################################################\n",
        "        perceptual_module = list()\n",
        "        for layer_idx in range(num_layers):\n",
        "            perceptual_module.append(\n",
        "                AttentionWithFFN(\n",
        "                    ffn_dims=ffn_dims,\n",
        "                    ffn_dropout=ffn_dropout, \n",
        "                    num_heads=num_heads,\n",
        "                    key_dim=key_dim,\n",
        "                    attn_dropout=attn_dropout,\n",
        "                    name=f\"PM_SelfAttentionFFN{layer_idx}\")\n",
        "            )\n",
        "            if layer_idx % r == 0:\n",
        "                perceptual_module.append(\n",
        "                    AttentionWithFFN(\n",
        "                    ffn_dims=ffn_dims,\n",
        "                    ffn_dropout=ffn_dropout, \n",
        "                    num_heads=num_heads,\n",
        "                    key_dim=key_dim,\n",
        "                    attn_dropout=attn_dropout,\n",
        "                    name=f\"PM_CrossAttentionFFN{layer_idx}\")\n",
        "                )\n",
        "        self.perceptual_module = perceptual_module\n",
        "\n",
        "        ########################################################################\n",
        "        # Temporal Latent Bottleneck Module\n",
        "        ########################################################################\n",
        "        self.tlb_module = AttentionWithFFN(\n",
        "            ffn_dims=ffn_dims,\n",
        "            ffn_dropout=ffn_dropout, \n",
        "            num_heads=num_heads,\n",
        "            key_dim=key_dim,\n",
        "            attn_dropout=attn_dropout,\n",
        "            name=f\"TLBM_CrossAttentionFFN\"\n",
        "        )\n",
        "\n",
        "    def call(self, inputs, states, training=None):\n",
        "        # inputs => (batch, chunk_size, dims)\n",
        "        # states => [(batch, chunk_size, units)]\n",
        "\n",
        "        slow_stream = states[0]\n",
        "        fast_stream = inputs\n",
        "\n",
        "        for layer_idx, layer in enumerate(self.perceptual_module):\n",
        "            fast_stream = layer(\n",
        "                query=fast_stream,\n",
        "                key=fast_stream,\n",
        "                value=fast_stream\n",
        "            )\n",
        "            \n",
        "            if layer_idx % self.r == 0:\n",
        "                fast_stream = layer(\n",
        "                    query=fast_stream,\n",
        "                    key=slow_stream,\n",
        "                    value=slow_stream\n",
        "                )\n",
        "        \n",
        "        slow_stream = self.tlb_module(\n",
        "            query=slow_stream,\n",
        "            key=fast_stream,\n",
        "            value=fast_stream\n",
        "        )\n",
        "\n",
        "        if self.get_attn_scores:\n",
        "            self.attn_scores.append(self.tlb_module.attn_scores)\n",
        "        \n",
        "        return fast_stream, [slow_stream]\n",
        "class ModelTrainer(keras.Model):\n",
        "    def __init__(self, patch_layer, custom_cell, **kwargs):\n",
        "        super().__init__(**kwargs)\n",
        "        self.patch_layer = patch_layer\n",
        "        self.rnn = layers.RNN(custom_cell)\n",
        "        self.gap = layers.GlobalAveragePooling1D()\n",
        "        self.head = layers.Dense(10, activation=\"softmax\", dtype=\"float32\")\n",
        "    \n",
        "    def call(self, inputs):\n",
        "        x = self.patch_layer(inputs)\n",
        "        x = self.rnn(x)\n",
        "        x = self.gap(x)\n",
        "        outputs = self.head(x)\n",
        "        return outputs"
      ]
    },
    {
      "cell_type": "code",
      "source": [
        "config = {\n",
        "    \"mixed_precision\": True,\n",
        "    \"dataset\": \"cifar10\",\n",
        "    \"train_slice\": 40_000,\n",
        "    \"batch_size\": 1024,\n",
        "    \"buffer_size\": 1024 * 2,\n",
        "    \"input_shape\": [32, 32, 3],\n",
        "    \"image_size\": 48,\n",
        "    \"num_classes\": 10,\n",
        "    \"learning_rate\": 1e-4,\n",
        "    \"weight_decay\": 1e-4,\n",
        "    \"epochs\": 20,\n",
        "    \"patch_size\": 4,\n",
        "    \"embed_dim\": 128,\n",
        "    \"chunk_size\": 8,\n",
        "    \"r\": 2,\n",
        "    \"num_layers\": 4,\n",
        "    \"ffn_drop\": 0.1,\n",
        "    \"attn_drop\": 0.1,\n",
        "    \"num_heads\": 1,\n",
        "}"
      ],
      "metadata": {
        "id": "g9_c09WAXQwK"
      },
      "execution_count": 11,
      "outputs": []
    },
    {
      "cell_type": "code",
      "source": [
        "keras.backend.clear_session()\n",
        "\n",
        "# PATCH\n",
        "patch_layer = PatchEmbed(\n",
        "    image_size=(config[\"image_size\"], config[\"image_size\"]),\n",
        "    patch_size=(config[\"patch_size\"], config[\"patch_size\"]),\n",
        "    embed_dim=config[\"embed_dim\"],\n",
        "    chunk_size=config[\"chunk_size\"],\n",
        ")\n",
        "\n",
        "# RECURRENCE\n",
        "cell = CustomCell(\n",
        "    chunk_size=config[\"chunk_size\"],\n",
        "    r=config[\"r\"],\n",
        "    num_layers=config[\"num_layers\"],\n",
        "    ffn_dims=config[\"embed_dim\"],\n",
        "    ffn_dropout=config[\"ffn_drop\"], \n",
        "    num_heads=config[\"num_heads\"],\n",
        "    key_dim=config[\"embed_dim\"],\n",
        "    attn_dropout=config[\"attn_drop\"],\n",
        ")\n",
        "\n",
        "\n",
        "model = ModelTrainer(patch_layer, cell)"
      ],
      "metadata": {
        "id": "HbODlJhSXThI"
      },
      "execution_count": 12,
      "outputs": []
    },
    {
      "cell_type": "code",
      "source": [
        "model.load_weights(artifact_path)"
      ],
      "metadata": {
        "id": "WSQhikujXciX",
        "outputId": "c5a7ab48-4d36-4869-a48d-0338d8e6f8df",
        "colab": {
          "base_uri": "https://localhost:8080/"
        }
      },
      "execution_count": 13,
      "outputs": [
        {
          "output_type": "execute_result",
          "data": {
            "text/plain": [
              "<tensorflow.python.checkpoint.checkpoint.CheckpointLoadStatus at 0x7fec060ce850>"
            ]
          },
          "metadata": {},
          "execution_count": 13
        }
      ]
    },
    {
      "cell_type": "code",
      "source": [
        "from matplotlib import pyplot as plt\n",
        "AUTO = tf.data.AUTOTUNE"
      ],
      "metadata": {
        "id": "pZe3LTwuXzaR"
      },
      "execution_count": 15,
      "outputs": []
    },
    {
      "cell_type": "code",
      "source": [
        "(x_train, y_train), (x_test, y_test) = keras.datasets.cifar10.load_data()\n",
        "(x_train, y_train), (x_val, y_val) = (\n",
        "    (x_train[:config[\"train_slice\"]], y_train[:config[\"train_slice\"]]),\n",
        "    (x_train[config[\"train_slice\"]:], y_train[config[\"train_slice\"]:]),\n",
        ")"
      ],
      "metadata": {
        "id": "p6xqyxQHYdKR",
        "outputId": "8380519c-97c8-455b-dfbf-71005e512124",
        "colab": {
          "base_uri": "https://localhost:8080/"
        }
      },
      "execution_count": 16,
      "outputs": [
        {
          "output_type": "stream",
          "name": "stdout",
          "text": [
            "Downloading data from https://www.cs.toronto.edu/~kriz/cifar-10-python.tar.gz\n",
            "170498071/170498071 [==============================] - 3s 0us/step\n"
          ]
        }
      ]
    },
    {
      "cell_type": "code",
      "execution_count": 17,
      "metadata": {
        "id": "VmRBDXphCoDu"
      },
      "outputs": [],
      "source": [
        "# Build the `val` and `test` data pipeline.\n",
        "test_aug = keras.Sequential(\n",
        "    [\n",
        "        layers.Rescaling(1 / 255.0, dtype=\"float32\"),\n",
        "        layers.Resizing(config[\"image_size\"], config[\"image_size\"], dtype=\"float32\"),\n",
        "    ],\n",
        "    name=\"test_data_augmentation\",\n",
        ")\n",
        "\n",
        "def test_map_fn(image, label):\n",
        "    return test_aug(image), label\n",
        "\n",
        "test_ds = tf.data.Dataset.from_tensor_slices((x_test, y_test))\n",
        "test_ds = (\n",
        "    test_ds.map(\n",
        "        test_map_fn, num_parallel_calls=AUTO\n",
        "    )\n",
        "    .batch(config[\"batch_size\"], num_parallel_calls=AUTO)\n",
        "    .prefetch(AUTO)\n",
        ")"
      ]
    },
    {
      "cell_type": "code",
      "execution_count": 18,
      "metadata": {
        "id": "T4mOZkr6ZUtu"
      },
      "outputs": [],
      "source": [
        "images, labels = next(iter(test_ds))\n",
        "\n",
        "# Set the flag for attn score\n",
        "model.rnn.cell.get_attn_scores = True\n",
        "outputs = model(images)\n",
        "# Grab the list of chunk scores\n",
        "list_chunk_scores = model.rnn.cell.attn_scores\n",
        "def score_to_viz(chunk_score):\n",
        "    chunk_viz = tf.math.reduce_max(chunk_score, axis=-2) # get the most attended token\n",
        "    chunk_viz = tf.math.reduce_mean(chunk_viz, axis=1) # get the mean across heads\n",
        "    return chunk_viz\n",
        "list_chunk_viz = [score_to_viz(x) for x in list_chunk_scores]\n",
        "chunk_viz = tf.concat(list_chunk_viz[1:], axis=-1)\n",
        "chunk_viz = tf.reshape(\n",
        "    chunk_viz,\n",
        "    (config[\"batch_size\"], config[\"image_size\"]//config[\"patch_size\"], config[\"image_size\"]//config[\"patch_size\"], 1)\n",
        ")\n",
        "upsampled_heat_map = layers.UpSampling2D(\n",
        "    size=(4, 4),\n",
        "    interpolation='bilinear',\n",
        "    dtype=\"float32\"\n",
        ")(chunk_viz)"
      ]
    },
    {
      "cell_type": "code",
      "source": [
        "index = 23\n",
        "orig_image = images[index]\n",
        "overlay_image = upsampled_heat_map[index, ..., 0]\n",
        "\n",
        "fig, ax = plt.subplots(nrows=1, ncols=2, figsize=(10, 5))\n",
        "\n",
        "ax[0].imshow(orig_image)\n",
        "ax[0].set_title(\"Original:\")\n",
        "ax[0].axis(\"off\")\n",
        "\n",
        "image = ax[1].imshow(orig_image)\n",
        "ax[1].imshow(\n",
        "    overlay_image,\n",
        "    cmap=\"inferno\",\n",
        "    alpha=0.6,\n",
        "    extent=image.get_extent(),\n",
        ")\n",
        "ax[1].set_title(\"TLB Attention:\")\n",
        "\n",
        "plt.show()"
      ],
      "metadata": {
        "id": "t-n9SS2HYhxO",
        "outputId": "510fc09a-3fe8-4fc1-db2e-fd16a28f9d9b",
        "colab": {
          "base_uri": "https://localhost:8080/",
          "height": 318
        }
      },
      "execution_count": 21,
      "outputs": [
        {
          "output_type": "display_data",
          "data": {
            "text/plain": [
              "<Figure size 720x360 with 2 Axes>"
            ],
            "image/png": "[encoded data removed]"
          },
          "metadata": {
            "needs_background": "light"
          }
        }
      ]
    }
  ],
  "metadata": {
    "colab": {
      "name": "scratchpad",
      "provenance": []
    },
    "kernelspec": {
      "display_name": "Python 3",
      "name": "python3"
    }
  },
  "nbformat": 4,
  "nbformat_minor": 0
}