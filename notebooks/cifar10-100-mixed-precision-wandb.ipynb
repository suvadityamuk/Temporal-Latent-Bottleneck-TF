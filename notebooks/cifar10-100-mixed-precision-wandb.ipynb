{
 "cells": [
  {
   "cell_type": "code",
   "execution_count": 1,
   "metadata": {
    "colab": {
     "base_uri": "https://localhost:8080/"
    },
    "id": "z0Ae5PLbi0z6",
    "outputId": "7e4cc054-ceed-45d6-9cc3-f55feac298dd"
   },
   "outputs": [
    {
     "output_type": "stream",
     "name": "stdout",
     "text": [
      "Sat Mar 11 07:14:47 2023       \n",
      "+-----------------------------------------------------------------------------+\n",
      "| NVIDIA-SMI 525.85.12    Driver Version: 525.85.12    CUDA Version: 12.0     |\n",
      "|-------------------------------+----------------------+----------------------+\n",
      "| GPU  Name        Persistence-M| Bus-Id        Disp.A | Volatile Uncorr. ECC |\n",
      "| Fan  Temp  Perf  Pwr:Usage/Cap|         Memory-Usage | GPU-Util  Compute M. |\n",
      "|                               |                      |               MIG M. |\n",
      "|===============================+======================+======================|\n",
      "|   0  NVIDIA A100-SXM...  Off  | 00000000:00:04.0 Off |                    0 |\n",
      "| N/A   29C    P0    48W / 400W |      0MiB / 40960MiB |      0%      Default |\n",
      "|                               |                      |             Disabled |\n",
      "+-------------------------------+----------------------+----------------------+\n",
      "                                                                               \n",
      "+-----------------------------------------------------------------------------+\n",
      "| Processes:                                                                  |\n",
      "|  GPU   GI   CI        PID   Type   Process name                  GPU Memory |\n",
      "|        ID   ID                                                   Usage      |\n",
      "|=============================================================================|\n",
      "|  No running processes found                                                 |\n",
      "+-----------------------------------------------------------------------------+\n"
     ]
    }
   ],
   "source": [
    "!nvidia-smi"
   ]
  },
  {
   "cell_type": "markdown",
   "metadata": {
    "id": "HejkilXVMTGs"
   },
   "source": [
    "# Imports"
   ]
  },
  {
   "cell_type": "code",
   "execution_count": 2,
   "metadata": {
    "colab": {
     "base_uri": "https://localhost:8080/"
    },
    "id": "94e30EYbLNfw",
    "outputId": "ea00df7e-fba5-46d9-9f48-5564dd074ad5"
   },
   "outputs": [
    {
     "output_type": "stream",
     "name": "stdout",
     "text": [
      "\u001b[2K     \u001b[90m━━━━━━━━━━━━━━━━━━━━━━━━━━━━━━━━━━━━━━━━\u001b[0m \u001b[32m2.0/2.0 MB\u001b[0m \u001b[31m32.5 MB/s\u001b[0m eta \u001b[36m0:00:00\u001b[0m\n",
      "\u001b[2K     \u001b[90m━━━━━━━━━━━━━━━━━━━━━━━━━━━━━━━━━━━━━━\u001b[0m \u001b[32m184.3/184.3 KB\u001b[0m \u001b[31m12.1 MB/s\u001b[0m eta \u001b[36m0:00:00\u001b[0m\n",
      "\u001b[?25h  Preparing metadata (setup.py) ... \u001b[?25l\u001b[?25hdone\n",
      "\u001b[2K     \u001b[90m━━━━━━━━━━━━━━━━━━━━━━━━━━━━━━━━━━━━━━\u001b[0m \u001b[32m184.3/184.3 KB\u001b[0m \u001b[31m14.8 MB/s\u001b[0m eta \u001b[36m0:00:00\u001b[0m\n",
      "\u001b[2K     \u001b[90m━━━━━━━━━━━━━━━━━━━━━━━━━━━━━━━━━━━━━━━━\u001b[0m \u001b[32m62.7/62.7 KB\u001b[0m \u001b[31m8.4 MB/s\u001b[0m eta \u001b[36m0:00:00\u001b[0m\n",
      "\u001b[?25h  Building wheel for pathtools (setup.py) ... \u001b[?25l\u001b[?25hdone\n"
     ]
    }
   ],
   "source": [
    "!pip install -q tensorflow==2.11.0\n",
    "!pip install -q wandb"
   ]
  },
  {
   "cell_type": "code",
   "execution_count": 3,
   "metadata": {
    "colab": {
     "base_uri": "https://localhost:8080/",
     "height": 121
    },
    "id": "HlBTh_IyzBwp",
    "outputId": "d0090160-dd5e-4d45-ab56-5b7dca92dd35"
   },
   "outputs": [
    {
     "output_type": "display_data",
     "data": {
      "text/plain": [
       "<IPython.core.display.Javascript object>"
      ],
      "application/javascript": [
       "\n",
       "        window._wandbApiKey = new Promise((resolve, reject) => {\n",
       "            function loadScript(url) {\n",
       "            return new Promise(function(resolve, reject) {\n",
       "                let newScript = document.createElement(\"script\");\n",
       "                newScript.onerror = reject;\n",
       "                newScript.onload = resolve;\n",
       "                document.body.appendChild(newScript);\n",
       "                newScript.src = url;\n",
       "            });\n",
       "            }\n",
       "            loadScript(\"https://cdn.jsdelivr.net/npm/postmate/build/postmate.min.js\").then(() => {\n",
       "            const iframe = document.createElement('iframe')\n",
       "            iframe.style.cssText = \"width:0;height:0;border:none\"\n",
       "            document.body.appendChild(iframe)\n",
       "            const handshake = new Postmate({\n",
       "                container: iframe,\n",
       "                url: 'https://wandb.ai/authorize'\n",
       "            });\n",
       "            const timeout = setTimeout(() => reject(\"Couldn't auto authenticate\"), 5000)\n",
       "            handshake.then(function(child) {\n",
       "                child.on('authorize', data => {\n",
       "                    clearTimeout(timeout)\n",
       "                    resolve(data)\n",
       "                });\n",
       "            });\n",
       "            })\n",
       "        });\n",
       "    "
      ]
     },
     "metadata": {}
    },
    {
     "output_type": "stream",
     "name": "stderr",
     "text": [
      "\u001b[34m\u001b[1mwandb\u001b[0m: Logging into wandb.ai. (Learn how to deploy a W&B server locally: https://wandb.me/wandb-server)\n",
      "\u001b[34m\u001b[1mwandb\u001b[0m: You can find your API key in your browser here: https://wandb.ai/authorize\n",
      "wandb: Paste an API key from your profile and hit enter, or press ctrl+c to quit:"
     ]
    },
    {
     "name": "stdout",
     "output_type": "stream",
     "text": [
      " ··········\n"
     ]
    },
    {
     "output_type": "stream",
     "name": "stderr",
     "text": [
      "\u001b[34m\u001b[1mwandb\u001b[0m: Appending key for api.wandb.ai to your netrc file: /root/.netrc\n"
     ]
    },
    {
     "output_type": "execute_result",
     "data": {
      "text/plain": [
       "True"
      ]
     },
     "metadata": {},
     "execution_count": 3
    }
   ],
   "source": [
    "# Log in to your W&B account\n",
    "import wandb\n",
    "\n",
    "wandb.login()"
   ]
  },
  {
   "cell_type": "code",
   "execution_count": 4,
   "metadata": {
    "id": "hb66VOLCLHjC"
   },
   "outputs": [],
   "source": [
    "import numpy as np\n",
    "import wandb\n",
    "from wandb.keras import WandbMetricsLogger, WandbModelCheckpoint\n",
    "import tensorflow as tf\n",
    "from tensorflow import keras\n",
    "from tensorflow.keras import layers\n",
    "from tensorflow.keras.optimizers.experimental import AdamW\n",
    "from tensorflow.keras import mixed_precision\n",
    "from typing import Tuple\n",
    "from matplotlib import pyplot as plt\n",
    "\n",
    "# Set seed for reproducibility.\n",
    "tf.keras.utils.set_random_seed(42)\n",
    "\n",
    "AUTO = tf.data.AUTOTUNE"
   ]
  },
  {
   "cell_type": "markdown",
   "metadata": {
    "id": "jpqYrqLiMUQ5"
   },
   "source": [
    "# Configurations"
   ]
  },
  {
   "cell_type": "code",
   "execution_count": 5,
   "metadata": {
    "id": "IJDSbV2bCfOo"
   },
   "outputs": [],
   "source": [
    "config = {\n",
    "    \"mixed_precision\": True,\n",
    "    \"dataset\": \"cifar10\",\n",
    "    \"train_slice\": 40_000,\n",
    "    \"batch_size\": 1024,\n",
    "    \"buffer_size\": 1024 * 2,\n",
    "    \"input_shape\": [32, 32, 3],\n",
    "    \"image_size\": 48,\n",
    "    \"num_classes\": 10,\n",
    "    \"learning_rate\": 1e-4,\n",
    "    \"weight_decay\": 1e-4,\n",
    "    \"epochs\": 100,\n",
    "    \"patch_size\": 4,\n",
    "    \"embed_dim\": 128,\n",
    "    \"chunk_size\": 8,\n",
    "    \"r\": 2,\n",
    "    \"num_layers\": 6,\n",
    "    \"ffn_drop\": 0.2,\n",
    "    \"attn_drop\": 0.2,\n",
    "    \"num_heads\": 1,\n",
    "}"
   ]
  },
  {
   "cell_type": "code",
   "execution_count": 6,
   "metadata": {
    "colab": {
     "base_uri": "https://localhost:8080/"
    },
    "id": "z9AwzrziLVkw",
    "outputId": "b0084a3e-0a51-4435-a4f2-dd4d3e6e336d"
   },
   "outputs": [
    {
     "output_type": "stream",
     "name": "stdout",
     "text": [
      "2.11.0\n"
     ]
    }
   ],
   "source": [
    "print(tf.__version__)"
   ]
  },
  {
   "cell_type": "code",
   "execution_count": 7,
   "metadata": {
    "id": "sF40zNiahQ-1"
   },
   "outputs": [],
   "source": [
    "policy = mixed_precision.Policy(\"mixed_float16\")\n",
    "mixed_precision.set_global_policy(policy)"
   ]
  },
  {
   "cell_type": "markdown",
   "metadata": {
    "id": "7jxku70OMWhs"
   },
   "source": [
    "# Datasets"
   ]
  },
  {
   "cell_type": "code",
   "execution_count": 8,
   "metadata": {
    "colab": {
     "base_uri": "https://localhost:8080/"
    },
    "id": "TLSxYNjFCloE",
    "outputId": "ab7689e0-b989-4a26-8976-647ecfb12a1a"
   },
   "outputs": [
    {
     "output_type": "stream",
     "name": "stdout",
     "text": [
      "Downloading data from https://www.cs.toronto.edu/~kriz/cifar-10-python.tar.gz\n",
      "170498071/170498071 [==============================] - 6s 0us/step\n"
     ]
    }
   ],
   "source": [
    "(x_train, y_train), (x_test, y_test) = keras.datasets.cifar10.load_data()\n",
    "(x_train, y_train), (x_val, y_val) = (\n",
    "    (x_train[: config[\"train_slice\"]], y_train[: config[\"train_slice\"]]),\n",
    "    (x_train[config[\"train_slice\"] :], y_train[config[\"train_slice\"] :]),\n",
    ")"
   ]
  },
  {
   "cell_type": "code",
   "execution_count": 9,
   "metadata": {
    "id": "VmRBDXphCoDu"
   },
   "outputs": [],
   "source": [
    "# Build the `train` augmentation pipeline.\n",
    "train_aug = keras.Sequential(\n",
    "    [\n",
    "        layers.Rescaling(1 / 255.0, dtype=\"float32\"),\n",
    "        layers.Resizing(\n",
    "            config[\"input_shape\"][0] + 20,\n",
    "            config[\"input_shape\"][0] + 20,\n",
    "            dtype=\"float32\",\n",
    "        ),\n",
    "        layers.RandomCrop(config[\"image_size\"], config[\"image_size\"], dtype=\"float32\"),\n",
    "        layers.RandomFlip(\"horizontal\", dtype=\"float32\"),\n",
    "    ],\n",
    "    name=\"train_data_augmentation\",\n",
    ")\n",
    "\n",
    "# Build the `val` and `test` data pipeline.\n",
    "test_aug = keras.Sequential(\n",
    "    [\n",
    "        layers.Rescaling(1 / 255.0, dtype=\"float32\"),\n",
    "        layers.Resizing(config[\"image_size\"], config[\"image_size\"], dtype=\"float32\"),\n",
    "    ],\n",
    "    name=\"test_data_augmentation\",\n",
    ")"
   ]
  },
  {
   "cell_type": "code",
   "execution_count": 10,
   "metadata": {
    "id": "va4h0jW-Crze"
   },
   "outputs": [],
   "source": [
    "def train_map_fn(image, label):\n",
    "    return train_aug(image), label\n",
    "\n",
    "\n",
    "def test_map_fn(image, label):\n",
    "    return test_aug(image), label"
   ]
  },
  {
   "cell_type": "code",
   "execution_count": 11,
   "metadata": {
    "id": "tFJToGQFCo3i"
   },
   "outputs": [],
   "source": [
    "train_ds = tf.data.Dataset.from_tensor_slices((x_train, y_train))\n",
    "train_ds = (\n",
    "    train_ds.map(train_map_fn, num_parallel_calls=AUTO)\n",
    "    .shuffle(config[\"buffer_size\"])\n",
    "    .batch(config[\"batch_size\"], num_parallel_calls=AUTO)\n",
    "    .prefetch(AUTO)\n",
    ")\n",
    "\n",
    "val_ds = tf.data.Dataset.from_tensor_slices((x_val, y_val))\n",
    "val_ds = (\n",
    "    val_ds.map(test_map_fn, num_parallel_calls=AUTO)\n",
    "    .batch(config[\"batch_size\"], num_parallel_calls=AUTO)\n",
    "    .prefetch(AUTO)\n",
    ")\n",
    "\n",
    "test_ds = tf.data.Dataset.from_tensor_slices((x_test, y_test))\n",
    "test_ds = (\n",
    "    test_ds.map(test_map_fn, num_parallel_calls=AUTO)\n",
    "    .batch(config[\"batch_size\"], num_parallel_calls=AUTO)\n",
    "    .prefetch(AUTO)\n",
    ")"
   ]
  },
  {
   "cell_type": "code",
   "source": [
    "total_batches_train = tf.data.experimental.cardinality(train_ds).numpy()\n",
    "total_batches_train"
   ],
   "metadata": {
    "colab": {
     "base_uri": "https://localhost:8080/"
    },
    "id": "RfL6YRuDAZ2H",
    "outputId": "630295f0-3408-4f83-874a-e43a3be3e339"
   },
   "execution_count": 12,
   "outputs": [
    {
     "output_type": "execute_result",
     "data": {
      "text/plain": [
       "40"
      ]
     },
     "metadata": {},
     "execution_count": 12
    }
   ]
  },
  {
   "cell_type": "code",
   "execution_count": 13,
   "metadata": {
    "colab": {
     "base_uri": "https://localhost:8080/"
    },
    "id": "2dZ0UnVlDGO4",
    "outputId": "b4444de7-2324-4ddf-9659-07882e0fe9a7"
   },
   "outputs": [
    {
     "output_type": "stream",
     "name": "stdout",
     "text": [
      "(1024, 48, 48, 3)\n",
      "(1024, 1)\n"
     ]
    }
   ],
   "source": [
    "for image, label in train_ds.take(1):\n",
    "    print(image.shape)\n",
    "    print(label.shape)"
   ]
  },
  {
   "cell_type": "markdown",
   "metadata": {
    "id": "9FpQDW0eDQwF"
   },
   "source": [
    "# PatchEmbedding"
   ]
  },
  {
   "cell_type": "code",
   "execution_count": 14,
   "metadata": {
    "id": "Q9w8rUdFDMkP"
   },
   "outputs": [],
   "source": [
    "class PatchEmbed(layers.Layer):\n",
    "    \"\"\"Image patch embedding layer.\n",
    "\n",
    "    Args:\n",
    "        image_size (Tuple[int]): Input image resolution.\n",
    "        patch_size (Tuple[int]): Patch spatial resolution.\n",
    "        embed_dim (int): Embedding dimension.\n",
    "        add_pos_info (bool): Whether to add positional information to tokens.\n",
    "    \"\"\"\n",
    "\n",
    "    def __init__(\n",
    "        self,\n",
    "        image_size: Tuple[int] = (48, 48),\n",
    "        patch_size: Tuple[int] = (4, 4),\n",
    "        embed_dim: int = 32,\n",
    "        chunk_size: int = 8,\n",
    "        **kwargs,\n",
    "    ):\n",
    "        super().__init__(**kwargs)\n",
    "        patch_resolution = [\n",
    "            image_size[0] // patch_size[0],\n",
    "            image_size[1] // patch_size[1],\n",
    "        ]\n",
    "        self.image_size = image_size\n",
    "        self.patch_size = patch_size\n",
    "        self.embed_dim = embed_dim\n",
    "        self.patch_resolution = patch_resolution\n",
    "        self.num_patches = patch_resolution[0] * patch_resolution[1]\n",
    "        self.proj = layers.Conv2D(\n",
    "            filters=embed_dim, kernel_size=patch_size, strides=patch_size\n",
    "        )\n",
    "        self.flatten = layers.Reshape(target_shape=(-1, embed_dim))\n",
    "        self.position_embedding = layers.Embedding(\n",
    "            input_dim=self.num_patches, output_dim=embed_dim\n",
    "        )\n",
    "        self.positions = tf.range(start=0, limit=self.num_patches, delta=1)\n",
    "        self.norm = keras.layers.LayerNormalization(epsilon=1e-5)\n",
    "        self.chunking_layer = layers.Reshape(\n",
    "            target_shape=(self.num_patches // chunk_size, chunk_size, embed_dim)\n",
    "        )\n",
    "\n",
    "    def call(self, x: tf.Tensor) -> Tuple[tf.Tensor, int, int, int]:\n",
    "        \"\"\"Patchifies the image, converts into tokens and adds pos information.\n",
    "\n",
    "        Args:\n",
    "            x: Tensor of shape (B, H, W, C)\n",
    "\n",
    "        Returns:\n",
    "            A tuple of the processed tensor, height of the projected\n",
    "            feature map, width of the projected feature map, number\n",
    "            of channels of the projected feature map.\n",
    "        \"\"\"\n",
    "        # Project the inputs.\n",
    "        x = self.proj(x)\n",
    "        x = self.flatten(x)\n",
    "        x = x + self.position_embedding(self.positions)\n",
    "\n",
    "        # B, H, W, C -> B, H*W, C\n",
    "        x = self.norm(x)\n",
    "\n",
    "        # Chunk the tokens in K\n",
    "        x = self.chunking_layer(x)\n",
    "\n",
    "        return x"
   ]
  },
  {
   "cell_type": "markdown",
   "metadata": {
    "id": "ApnyYrSTDnwy"
   },
   "source": [
    "# FFN"
   ]
  },
  {
   "cell_type": "code",
   "execution_count": 15,
   "metadata": {
    "id": "a_ztuHnGDcAR"
   },
   "outputs": [],
   "source": [
    "class FeedForwardNetwork(layers.Layer):\n",
    "    \"\"\"Feed Forward Network.\n",
    "\n",
    "    Args:\n",
    "        dims (`int`): Dimension of the FFN.\n",
    "        dropout (`float`): Dropout probability of FFN.\n",
    "    \"\"\"\n",
    "\n",
    "    def __init__(self, dims: int, dropout: float = 0.1, **kwargs):\n",
    "        super().__init__(**kwargs)\n",
    "        self.ffn = keras.Sequential(\n",
    "            [\n",
    "                layers.Dense(units=4 * dims, activation=tf.nn.gelu),\n",
    "                layers.Dense(units=dims),\n",
    "                layers.Dropout(rate=dropout),\n",
    "            ]\n",
    "        )\n",
    "        self.add = layers.Add()\n",
    "        self.layernorm = layers.LayerNormalization(epsilon=1e-5)\n",
    "\n",
    "    def call(self, inputs: tf.Tensor):\n",
    "        x = self.layernorm(inputs)\n",
    "        x = self.add([inputs, self.ffn(x)])\n",
    "        return x"
   ]
  },
  {
   "cell_type": "markdown",
   "metadata": {
    "id": "eVH2CUFDDq3d"
   },
   "source": [
    "# Attention"
   ]
  },
  {
   "cell_type": "code",
   "execution_count": 16,
   "metadata": {
    "id": "Tap3IUcGDrZ1"
   },
   "outputs": [],
   "source": [
    "class BaseAttention(layers.Layer):\n",
    "    \"\"\"The base attention module.\n",
    "\n",
    "    Args:\n",
    "        num_heads (`int`): Number of attention heads.\n",
    "        key_dim (`int`): Size of each attention head for query and key.\n",
    "        dropout (`float`): Dropout probability for Attention Module.\n",
    "\n",
    "    \"\"\"\n",
    "\n",
    "    def __init__(self, num_heads: int, key_dim: int, dropout: float = 0.1, **kwargs):\n",
    "        super().__init__(**kwargs)\n",
    "        self.mha = layers.MultiHeadAttention(num_heads, key_dim, dropout=dropout)\n",
    "        self.q_layernorm = layers.LayerNormalization(epsilon=1e-5)\n",
    "        self.k_layernorm = layers.LayerNormalization(epsilon=1e-5)\n",
    "        self.v_layernorm = layers.LayerNormalization(epsilon=1e-5)\n",
    "        self.add = layers.Add()\n",
    "\n",
    "    def call(self, input_query: tf.Tensor, key: tf.Tensor, value: tf.Tensor):\n",
    "        query = self.q_layernorm(input_query)\n",
    "        key = self.k_layernorm(key)\n",
    "        value = self.v_layernorm(value)\n",
    "        (attn_outs, attn_scores) = self.mha(\n",
    "            query=query,\n",
    "            key=key,\n",
    "            value=value,\n",
    "            return_attention_scores=True,\n",
    "        )\n",
    "        self.attn_scores = attn_scores\n",
    "        x = self.add([input_query, attn_outs])\n",
    "        return x"
   ]
  },
  {
   "cell_type": "code",
   "execution_count": 17,
   "metadata": {
    "id": "rOH4DFJKDr5n"
   },
   "outputs": [],
   "source": [
    "class AttentionWithFFN(layers.Layer):\n",
    "    \"\"\"Self-attention module with FFN\n",
    "\n",
    "    Args:\n",
    "        ffn_dims (`int`): Number of units in FFN.\n",
    "        ffn_dropout (`float`): Dropout probability for FFN.\n",
    "        num_heads (`int`): Number of attention heads.\n",
    "        key_dim (`int`): Size of each attention head for query and key.\n",
    "        attn_dropout (`float`): Dropout probability for attention module.\n",
    "    \"\"\"\n",
    "\n",
    "    def __init__(\n",
    "        self,\n",
    "        ffn_dims: int = 128,\n",
    "        ffn_dropout: float = 0.1,\n",
    "        num_heads: int = 4,\n",
    "        key_dim: int = 256,\n",
    "        attn_dropout: float = 0.1,\n",
    "        **kwargs\n",
    "    ):\n",
    "        super().__init__(**kwargs)\n",
    "        self.attention = BaseAttention(\n",
    "            num_heads, key_dim, attn_dropout, name=\"BaseAttention\"\n",
    "        )\n",
    "        self.ffn = FeedForwardNetwork(ffn_dims, ffn_dropout, name=\"FeedForward\")\n",
    "\n",
    "    def call(self, query: tf.Tensor, key: tf.Tensor, value: tf.Tensor):\n",
    "        x = self.attention(query, key, value)\n",
    "        self.attn_scores = self.attention.attn_scores\n",
    "        x = self.ffn(x)\n",
    "        return x"
   ]
  },
  {
   "cell_type": "markdown",
   "metadata": {
    "id": "QFRetSjPD8Cx"
   },
   "source": [
    "# Recurrence"
   ]
  },
  {
   "cell_type": "code",
   "execution_count": 18,
   "metadata": {
    "id": "QT4kMDPnDuBP"
   },
   "outputs": [],
   "source": [
    "class CustomCell(layers.Layer):\n",
    "    \"\"\"Custom logic inside each recurrence.\n",
    "\n",
    "    Args:\n",
    "        chunk_size (`int`): Chunk size of the inputs.\n",
    "        r (`int`): One Cross Attention per **r** Self Attention.\n",
    "        num_layers (`int`): Number of layers in the Perceptual Model.\n",
    "        ffn_dims (`int`): Number of units in FFN.\n",
    "        ffn_dropout (`float`): Dropout probability for FFN.\n",
    "        num_heads (`int`): Number of attention heads.\n",
    "        key_dim (`int`): Size of each attention head for query and key.\n",
    "        attn_dropout (`float`): Dropout probability for attention module.\n",
    "    \"\"\"\n",
    "\n",
    "    def __init__(\n",
    "        self,\n",
    "        chunk_size,\n",
    "        r=2,\n",
    "        num_layers: int = 5,\n",
    "        ffn_dims: int = 128,\n",
    "        ffn_dropout: float = 0.1,\n",
    "        num_heads: int = 4,\n",
    "        key_dim: int = 256,\n",
    "        attn_dropout: float = 0.1,\n",
    "        **kwargs,\n",
    "    ):\n",
    "        super().__init__(**kwargs)\n",
    "        self.chunk_size = chunk_size\n",
    "        self.r = r\n",
    "        self.num_layers = num_layers\n",
    "        self.ffn_dims = ffn_dims\n",
    "        self.ffn_droput = ffn_dropout\n",
    "        self.num_heads = num_heads\n",
    "        self.key_dim = key_dim\n",
    "        self.attn_dropout = attn_dropout\n",
    "\n",
    "        self.state_size = tf.TensorShape([chunk_size, ffn_dims])\n",
    "        self.output_size = tf.TensorShape([chunk_size, ffn_dims])\n",
    "\n",
    "        self.get_attn_scores = False\n",
    "        self.attn_scores = []\n",
    "\n",
    "        ########################################################################\n",
    "        # Perceptual Module\n",
    "        ########################################################################\n",
    "        perceptual_module = list()\n",
    "        for layer_idx in range(num_layers):\n",
    "            perceptual_module.append(\n",
    "                AttentionWithFFN(\n",
    "                    ffn_dims=ffn_dims,\n",
    "                    ffn_dropout=ffn_dropout,\n",
    "                    num_heads=num_heads,\n",
    "                    key_dim=key_dim,\n",
    "                    attn_dropout=attn_dropout,\n",
    "                    name=f\"PM_SelfAttentionFFN{layer_idx}\",\n",
    "                )\n",
    "            )\n",
    "            if layer_idx % r == 0:\n",
    "                perceptual_module.append(\n",
    "                    AttentionWithFFN(\n",
    "                        ffn_dims=ffn_dims,\n",
    "                        ffn_dropout=ffn_dropout,\n",
    "                        num_heads=num_heads,\n",
    "                        key_dim=key_dim,\n",
    "                        attn_dropout=attn_dropout,\n",
    "                        name=f\"PM_CrossAttentionFFN{layer_idx}\",\n",
    "                    )\n",
    "                )\n",
    "        self.perceptual_module = perceptual_module\n",
    "\n",
    "        ########################################################################\n",
    "        # Temporal Latent Bottleneck Module\n",
    "        ########################################################################\n",
    "        self.tlb_module = AttentionWithFFN(\n",
    "            ffn_dims=ffn_dims,\n",
    "            ffn_dropout=ffn_dropout,\n",
    "            num_heads=num_heads,\n",
    "            key_dim=key_dim,\n",
    "            attn_dropout=attn_dropout,\n",
    "            name=f\"TLBM_CrossAttentionFFN\",\n",
    "        )\n",
    "\n",
    "    def call(self, inputs, states, training=None):\n",
    "        # inputs => (batch, chunk_size, dims)\n",
    "        # states => [(batch, chunk_size, units)]\n",
    "\n",
    "        slow_stream = states[0]\n",
    "        fast_stream = inputs\n",
    "\n",
    "        for layer_idx, layer in enumerate(self.perceptual_module):\n",
    "            fast_stream = layer(query=fast_stream, key=fast_stream, value=fast_stream)\n",
    "\n",
    "            if layer_idx % self.r == 0:\n",
    "                fast_stream = layer(\n",
    "                    query=fast_stream, key=slow_stream, value=slow_stream\n",
    "                )\n",
    "\n",
    "        slow_stream = self.tlb_module(\n",
    "            query=slow_stream, key=fast_stream, value=fast_stream\n",
    "        )\n",
    "\n",
    "        if self.get_attn_scores:\n",
    "            self.attn_scores.append(self.tlb_module.attn_scores)\n",
    "\n",
    "        return fast_stream, [slow_stream]"
   ]
  },
  {
   "cell_type": "markdown",
   "metadata": {
    "id": "ZiHEV98_QxCS"
   },
   "source": [
    "# Build the model"
   ]
  },
  {
   "cell_type": "code",
   "execution_count": 19,
   "metadata": {
    "id": "1aNjF5SXRMo9"
   },
   "outputs": [],
   "source": [
    "class ModelTrainer(keras.Model):\n",
    "    def __init__(self, patch_layer, custom_cell, **kwargs):\n",
    "        super().__init__(**kwargs)\n",
    "        self.patch_layer = patch_layer\n",
    "        self.rnn = layers.RNN(custom_cell)\n",
    "        self.gap = layers.GlobalAveragePooling1D()\n",
    "        self.head = layers.Dense(10, activation=\"softmax\", dtype=\"float32\")\n",
    "\n",
    "    def call(self, inputs):\n",
    "        x = self.patch_layer(inputs)\n",
    "        x = self.rnn(x)\n",
    "        x = self.gap(x)\n",
    "        outputs = self.head(x)\n",
    "        return outputs"
   ]
  },
  {
   "cell_type": "code",
   "execution_count": 20,
   "metadata": {
    "id": "Z9EngzvgD99W"
   },
   "outputs": [],
   "source": [
    "keras.backend.clear_session()\n",
    "\n",
    "# PATCH\n",
    "patch_layer = PatchEmbed(\n",
    "    image_size=(config[\"image_size\"], config[\"image_size\"]),\n",
    "    patch_size=(config[\"patch_size\"], config[\"patch_size\"]),\n",
    "    embed_dim=config[\"embed_dim\"],\n",
    "    chunk_size=config[\"chunk_size\"],\n",
    ")\n",
    "\n",
    "# RECURRENCE\n",
    "cell = CustomCell(\n",
    "    chunk_size=config[\"chunk_size\"],\n",
    "    r=config[\"r\"],\n",
    "    num_layers=config[\"num_layers\"],\n",
    "    ffn_dims=config[\"embed_dim\"],\n",
    "    ffn_dropout=config[\"ffn_drop\"],\n",
    "    num_heads=config[\"num_heads\"],\n",
    "    key_dim=config[\"embed_dim\"],\n",
    "    attn_dropout=config[\"attn_drop\"],\n",
    ")\n",
    "\n",
    "\n",
    "model = ModelTrainer(patch_layer, cell)"
   ]
  },
  {
   "cell_type": "code",
   "execution_count": 21,
   "metadata": {
    "colab": {
     "base_uri": "https://localhost:8080/",
     "height": 1000
    },
    "id": "-7pwBfVwFdPv",
    "outputId": "9345bd4a-1408-48be-95b8-ca8edb76249e"
   },
   "outputs": [
    {
     "output_type": "stream",
     "name": "stderr",
     "text": [
      "\u001b[34m\u001b[1mwandb\u001b[0m: Currently logged in as: \u001b[33marig23498\u001b[0m. Use \u001b[1m`wandb login --relogin`\u001b[0m to force relogin\n"
     ]
    },
    {
     "output_type": "display_data",
     "data": {
      "text/plain": [
       "<IPython.core.display.HTML object>"
      ],
      "text/html": [
       "Tracking run with wandb version 0.13.11"
      ]
     },
     "metadata": {}
    },
    {
     "output_type": "display_data",
     "data": {
      "text/plain": [
       "<IPython.core.display.HTML object>"
      ],
      "text/html": [
       "Run data is saved locally in <code>/content/wandb/run-20230311_071536-zjqiu4zu</code>"
      ]
     },
     "metadata": {}
    },
    {
     "output_type": "display_data",
     "data": {
      "text/plain": [
       "<IPython.core.display.HTML object>"
      ],
      "text/html": [
       "Syncing run <strong><a href='https://wandb.ai/arig23498/temporal-latent-bottleneck/runs/zjqiu4zu' target=\"_blank\">cifar10-100epochs</a></strong> to <a href='https://wandb.ai/arig23498/temporal-latent-bottleneck' target=\"_blank\">Weights & Biases</a> (<a href='https://wandb.me/run' target=\"_blank\">docs</a>)<br/>"
      ]
     },
     "metadata": {}
    },
    {
     "output_type": "display_data",
     "data": {
      "text/plain": [
       "<IPython.core.display.HTML object>"
      ],
      "text/html": [
       " View project at <a href='https://wandb.ai/arig23498/temporal-latent-bottleneck' target=\"_blank\">https://wandb.ai/arig23498/temporal-latent-bottleneck</a>"
      ]
     },
     "metadata": {}
    },
    {
     "output_type": "display_data",
     "data": {
      "text/plain": [
       "<IPython.core.display.HTML object>"
      ],
      "text/html": [
       " View run at <a href='https://wandb.ai/arig23498/temporal-latent-bottleneck/runs/zjqiu4zu' target=\"_blank\">https://wandb.ai/arig23498/temporal-latent-bottleneck/runs/zjqiu4zu</a>"
      ]
     },
     "metadata": {}
    },
    {
     "output_type": "stream",
     "name": "stdout",
     "text": [
      "Epoch 1/100\n",
      "40/40 [==============================] - 211s 3s/step - loss: 2.9351 - accuracy: 0.1434 - val_loss: 2.1893 - val_accuracy: 0.2061\n",
      "Epoch 2/100\n",
      "40/40 [==============================] - 78s 2s/step - loss: 2.1292 - accuracy: 0.2238 - val_loss: 2.0301 - val_accuracy: 0.2660\n",
      "Epoch 3/100\n",
      "40/40 [==============================] - 79s 2s/step - loss: 2.0539 - accuracy: 0.2494 - val_loss: 2.0199 - val_accuracy: 0.2585\n",
      "Epoch 4/100\n",
      "40/40 [==============================] - 78s 2s/step - loss: 1.9979 - accuracy: 0.2692 - val_loss: 1.9417 - val_accuracy: 0.3129\n",
      "Epoch 5/100\n",
      "40/40 [==============================] - 78s 2s/step - loss: 1.9364 - accuracy: 0.2964 - val_loss: 1.8780 - val_accuracy: 0.3275\n",
      "Epoch 6/100\n",
      "40/40 [==============================] - 78s 2s/step - loss: 1.8889 - accuracy: 0.3106 - val_loss: 1.8020 - val_accuracy: 0.3473\n",
      "Epoch 7/100\n",
      "40/40 [==============================] - 78s 2s/step - loss: 1.8074 - accuracy: 0.3383 - val_loss: 1.8039 - val_accuracy: 0.3583\n",
      "Epoch 8/100\n",
      "40/40 [==============================] - 78s 2s/step - loss: 1.7593 - accuracy: 0.3566 - val_loss: 1.8093 - val_accuracy: 0.3628\n",
      "Epoch 9/100\n",
      "40/40 [==============================] - 78s 2s/step - loss: 1.6984 - accuracy: 0.3779 - val_loss: 1.6247 - val_accuracy: 0.4112\n",
      "Epoch 10/100\n",
      "39/40 [============================>.] - ETA: 1s - loss: 1.6413 - accuracy: 0.3972"
     ]
    },
    {
     "output_type": "stream",
     "name": "stderr",
     "text": [
      "WARNING:absl:Found untraced functions such as _update_step_xla, conv2d_layer_call_fn, conv2d_layer_call_and_return_conditional_losses, _jit_compiled_convolution_op, reshape_layer_call_fn while saving (showing 5 of 332). These functions will not be directly callable after loading.\n",
      "\u001b[34m\u001b[1mwandb\u001b[0m: Adding directory to artifact (./model_10)... Done. 0.1s\n"
     ]
    },
    {
     "output_type": "stream",
     "name": "stdout",
     "text": [
      "40/40 [==============================] - 142s 4s/step - loss: 1.6412 - accuracy: 0.3972 - val_loss: 1.6166 - val_accuracy: 0.4231\n",
      "Epoch 11/100\n",
      "40/40 [==============================] - 78s 2s/step - loss: 1.6029 - accuracy: 0.4100 - val_loss: 1.5845 - val_accuracy: 0.4394\n",
      "Epoch 12/100\n",
      "40/40 [==============================] - 78s 2s/step - loss: 1.5562 - accuracy: 0.4302 - val_loss: 1.5047 - val_accuracy: 0.4587\n",
      "Epoch 13/100\n",
      "40/40 [==============================] - 78s 2s/step - loss: 1.5230 - accuracy: 0.4405 - val_loss: 1.4986 - val_accuracy: 0.4640\n",
      "Epoch 14/100\n",
      "40/40 [==============================] - 78s 2s/step - loss: 1.4878 - accuracy: 0.4508 - val_loss: 1.5346 - val_accuracy: 0.4602\n",
      "Epoch 15/100\n",
      "40/40 [==============================] - 78s 2s/step - loss: 1.4644 - accuracy: 0.4620 - val_loss: 1.4576 - val_accuracy: 0.4715\n",
      "Epoch 16/100\n",
      "40/40 [==============================] - 78s 2s/step - loss: 1.4537 - accuracy: 0.4669 - val_loss: 1.4215 - val_accuracy: 0.4865\n",
      "Epoch 17/100\n",
      "40/40 [==============================] - 78s 2s/step - loss: 1.4143 - accuracy: 0.4808 - val_loss: 1.4551 - val_accuracy: 0.4790\n",
      "Epoch 18/100\n",
      "40/40 [==============================] - 78s 2s/step - loss: 1.4222 - accuracy: 0.4796 - val_loss: 1.3983 - val_accuracy: 0.5005\n",
      "Epoch 19/100\n",
      "40/40 [==============================] - 78s 2s/step - loss: 1.3733 - accuracy: 0.4990 - val_loss: 1.3739 - val_accuracy: 0.5072\n",
      "Epoch 20/100\n",
      "39/40 [============================>.] - ETA: 1s - loss: 1.3526 - accuracy: 0.5058"
     ]
    },
    {
     "output_type": "stream",
     "name": "stderr",
     "text": [
      "WARNING:absl:Found untraced functions such as _update_step_xla, conv2d_layer_call_fn, conv2d_layer_call_and_return_conditional_losses, _jit_compiled_convolution_op, reshape_layer_call_fn while saving (showing 5 of 332). These functions will not be directly callable after loading.\n",
      "\u001b[34m\u001b[1mwandb\u001b[0m: Adding directory to artifact (./model_20)... Done. 0.1s\n"
     ]
    },
    {
     "output_type": "stream",
     "name": "stdout",
     "text": [
      "40/40 [==============================] - 142s 4s/step - loss: 1.3525 - accuracy: 0.5058 - val_loss: 1.3402 - val_accuracy: 0.5231\n",
      "Epoch 21/100\n",
      "40/40 [==============================] - 78s 2s/step - loss: 1.3315 - accuracy: 0.5144 - val_loss: 1.3285 - val_accuracy: 0.5205\n",
      "Epoch 22/100\n",
      "40/40 [==============================] - 78s 2s/step - loss: 1.3102 - accuracy: 0.5229 - val_loss: 1.3034 - val_accuracy: 0.5319\n",
      "Epoch 23/100\n",
      "40/40 [==============================] - 78s 2s/step - loss: 1.3023 - accuracy: 0.5235 - val_loss: 1.2869 - val_accuracy: 0.5385\n",
      "Epoch 24/100\n",
      "40/40 [==============================] - 79s 2s/step - loss: 1.2768 - accuracy: 0.5351 - val_loss: 1.3118 - val_accuracy: 0.5318\n",
      "Epoch 25/100\n",
      "40/40 [==============================] - 78s 2s/step - loss: 1.2706 - accuracy: 0.5370 - val_loss: 1.2713 - val_accuracy: 0.5451\n",
      "Epoch 26/100\n",
      "40/40 [==============================] - 78s 2s/step - loss: 1.2396 - accuracy: 0.5494 - val_loss: 1.2531 - val_accuracy: 0.5516\n",
      "Epoch 27/100\n",
      "40/40 [==============================] - 79s 2s/step - loss: 1.2294 - accuracy: 0.5543 - val_loss: 1.2419 - val_accuracy: 0.5547\n",
      "Epoch 28/100\n",
      "40/40 [==============================] - 78s 2s/step - loss: 1.2157 - accuracy: 0.5588 - val_loss: 1.2708 - val_accuracy: 0.5462\n",
      "Epoch 29/100\n",
      "40/40 [==============================] - 78s 2s/step - loss: 1.1961 - accuracy: 0.5672 - val_loss: 1.2572 - val_accuracy: 0.5572\n",
      "Epoch 30/100\n",
      "39/40 [============================>.] - ETA: 1s - loss: 1.1904 - accuracy: 0.5666"
     ]
    },
    {
     "output_type": "stream",
     "name": "stderr",
     "text": [
      "WARNING:absl:Found untraced functions such as _update_step_xla, conv2d_layer_call_fn, conv2d_layer_call_and_return_conditional_losses, _jit_compiled_convolution_op, reshape_layer_call_fn while saving (showing 5 of 332). These functions will not be directly callable after loading.\n",
      "\u001b[34m\u001b[1mwandb\u001b[0m: Adding directory to artifact (./model_30)... Done. 0.1s\n"
     ]
    },
    {
     "output_type": "stream",
     "name": "stdout",
     "text": [
      "40/40 [==============================] - 144s 4s/step - loss: 1.1904 - accuracy: 0.5666 - val_loss: 1.1835 - val_accuracy: 0.5763\n",
      "Epoch 31/100\n",
      "40/40 [==============================] - 78s 2s/step - loss: 1.1714 - accuracy: 0.5768 - val_loss: 1.1880 - val_accuracy: 0.5745\n",
      "Epoch 32/100\n",
      "40/40 [==============================] - 79s 2s/step - loss: 1.1564 - accuracy: 0.5812 - val_loss: 1.2861 - val_accuracy: 0.5438\n",
      "Epoch 33/100\n",
      "40/40 [==============================] - 78s 2s/step - loss: 1.1711 - accuracy: 0.5783 - val_loss: 1.2441 - val_accuracy: 0.5627\n",
      "Epoch 34/100\n",
      "40/40 [==============================] - 79s 2s/step - loss: 1.1534 - accuracy: 0.5818 - val_loss: 1.2373 - val_accuracy: 0.5670\n",
      "Epoch 35/100\n",
      "40/40 [==============================] - 78s 2s/step - loss: 1.1428 - accuracy: 0.5880 - val_loss: 1.1459 - val_accuracy: 0.5914\n",
      "Epoch 36/100\n",
      "40/40 [==============================] - 78s 2s/step - loss: 1.1127 - accuracy: 0.5981 - val_loss: 1.2172 - val_accuracy: 0.5708\n",
      "Epoch 37/100\n",
      "40/40 [==============================] - 79s 2s/step - loss: 1.1117 - accuracy: 0.5986 - val_loss: 1.1693 - val_accuracy: 0.5865\n",
      "Epoch 38/100\n",
      "40/40 [==============================] - 78s 2s/step - loss: 1.1014 - accuracy: 0.6052 - val_loss: 1.1348 - val_accuracy: 0.5953\n",
      "Epoch 39/100\n",
      "40/40 [==============================] - 78s 2s/step - loss: 1.0904 - accuracy: 0.6085 - val_loss: 1.1104 - val_accuracy: 0.6017\n",
      "Epoch 40/100\n",
      "39/40 [============================>.] - ETA: 1s - loss: 1.0720 - accuracy: 0.6132"
     ]
    },
    {
     "output_type": "stream",
     "name": "stderr",
     "text": [
      "WARNING:absl:Found untraced functions such as _update_step_xla, conv2d_layer_call_fn, conv2d_layer_call_and_return_conditional_losses, _jit_compiled_convolution_op, reshape_layer_call_fn while saving (showing 5 of 332). These functions will not be directly callable after loading.\n",
      "\u001b[34m\u001b[1mwandb\u001b[0m: Adding directory to artifact (./model_40)... Done. 0.1s\n"
     ]
    },
    {
     "output_type": "stream",
     "name": "stdout",
     "text": [
      "40/40 [==============================] - 143s 4s/step - loss: 1.0718 - accuracy: 0.6134 - val_loss: 1.1278 - val_accuracy: 0.6020\n",
      "Epoch 41/100\n",
      "40/40 [==============================] - 78s 2s/step - loss: 1.0583 - accuracy: 0.6177 - val_loss: 1.1094 - val_accuracy: 0.6046\n",
      "Epoch 42/100\n",
      "40/40 [==============================] - 78s 2s/step - loss: 1.0447 - accuracy: 0.6234 - val_loss: 1.1020 - val_accuracy: 0.6060\n",
      "Epoch 43/100\n",
      "40/40 [==============================] - 79s 2s/step - loss: 1.0345 - accuracy: 0.6266 - val_loss: 1.1231 - val_accuracy: 0.6077\n",
      "Epoch 44/100\n",
      "40/40 [==============================] - 78s 2s/step - loss: 1.0330 - accuracy: 0.6309 - val_loss: 1.0979 - val_accuracy: 0.6114\n",
      "Epoch 45/100\n",
      "40/40 [==============================] - 79s 2s/step - loss: 1.0291 - accuracy: 0.6274 - val_loss: 1.0556 - val_accuracy: 0.6255\n",
      "Epoch 46/100\n",
      "40/40 [==============================] - 79s 2s/step - loss: 1.0081 - accuracy: 0.6376 - val_loss: 1.1163 - val_accuracy: 0.6142\n",
      "Epoch 47/100\n",
      "40/40 [==============================] - 79s 2s/step - loss: 1.0109 - accuracy: 0.6364 - val_loss: 1.0598 - val_accuracy: 0.6222\n",
      "Epoch 48/100\n",
      "40/40 [==============================] - 79s 2s/step - loss: 1.0041 - accuracy: 0.6418 - val_loss: 1.0864 - val_accuracy: 0.6119\n",
      "Epoch 49/100\n",
      "40/40 [==============================] - 80s 2s/step - loss: 0.9990 - accuracy: 0.6402 - val_loss: 1.0604 - val_accuracy: 0.6261\n",
      "Epoch 50/100\n",
      "39/40 [============================>.] - ETA: 1s - loss: 0.9793 - accuracy: 0.6492"
     ]
    },
    {
     "output_type": "stream",
     "name": "stderr",
     "text": [
      "WARNING:absl:Found untraced functions such as _update_step_xla, conv2d_layer_call_fn, conv2d_layer_call_and_return_conditional_losses, _jit_compiled_convolution_op, reshape_layer_call_fn while saving (showing 5 of 332). These functions will not be directly callable after loading.\n",
      "\u001b[34m\u001b[1mwandb\u001b[0m: Adding directory to artifact (./model_50)... Done. 0.1s\n"
     ]
    },
    {
     "output_type": "stream",
     "name": "stdout",
     "text": [
      "40/40 [==============================] - 143s 4s/step - loss: 0.9793 - accuracy: 0.6492 - val_loss: 1.0486 - val_accuracy: 0.6307\n",
      "Epoch 51/100\n",
      "40/40 [==============================] - 78s 2s/step - loss: 0.9786 - accuracy: 0.6500 - val_loss: 1.0567 - val_accuracy: 0.6293\n",
      "Epoch 52/100\n",
      "40/40 [==============================] - 80s 2s/step - loss: 0.9667 - accuracy: 0.6536 - val_loss: 1.0311 - val_accuracy: 0.6331\n",
      "Epoch 53/100\n",
      "40/40 [==============================] - 79s 2s/step - loss: 0.9593 - accuracy: 0.6575 - val_loss: 1.0463 - val_accuracy: 0.6289\n",
      "Epoch 54/100\n",
      "40/40 [==============================] - 79s 2s/step - loss: 0.9529 - accuracy: 0.6597 - val_loss: 1.0175 - val_accuracy: 0.6374\n",
      "Epoch 55/100\n",
      "40/40 [==============================] - 79s 2s/step - loss: 0.9389 - accuracy: 0.6655 - val_loss: 1.0399 - val_accuracy: 0.6350\n",
      "Epoch 56/100\n",
      "40/40 [==============================] - 79s 2s/step - loss: 0.9360 - accuracy: 0.6636 - val_loss: 1.0858 - val_accuracy: 0.6206\n",
      "Epoch 57/100\n",
      "40/40 [==============================] - 79s 2s/step - loss: 0.9342 - accuracy: 0.6662 - val_loss: 1.0446 - val_accuracy: 0.6379\n",
      "Epoch 58/100\n",
      "40/40 [==============================] - 79s 2s/step - loss: 0.9162 - accuracy: 0.6716 - val_loss: 0.9876 - val_accuracy: 0.6528\n",
      "Epoch 59/100\n",
      "40/40 [==============================] - 79s 2s/step - loss: 0.9075 - accuracy: 0.6759 - val_loss: 0.9930 - val_accuracy: 0.6507\n",
      "Epoch 60/100\n",
      "39/40 [============================>.] - ETA: 1s - loss: 0.8975 - accuracy: 0.6778"
     ]
    },
    {
     "output_type": "stream",
     "name": "stderr",
     "text": [
      "WARNING:absl:Found untraced functions such as _update_step_xla, conv2d_layer_call_fn, conv2d_layer_call_and_return_conditional_losses, _jit_compiled_convolution_op, reshape_layer_call_fn while saving (showing 5 of 332). These functions will not be directly callable after loading.\n",
      "\u001b[34m\u001b[1mwandb\u001b[0m: Adding directory to artifact (./model_60)... Done. 0.1s\n"
     ]
    },
    {
     "output_type": "stream",
     "name": "stdout",
     "text": [
      "40/40 [==============================] - 145s 4s/step - loss: 0.8975 - accuracy: 0.6778 - val_loss: 1.0048 - val_accuracy: 0.6515\n",
      "Epoch 61/100\n",
      "40/40 [==============================] - 79s 2s/step - loss: 0.8981 - accuracy: 0.6780 - val_loss: 0.9868 - val_accuracy: 0.6541\n",
      "Epoch 62/100\n",
      "40/40 [==============================] - 79s 2s/step - loss: 0.8863 - accuracy: 0.6812 - val_loss: 0.9786 - val_accuracy: 0.6552\n",
      "Epoch 63/100\n",
      "40/40 [==============================] - 79s 2s/step - loss: 0.8756 - accuracy: 0.6864 - val_loss: 0.9834 - val_accuracy: 0.6613\n",
      "Epoch 64/100\n",
      "40/40 [==============================] - 79s 2s/step - loss: 0.8723 - accuracy: 0.6894 - val_loss: 0.9779 - val_accuracy: 0.6628\n",
      "Epoch 65/100\n",
      "40/40 [==============================] - 79s 2s/step - loss: 0.8620 - accuracy: 0.6918 - val_loss: 0.9770 - val_accuracy: 0.6616\n",
      "Epoch 66/100\n",
      "40/40 [==============================] - 79s 2s/step - loss: 0.8522 - accuracy: 0.6977 - val_loss: 0.9678 - val_accuracy: 0.6643\n",
      "Epoch 67/100\n",
      "40/40 [==============================] - 79s 2s/step - loss: 0.8531 - accuracy: 0.6946 - val_loss: 0.9726 - val_accuracy: 0.6595\n",
      "Epoch 68/100\n",
      "40/40 [==============================] - 79s 2s/step - loss: 0.8462 - accuracy: 0.6985 - val_loss: 0.9647 - val_accuracy: 0.6662\n",
      "Epoch 69/100\n",
      "40/40 [==============================] - 80s 2s/step - loss: 0.8421 - accuracy: 0.6971 - val_loss: 0.9675 - val_accuracy: 0.6690\n",
      "Epoch 70/100\n",
      "39/40 [============================>.] - ETA: 1s - loss: 0.8331 - accuracy: 0.7015"
     ]
    },
    {
     "output_type": "stream",
     "name": "stderr",
     "text": [
      "WARNING:absl:Found untraced functions such as _update_step_xla, conv2d_layer_call_fn, conv2d_layer_call_and_return_conditional_losses, _jit_compiled_convolution_op, reshape_layer_call_fn while saving (showing 5 of 332). These functions will not be directly callable after loading.\n",
      "\u001b[34m\u001b[1mwandb\u001b[0m: Adding directory to artifact (./model_70)... Done. 0.1s\n"
     ]
    },
    {
     "output_type": "stream",
     "name": "stdout",
     "text": [
      "40/40 [==============================] - 144s 4s/step - loss: 0.8329 - accuracy: 0.7016 - val_loss: 1.0046 - val_accuracy: 0.6522\n",
      "Epoch 71/100\n",
      "40/40 [==============================] - 79s 2s/step - loss: 0.8301 - accuracy: 0.7009 - val_loss: 0.9777 - val_accuracy: 0.6640\n",
      "Epoch 72/100\n",
      "40/40 [==============================] - 79s 2s/step - loss: 0.8270 - accuracy: 0.7035 - val_loss: 0.9746 - val_accuracy: 0.6641\n",
      "Epoch 73/100\n",
      "40/40 [==============================] - 79s 2s/step - loss: 0.8171 - accuracy: 0.7090 - val_loss: 0.9352 - val_accuracy: 0.6767\n",
      "Epoch 74/100\n",
      "40/40 [==============================] - 79s 2s/step - loss: 0.8073 - accuracy: 0.7124 - val_loss: 0.9623 - val_accuracy: 0.6718\n",
      "Epoch 75/100\n",
      "40/40 [==============================] - 78s 2s/step - loss: 0.7976 - accuracy: 0.7159 - val_loss: 0.9514 - val_accuracy: 0.6753\n",
      "Epoch 76/100\n",
      "40/40 [==============================] - 78s 2s/step - loss: 0.7923 - accuracy: 0.7185 - val_loss: 0.9322 - val_accuracy: 0.6755\n",
      "Epoch 77/100\n",
      "40/40 [==============================] - 79s 2s/step - loss: 0.7834 - accuracy: 0.7178 - val_loss: 0.9629 - val_accuracy: 0.6734\n",
      "Epoch 78/100\n",
      "40/40 [==============================] - 78s 2s/step - loss: 0.7834 - accuracy: 0.7184 - val_loss: 0.9338 - val_accuracy: 0.6824\n",
      "Epoch 79/100\n",
      "40/40 [==============================] - 78s 2s/step - loss: 0.7745 - accuracy: 0.7229 - val_loss: 0.9006 - val_accuracy: 0.6902\n",
      "Epoch 80/100\n",
      "39/40 [============================>.] - ETA: 1s - loss: 0.7578 - accuracy: 0.7309"
     ]
    },
    {
     "output_type": "stream",
     "name": "stderr",
     "text": [
      "WARNING:absl:Found untraced functions such as _update_step_xla, conv2d_layer_call_fn, conv2d_layer_call_and_return_conditional_losses, _jit_compiled_convolution_op, reshape_layer_call_fn while saving (showing 5 of 332). These functions will not be directly callable after loading.\n",
      "\u001b[34m\u001b[1mwandb\u001b[0m: Adding directory to artifact (./model_80)... Done. 0.1s\n"
     ]
    },
    {
     "output_type": "stream",
     "name": "stdout",
     "text": [
      "40/40 [==============================] - 144s 4s/step - loss: 0.7578 - accuracy: 0.7308 - val_loss: 0.9243 - val_accuracy: 0.6866\n",
      "Epoch 81/100\n",
      "40/40 [==============================] - 78s 2s/step - loss: 0.7705 - accuracy: 0.7254 - val_loss: 0.9214 - val_accuracy: 0.6884\n",
      "Epoch 82/100\n",
      "40/40 [==============================] - 78s 2s/step - loss: 0.7497 - accuracy: 0.7324 - val_loss: 0.9126 - val_accuracy: 0.6868\n",
      "Epoch 83/100\n",
      "40/40 [==============================] - 79s 2s/step - loss: 0.7430 - accuracy: 0.7335 - val_loss: 0.9289 - val_accuracy: 0.6859\n",
      "Epoch 84/100\n",
      "40/40 [==============================] - 78s 2s/step - loss: 0.7474 - accuracy: 0.7337 - val_loss: 0.9077 - val_accuracy: 0.6913\n",
      "Epoch 85/100\n",
      "40/40 [==============================] - 78s 2s/step - loss: 0.7399 - accuracy: 0.7362 - val_loss: 0.9385 - val_accuracy: 0.6796\n",
      "Epoch 86/100\n",
      "40/40 [==============================] - 78s 2s/step - loss: 0.7370 - accuracy: 0.7351 - val_loss: 0.9495 - val_accuracy: 0.6818\n",
      "Epoch 87/100\n",
      "40/40 [==============================] - 78s 2s/step - loss: 0.7384 - accuracy: 0.7365 - val_loss: 0.9142 - val_accuracy: 0.6870\n",
      "Epoch 88/100\n",
      "40/40 [==============================] - 78s 2s/step - loss: 0.7226 - accuracy: 0.7405 - val_loss: 0.8863 - val_accuracy: 0.7006\n",
      "Epoch 89/100\n",
      "40/40 [==============================] - 78s 2s/step - loss: 0.7109 - accuracy: 0.7483 - val_loss: 0.9095 - val_accuracy: 0.6910\n",
      "Epoch 90/100\n",
      "39/40 [============================>.] - ETA: 1s - loss: 0.7053 - accuracy: 0.7487"
     ]
    },
    {
     "output_type": "stream",
     "name": "stderr",
     "text": [
      "WARNING:absl:Found untraced functions such as _update_step_xla, conv2d_layer_call_fn, conv2d_layer_call_and_return_conditional_losses, _jit_compiled_convolution_op, reshape_layer_call_fn while saving (showing 5 of 332). These functions will not be directly callable after loading.\n",
      "\u001b[34m\u001b[1mwandb\u001b[0m: Adding directory to artifact (./model_90)... Done. 0.1s\n"
     ]
    },
    {
     "output_type": "stream",
     "name": "stdout",
     "text": [
      "40/40 [==============================] - 143s 4s/step - loss: 0.7057 - accuracy: 0.7487 - val_loss: 0.9188 - val_accuracy: 0.6872\n",
      "Epoch 91/100\n",
      "40/40 [==============================] - 78s 2s/step - loss: 0.7049 - accuracy: 0.7476 - val_loss: 0.8944 - val_accuracy: 0.6976\n",
      "Epoch 92/100\n",
      "40/40 [==============================] - 78s 2s/step - loss: 0.6930 - accuracy: 0.7505 - val_loss: 0.8921 - val_accuracy: 0.7036\n",
      "Epoch 93/100\n",
      "40/40 [==============================] - 79s 2s/step - loss: 0.6961 - accuracy: 0.7509 - val_loss: 0.9113 - val_accuracy: 0.6897\n",
      "Epoch 94/100\n",
      "40/40 [==============================] - 78s 2s/step - loss: 0.7066 - accuracy: 0.7490 - val_loss: 0.8835 - val_accuracy: 0.6995\n",
      "Epoch 95/100\n",
      "40/40 [==============================] - 78s 2s/step - loss: 0.6818 - accuracy: 0.7539 - val_loss: 0.8666 - val_accuracy: 0.7045\n",
      "Epoch 96/100\n",
      "40/40 [==============================] - 79s 2s/step - loss: 0.6712 - accuracy: 0.7589 - val_loss: 0.8773 - val_accuracy: 0.7061\n",
      "Epoch 97/100\n",
      "40/40 [==============================] - 78s 2s/step - loss: 0.6668 - accuracy: 0.7628 - val_loss: 0.8733 - val_accuracy: 0.7060\n",
      "Epoch 98/100\n",
      "40/40 [==============================] - 78s 2s/step - loss: 0.6588 - accuracy: 0.7655 - val_loss: 0.8582 - val_accuracy: 0.7138\n",
      "Epoch 99/100\n",
      "40/40 [==============================] - 78s 2s/step - loss: 0.6457 - accuracy: 0.7696 - val_loss: 0.8632 - val_accuracy: 0.7107\n",
      "Epoch 100/100\n",
      "39/40 [============================>.] - ETA: 1s - loss: 0.6626 - accuracy: 0.7630"
     ]
    },
    {
     "output_type": "stream",
     "name": "stderr",
     "text": [
      "WARNING:absl:Found untraced functions such as _update_step_xla, conv2d_layer_call_fn, conv2d_layer_call_and_return_conditional_losses, _jit_compiled_convolution_op, reshape_layer_call_fn while saving (showing 5 of 332). These functions will not be directly callable after loading.\n",
      "\u001b[34m\u001b[1mwandb\u001b[0m: Adding directory to artifact (./model_100)... Done. 0.1s\n"
     ]
    },
    {
     "output_type": "stream",
     "name": "stdout",
     "text": [
      "40/40 [==============================] - 144s 4s/step - loss: 0.6624 - accuracy: 0.7631 - val_loss: 0.8752 - val_accuracy: 0.7074\n"
     ]
    },
    {
     "output_type": "display_data",
     "data": {
      "text/plain": [
       "<IPython.core.display.HTML object>"
      ],
      "text/html": [
       "Waiting for W&B process to finish... <strong style=\"color:green\">(success).</strong>"
      ]
     },
     "metadata": {}
    },
    {
     "output_type": "display_data",
     "data": {
      "text/plain": [
       "<IPython.core.display.HTML object>"
      ],
      "text/html": [
       "<style>\n",
       "    table.wandb td:nth-child(1) { padding: 0 10px; text-align: left ; width: auto;} td:nth-child(2) {text-align: left ; width: 100%}\n",
       "    .wandb-row { display: flex; flex-direction: row; flex-wrap: wrap; justify-content: flex-start; width: 100% }\n",
       "    .wandb-col { display: flex; flex-direction: column; flex-basis: 100%; flex: 1; padding: 10px; }\n",
       "    </style>\n",
       "<div class=\"wandb-row\"><div class=\"wandb-col\"><h3>Run history:</h3><br/><table class=\"wandb\"><tr><td>epoch/accuracy</td><td>▁▂▃▃▄▄▅▅▅▅▆▆▆▆▆▆▆▇▇▇▇▇▇▇▇▇▇▇▇▇▇█████████</td></tr><tr><td>epoch/epoch</td><td>▁▁▁▁▂▂▂▂▂▃▃▃▃▃▃▄▄▄▄▄▅▅▅▅▅▅▆▆▆▆▆▇▇▇▇▇▇███</td></tr><tr><td>epoch/learning_rate</td><td>▁▁▁▁▁▁▁▁▁▁▁▁▁▁▁▁▁▁▁▁▁▁▁▁▁▁▁▁▁▁▁▁▁▁▁▁▁▁▁▁</td></tr><tr><td>epoch/loss</td><td>█▅▅▄▄▄▃▃▃▃▃▃▃▃▂▂▂▂▂▂▂▂▂▂▂▂▂▂▂▁▁▁▁▁▁▁▁▁▁▁</td></tr><tr><td>epoch/val_accuracy</td><td>▁▂▃▃▄▅▅▅▅▆▆▆▆▆▆▇▇▇▇▇▇▇▇▇▇▇▇▇▇███████████</td></tr><tr><td>epoch/val_loss</td><td>█▇▆▆▅▄▄▄▃▃▃▃▃▃▃▂▂▂▂▂▂▂▂▂▂▂▂▂▂▁▁▁▁▁▁▁▁▁▁▁</td></tr></table><br/></div><div class=\"wandb-col\"><h3>Run summary:</h3><br/><table class=\"wandb\"><tr><td>epoch/accuracy</td><td>0.76315</td></tr><tr><td>epoch/epoch</td><td>99</td></tr><tr><td>epoch/learning_rate</td><td>0.0001</td></tr><tr><td>epoch/loss</td><td>0.66236</td></tr><tr><td>epoch/val_accuracy</td><td>0.7074</td></tr><tr><td>epoch/val_loss</td><td>0.87515</td></tr></table><br/></div></div>"
      ]
     },
     "metadata": {}
    },
    {
     "output_type": "display_data",
     "data": {
      "text/plain": [
       "<IPython.core.display.HTML object>"
      ],
      "text/html": [
       " View run <strong style=\"color:#cdcd00\">cifar10-100epochs</strong> at: <a href='https://wandb.ai/arig23498/temporal-latent-bottleneck/runs/zjqiu4zu' target=\"_blank\">https://wandb.ai/arig23498/temporal-latent-bottleneck/runs/zjqiu4zu</a><br/>Synced 5 W&B file(s), 0 media file(s), 50 artifact file(s) and 0 other file(s)"
      ]
     },
     "metadata": {}
    },
    {
     "output_type": "display_data",
     "data": {
      "text/plain": [
       "<IPython.core.display.HTML object>"
      ],
      "text/html": [
       "Find logs at: <code>./wandb/run-20230311_071536-zjqiu4zu/logs</code>"
      ]
     },
     "metadata": {}
    }
   ],
   "source": [
    "run = wandb.init(\n",
    "    project=\"temporal-latent-bottleneck\",\n",
    "    entity=\"ariG23498\",\n",
    "    config=config,\n",
    "    name=\"cifar10-100epochs\",\n",
    ")\n",
    "\n",
    "# # Train the 20 epoch model some more\n",
    "# artifact = run.use_artifact(\n",
    "#     'arig23498/temporal-latent-bottleneck/run_7081udud_model:v1',\n",
    "#     type='model'\n",
    "# )\n",
    "# artifact_dir = artifact.download()\n",
    "# model.load_weights(artifact_dir)\n",
    "\n",
    "optimizer = AdamW(\n",
    "    learning_rate=config[\"learning_rate\"], weight_decay=config[\"weight_decay\"]\n",
    ")\n",
    "wandb_callbacks = [\n",
    "    WandbMetricsLogger(),\n",
    "    WandbModelCheckpoint(\n",
    "        filepath=\"model_{epoch:02d}\",\n",
    "        save_freq=int(10 * total_batches_train),\n",
    "    ),\n",
    "]\n",
    "# Compile and train the model.\n",
    "model.compile(\n",
    "    optimizer=optimizer,\n",
    "    loss=\"sparse_categorical_crossentropy\",\n",
    "    metrics=[\"accuracy\"],\n",
    ")\n",
    "history = model.fit(\n",
    "    train_ds,\n",
    "    epochs=config[\"epochs\"],\n",
    "    validation_data=val_ds,\n",
    "    callbacks=wandb_callbacks,\n",
    ")\n",
    "\n",
    "run.finish()"
   ]
  },
  {
   "cell_type": "markdown",
   "source": [
    "# Testing"
   ],
   "metadata": {
    "id": "lJouvbvt8qQu"
   }
  },
  {
   "cell_type": "code",
   "execution_count": 22,
   "metadata": {
    "colab": {
     "base_uri": "https://localhost:8080/",
     "height": 517
    },
    "id": "QtAaAc8zLhTi",
    "outputId": "3416d200-9773-45d8-dac4-402e36bc5e61"
   },
   "outputs": [
    {
     "output_type": "display_data",
     "data": {
      "text/plain": [
       "<Figure size 432x288 with 1 Axes>"
      ],
      "image/png": "[encoded data removed]"
     },
     "metadata": {
      "needs_background": "light"
     }
    },
    {
     "output_type": "display_data",
     "data": {
      "text/plain": [
       "<Figure size 432x288 with 1 Axes>"
      ],
      "image/png": "[encoded data removed]"
     },
     "metadata": {
      "needs_background": "light"
     }
    }
   ],
   "source": [
    "plt.plot(history.history[\"loss\"], label=\"loss\")\n",
    "plt.plot(history.history[\"val_loss\"], label=\"val_loss\")\n",
    "plt.legend()\n",
    "plt.show()\n",
    "\n",
    "plt.plot(history.history[\"accuracy\"], label=\"accuracy\")\n",
    "plt.plot(history.history[\"val_accuracy\"], label=\"val_accuracy\")\n",
    "plt.legend()\n",
    "plt.show()"
   ]
  },
  {
   "cell_type": "markdown",
   "metadata": {
    "id": "46jtqZe1ZU-S"
   },
   "source": [
    "# Visualize the Latent Bottleneck"
   ]
  },
  {
   "cell_type": "code",
   "execution_count": 23,
   "metadata": {
    "id": "T4mOZkr6ZUtu"
   },
   "outputs": [],
   "source": [
    "images, labels = next(iter(test_ds))\n",
    "\n",
    "# Set the flag for attn score\n",
    "model.rnn.cell.get_attn_scores = True\n",
    "outputs = model(images)"
   ]
  },
  {
   "cell_type": "code",
   "execution_count": 24,
   "metadata": {
    "id": "kOlZjLck25ga"
   },
   "outputs": [],
   "source": [
    "# Grab the list of chunk scores\n",
    "list_chunk_scores = model.rnn.cell.attn_scores"
   ]
  },
  {
   "cell_type": "code",
   "execution_count": 25,
   "metadata": {
    "id": "7gs1eZGL6Q1i"
   },
   "outputs": [],
   "source": [
    "def score_to_viz(chunk_score):\n",
    "    chunk_viz = tf.math.reduce_max(chunk_score, axis=-2)  # get the most attended token\n",
    "    chunk_viz = tf.math.reduce_mean(chunk_viz, axis=1)  # get the mean across heads\n",
    "    return chunk_viz"
   ]
  },
  {
   "cell_type": "code",
   "execution_count": 26,
   "metadata": {
    "id": "_eynRKf13xM3"
   },
   "outputs": [],
   "source": [
    "list_chunk_viz = [score_to_viz(x) for x in list_chunk_scores]"
   ]
  },
  {
   "cell_type": "code",
   "execution_count": 27,
   "metadata": {
    "id": "9zmhicYN7DKG"
   },
   "outputs": [],
   "source": [
    "chunk_viz = tf.concat(list_chunk_viz[1:], axis=-1)\n",
    "chunk_viz = tf.reshape(\n",
    "    chunk_viz,\n",
    "    (\n",
    "        config[\"batch_size\"],\n",
    "        config[\"image_size\"] // config[\"patch_size\"],\n",
    "        config[\"image_size\"] // config[\"patch_size\"],\n",
    "        1,\n",
    "    ),\n",
    ")"
   ]
  },
  {
   "cell_type": "code",
   "execution_count": 28,
   "metadata": {
    "id": "ihBgmyV_3AH1"
   },
   "outputs": [],
   "source": [
    "upsampled_heat_map = layers.UpSampling2D(\n",
    "    size=(4, 4), interpolation=\"bilinear\", dtype=\"float32\"\n",
    ")(chunk_viz)"
   ]
  },
  {
   "cell_type": "code",
   "execution_count": 35,
   "metadata": {
    "colab": {
     "base_uri": "https://localhost:8080/",
     "height": 318
    },
    "id": "Ju48l8DC3CJQ",
    "outputId": "d252d0dd-1aba-4372-a7dd-9a8c78f15bb3"
   },
   "outputs": [
    {
     "output_type": "display_data",
     "data": {
      "text/plain": [
       "<Figure size 720x360 with 2 Axes>"
      ],
      "image/png": "[encoded data removed]"
     },
     "metadata": {
      "needs_background": "light"
     }
    }
   ],
   "source": [
    "index = 60\n",
    "orig_image = images[index]\n",
    "overlay_image = upsampled_heat_map[index, ..., 0]\n",
    "\n",
    "fig, ax = plt.subplots(nrows=1, ncols=2, figsize=(10, 5))\n",
    "\n",
    "ax[0].imshow(orig_image)\n",
    "ax[0].set_title(\"Original:\")\n",
    "ax[0].axis(\"off\")\n",
    "\n",
    "image = ax[1].imshow(orig_image)\n",
    "ax[1].imshow(\n",
    "    overlay_image,\n",
    "    cmap=\"inferno\",\n",
    "    alpha=0.6,\n",
    "    extent=image.get_extent(),\n",
    ")\n",
    "ax[1].set_title(\"TLB Attention:\")\n",
    "\n",
    "plt.show()"
   ]
  }
 ],
 "metadata": {
  "accelerator": "GPU",
  "colab": {
   "machine_shape": "hm",
   "provenance": [],
   "authorship_tag": "ABX9TyNoQcDap18Eo8lAM5/+FPq5"
  },
  "gpuClass": "premium",
  "kernelspec": {
   "display_name": "Python 3",
   "name": "python3"
  },
  "language_info": {
   "name": "python"
  }
 },
 "nbformat": 4,
 "nbformat_minor": 0
}