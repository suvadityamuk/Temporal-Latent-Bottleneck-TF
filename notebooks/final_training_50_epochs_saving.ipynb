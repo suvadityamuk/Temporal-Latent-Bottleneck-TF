{
 "cells": [
  {
   "cell_type": "code",
   "execution_count": 1,
   "metadata": {
    "colab": {
     "base_uri": "https://localhost:8080/"
    },
    "id": "z0Ae5PLbi0z6",
    "outputId": "0f819373-72a4-4024-9c44-81fdfaa98f09"
   },
   "outputs": [
    {
     "name": "stdout",
     "output_type": "stream",
     "text": [
      "Thu Mar  9 15:07:54 2023       \n",
      "+-----------------------------------------------------------------------------+\n",
      "| NVIDIA-SMI 520.61.05    Driver Version: 520.61.05    CUDA Version: 11.8     |\n",
      "|-------------------------------+----------------------+----------------------+\n",
      "| GPU  Name        Persistence-M| Bus-Id        Disp.A | Volatile Uncorr. ECC |\n",
      "| Fan  Temp  Perf  Pwr:Usage/Cap|         Memory-Usage | GPU-Util  Compute M. |\n",
      "|                               |                      |               MIG M. |\n",
      "|===============================+======================+======================|\n",
      "|   0  NVIDIA A100-PCI...  Off  | 00000000:41:00.0 Off |                    0 |\n",
      "| N/A   33C    P0    36W / 250W |      0MiB / 40960MiB |      0%      Default |\n",
      "|                               |                      |             Disabled |\n",
      "+-------------------------------+----------------------+----------------------+\n",
      "                                                                               \n",
      "+-----------------------------------------------------------------------------+\n",
      "| Processes:                                                                  |\n",
      "|  GPU   GI   CI        PID   Type   Process name                  GPU Memory |\n",
      "|        ID   ID                                                   Usage      |\n",
      "|=============================================================================|\n",
      "|  No running processes found                                                 |\n",
      "+-----------------------------------------------------------------------------+\n"
     ]
    }
   ],
   "source": [
    "!nvidia-smi"
   ]
  },
  {
   "cell_type": "markdown",
   "metadata": {
    "id": "HejkilXVMTGs"
   },
   "source": [
    "# Imports"
   ]
  },
  {
   "cell_type": "code",
   "execution_count": 2,
   "metadata": {
    "id": "94e30EYbLNfw"
   },
   "outputs": [],
   "source": [
    "# !pip install -q tensorflow==2.11.0"
   ]
  },
  {
   "cell_type": "code",
   "execution_count": 3,
   "metadata": {
    "id": "hb66VOLCLHjC"
   },
   "outputs": [
    {
     "name": "stderr",
     "output_type": "stream",
     "text": [
      "2023-03-09 15:07:57.338425: I tensorflow/core/platform/cpu_feature_guard.cc:193] This TensorFlow binary is optimized with oneAPI Deep Neural Network Library (oneDNN) to use the following CPU instructions in performance-critical operations:  AVX2 FMA\n",
      "To enable them in other operations, rebuild TensorFlow with the appropriate compiler flags.\n",
      "2023-03-09 15:07:58.023480: W tensorflow/compiler/xla/stream_executor/platform/default/dso_loader.cc:64] Could not load dynamic library 'libnvinfer.so.7'; dlerror: libnvinfer.so.7: cannot open shared object file: No such file or directory; LD_LIBRARY_PATH: /usr/local/cuda/compat/lib.real:/usr/local/cuda/extras/CUPTI/lib64:/usr/local/cuda/compat/lib:/usr/local/nvidia/lib:/usr/local/nvidia/lib64\n",
      "2023-03-09 15:07:58.023565: W tensorflow/compiler/xla/stream_executor/platform/default/dso_loader.cc:64] Could not load dynamic library 'libnvinfer_plugin.so.7'; dlerror: libnvinfer_plugin.so.7: cannot open shared object file: No such file or directory; LD_LIBRARY_PATH: /usr/local/cuda/compat/lib.real:/usr/local/cuda/extras/CUPTI/lib64:/usr/local/cuda/compat/lib:/usr/local/nvidia/lib:/usr/local/nvidia/lib64\n",
      "2023-03-09 15:07:58.023572: W tensorflow/compiler/tf2tensorrt/utils/py_utils.cc:38] TF-TRT Warning: Cannot dlopen some TensorRT libraries. If you would like to use Nvidia GPU with TensorRT, please make sure the missing libraries mentioned above are installed properly.\n"
     ]
    }
   ],
   "source": [
    "import numpy as np\n",
    "import tensorflow as tf\n",
    "from tensorflow import keras\n",
    "from tensorflow.keras import layers\n",
    "from tensorflow.keras.optimizers.experimental import AdamW\n",
    "from typing import Tuple\n",
    "from matplotlib import pyplot as plt\n",
    "\n",
    "# Set seed for reproducibility.\n",
    "tf.keras.utils.set_random_seed(42)"
   ]
  },
  {
   "cell_type": "code",
   "execution_count": 4,
   "metadata": {
    "colab": {
     "base_uri": "https://localhost:8080/"
    },
    "id": "z9AwzrziLVkw",
    "outputId": "5c8719cf-cc86-4e86-9c1d-356c9e5e6f44"
   },
   "outputs": [
    {
     "name": "stdout",
     "output_type": "stream",
     "text": [
      "2.11.0\n"
     ]
    }
   ],
   "source": [
    "print(tf.__version__)"
   ]
  },
  {
   "cell_type": "markdown",
   "metadata": {
    "id": "jpqYrqLiMUQ5"
   },
   "source": [
    "# Configurations"
   ]
  },
  {
   "cell_type": "code",
   "execution_count": 5,
   "metadata": {
    "id": "IJDSbV2bCfOo"
   },
   "outputs": [],
   "source": [
    "# DATA\n",
    "TRAIN_SLICE = 40000\n",
    "BATCH_SIZE = 2048\n",
    "BUFFER_SIZE = BATCH_SIZE*2\n",
    "AUTO = tf.data.AUTOTUNE\n",
    "INPUT_SHAPE = (32, 32, 3)\n",
    "IMAGE_SIZE = 48\n",
    "NUM_CLASSES = 10\n",
    "\n",
    "# OPTIMIZER\n",
    "LEARNING_RATE = 1e-4\n",
    "WEIGHT_DECAY = 1e-4\n",
    "\n",
    "# TRAINING\n",
    "EPOCHS = 50\n",
    "\n",
    "# MODEL\n",
    "PATCH_SIZE = 4\n",
    "EMBED_DIM = 64\n",
    "CHUNK_SIZE = 8\n",
    "R = 2\n",
    "NUM_LAYERS = 6\n",
    "FFN_DROP = 0.1\n",
    "ATTN_DROP = 0.1\n",
    "NUM_HEADS = 1"
   ]
  },
  {
   "cell_type": "markdown",
   "metadata": {
    "id": "7jxku70OMWhs"
   },
   "source": [
    "# Datasets"
   ]
  },
  {
   "cell_type": "code",
   "execution_count": 6,
   "metadata": {
    "colab": {
     "base_uri": "https://localhost:8080/"
    },
    "id": "TLSxYNjFCloE",
    "outputId": "e9aeab4c-1ddd-4db5-9a0e-aa5634c414e9"
   },
   "outputs": [],
   "source": [
    "(x_train, y_train), (x_test, y_test) = keras.datasets.cifar10.load_data()\n",
    "(x_train, y_train), (x_val, y_val) = (\n",
    "    (x_train[:TRAIN_SLICE], y_train[:TRAIN_SLICE]),\n",
    "    (x_train[TRAIN_SLICE:], y_train[TRAIN_SLICE:]),\n",
    ")"
   ]
  },
  {
   "cell_type": "code",
   "execution_count": 7,
   "metadata": {
    "id": "VmRBDXphCoDu"
   },
   "outputs": [
    {
     "name": "stderr",
     "output_type": "stream",
     "text": [
      "2023-03-09 15:08:00.822715: I tensorflow/core/platform/cpu_feature_guard.cc:193] This TensorFlow binary is optimized with oneAPI Deep Neural Network Library (oneDNN) to use the following CPU instructions in performance-critical operations:  AVX2 FMA\n",
      "To enable them in other operations, rebuild TensorFlow with the appropriate compiler flags.\n",
      "2023-03-09 15:08:01.068413: I tensorflow/core/common_runtime/gpu/gpu_device.cc:1613] Created device /job:localhost/replica:0/task:0/device:GPU:0 with 38433 MB memory:  -> device: 0, name: NVIDIA A100-PCIE-40GB, pci bus id: 0000:41:00.0, compute capability: 8.0\n"
     ]
    }
   ],
   "source": [
    "# Build the `train` augmentation pipeline.\n",
    "train_aug = keras.Sequential(\n",
    "    [\n",
    "        layers.Rescaling(1 / 255.0),\n",
    "        layers.Resizing(INPUT_SHAPE[0] + 20, INPUT_SHAPE[0] + 20),\n",
    "        layers.RandomCrop(IMAGE_SIZE, IMAGE_SIZE),\n",
    "        layers.RandomFlip(\"horizontal\"),\n",
    "    ],\n",
    "    name=\"train_data_augmentation\",\n",
    ")\n",
    "\n",
    "# Build the `val` and `test` data pipeline.\n",
    "test_aug = keras.Sequential(\n",
    "    [\n",
    "        layers.Rescaling(1 / 255.0),\n",
    "        layers.Resizing(IMAGE_SIZE, IMAGE_SIZE),\n",
    "    ],\n",
    "    name=\"test_data_augmentation\",\n",
    ")"
   ]
  },
  {
   "cell_type": "code",
   "execution_count": 8,
   "metadata": {
    "id": "va4h0jW-Crze"
   },
   "outputs": [],
   "source": [
    "def train_map_fn(image, label):\n",
    "    return train_aug(image), label\n",
    "\n",
    "def test_map_fn(image, label):\n",
    "    return test_aug(image), label"
   ]
  },
  {
   "cell_type": "code",
   "execution_count": 9,
   "metadata": {
    "id": "tFJToGQFCo3i"
   },
   "outputs": [],
   "source": [
    "train_ds = tf.data.Dataset.from_tensor_slices((x_train, y_train))\n",
    "train_ds = (\n",
    "    train_ds.map(\n",
    "        train_map_fn, num_parallel_calls=AUTO\n",
    "    )\n",
    "    .shuffle(BUFFER_SIZE)\n",
    "    .batch(BATCH_SIZE, num_parallel_calls=AUTO)\n",
    "    .prefetch(AUTO)\n",
    ")\n",
    "\n",
    "val_ds = tf.data.Dataset.from_tensor_slices((x_val, y_val))\n",
    "val_ds = (\n",
    "    val_ds.map(\n",
    "        test_map_fn, num_parallel_calls=AUTO\n",
    "    )\n",
    "    .batch(BATCH_SIZE, num_parallel_calls=AUTO)\n",
    "    .prefetch(AUTO)\n",
    ")\n",
    "\n",
    "test_ds = tf.data.Dataset.from_tensor_slices((x_test, y_test))\n",
    "test_ds = (\n",
    "    test_ds.map(\n",
    "        test_map_fn, num_parallel_calls=AUTO\n",
    "    )\n",
    "    .batch(BATCH_SIZE, num_parallel_calls=AUTO)\n",
    "    .prefetch(AUTO)\n",
    ")"
   ]
  },
  {
   "cell_type": "code",
   "execution_count": 10,
   "metadata": {
    "colab": {
     "base_uri": "https://localhost:8080/"
    },
    "id": "2dZ0UnVlDGO4",
    "outputId": "81d931b3-9859-4242-db1b-d1041702d4b5"
   },
   "outputs": [
    {
     "name": "stdout",
     "output_type": "stream",
     "text": [
      "(2048, 48, 48, 3)\n",
      "(2048, 1)\n"
     ]
    }
   ],
   "source": [
    "for image, label in train_ds.take(1):\n",
    "    print(image.shape)\n",
    "    print(label.shape)"
   ]
  },
  {
   "cell_type": "markdown",
   "metadata": {
    "id": "9FpQDW0eDQwF"
   },
   "source": [
    "# PatchEmbedding"
   ]
  },
  {
   "cell_type": "code",
   "execution_count": 11,
   "metadata": {
    "id": "Q9w8rUdFDMkP"
   },
   "outputs": [],
   "source": [
    "class PatchEmbed(layers.Layer):\n",
    "    \"\"\"Image patch embedding layer.\n",
    "\n",
    "    Args:\n",
    "        image_size (Tuple[int]): Input image resolution.\n",
    "        patch_size (Tuple[int]): Patch spatial resolution.\n",
    "        embed_dim (int): Embedding dimension.\n",
    "        add_pos_info (bool): Whether to add positional information to tokens.\n",
    "    \"\"\"\n",
    "\n",
    "    def __init__(\n",
    "        self,\n",
    "        image_size: Tuple[int] = (48, 48),\n",
    "        patch_size: Tuple[int] = (4, 4),\n",
    "        embed_dim: int = 32,\n",
    "        chunk_size: int = 8,\n",
    "        **kwargs,\n",
    "    ):\n",
    "        super().__init__(**kwargs)\n",
    "        patch_resolution = [\n",
    "            image_size[0] // patch_size[0],\n",
    "            image_size[1] // patch_size[1],\n",
    "        ]\n",
    "        self.image_size = image_size\n",
    "        self.patch_size = patch_size\n",
    "        self.embed_dim = embed_dim\n",
    "        self.patch_resolution = patch_resolution\n",
    "        self.num_patches = patch_resolution[0] * patch_resolution[1]\n",
    "        self.proj = layers.Conv2D(\n",
    "            filters=embed_dim, kernel_size=patch_size, strides=patch_size\n",
    "        )\n",
    "        self.flatten = layers.Reshape(target_shape=(-1, embed_dim))\n",
    "        self.position_embedding = layers.Embedding(\n",
    "            input_dim=self.num_patches, output_dim=embed_dim\n",
    "        )\n",
    "        self.positions = tf.range(start=0, limit=self.num_patches, delta=1)\n",
    "        self.norm = keras.layers.LayerNormalization(epsilon=1e-5)\n",
    "        self.chunking_layer = layers.Reshape(\n",
    "            target_shape=(self.num_patches//chunk_size, chunk_size, embed_dim)\n",
    "        )\n",
    "\n",
    "    def call(self, x: tf.Tensor) -> Tuple[tf.Tensor, int, int, int]:\n",
    "        \"\"\"Patchifies the image, converts into tokens and adds pos information.\n",
    "\n",
    "        Args:\n",
    "            x: Tensor of shape (B, H, W, C)\n",
    "\n",
    "        Returns:\n",
    "            A tuple of the processed tensor, height of the projected\n",
    "            feature map, width of the projected feature map, number\n",
    "            of channels of the projected feature map.\n",
    "        \"\"\"\n",
    "        # Project the inputs.\n",
    "        x = self.proj(x)\n",
    "        x = self.flatten(x)\n",
    "        x = x + self.position_embedding(self.positions)\n",
    "\n",
    "        # B, H, W, C -> B, H*W, C\n",
    "        x = self.norm(x)\n",
    "\n",
    "        # Chunk the tokens in K\n",
    "        x = self.chunking_layer(x)\n",
    "\n",
    "        return x"
   ]
  },
  {
   "cell_type": "markdown",
   "metadata": {
    "id": "ApnyYrSTDnwy"
   },
   "source": [
    "# FFN"
   ]
  },
  {
   "cell_type": "code",
   "execution_count": 12,
   "metadata": {
    "id": "a_ztuHnGDcAR"
   },
   "outputs": [],
   "source": [
    "class FeedForwardNetwork(layers.Layer):\n",
    "    \"\"\"Feed Forward Network.\n",
    "\n",
    "    Args:\n",
    "        dims (`int`): Dimension of the FFN.\n",
    "        dropout (`float`): Dropout probability of FFN.\n",
    "    \"\"\"\n",
    "\n",
    "    def __init__(self, dims: int, dropout: float = 0.1, **kwargs):\n",
    "        super().__init__(**kwargs)\n",
    "        self.ffn = keras.Sequential(\n",
    "            [\n",
    "                layers.Dense(units=4*dims, activation=tf.nn.gelu),\n",
    "                layers.Dense(units=dims),\n",
    "                layers.Dropout(rate=dropout),\n",
    "            ]\n",
    "        )\n",
    "        self.add = layers.Add()\n",
    "        self.layernorm = layers.LayerNormalization(epsilon=1e-5)\n",
    "\n",
    "    def call(self, inputs: tf.Tensor):\n",
    "        x = self.layernorm(inputs)\n",
    "        x = self.add([inputs, self.ffn(x)])\n",
    "        return x"
   ]
  },
  {
   "cell_type": "markdown",
   "metadata": {
    "id": "eVH2CUFDDq3d"
   },
   "source": [
    "# Attention"
   ]
  },
  {
   "cell_type": "code",
   "execution_count": 13,
   "metadata": {
    "id": "Tap3IUcGDrZ1"
   },
   "outputs": [],
   "source": [
    "class BaseAttention(layers.Layer):\n",
    "    \"\"\"The base attention module.\n",
    "    \n",
    "    Args:\n",
    "        num_heads (`int`): Number of attention heads.\n",
    "        key_dim (`int`): Size of each attention head for query and key.\n",
    "        dropout (`float`): Dropout probability for Attention Module.\n",
    "    \n",
    "    \"\"\"\n",
    "\n",
    "    def __init__(self, num_heads: int, key_dim: int, dropout: float = 0.1, **kwargs):\n",
    "        super().__init__(**kwargs)\n",
    "        self.mha = layers.MultiHeadAttention(num_heads, key_dim, dropout=dropout)\n",
    "        self.q_layernorm = layers.LayerNormalization(epsilon=1e-5)\n",
    "        self.k_layernorm = layers.LayerNormalization(epsilon=1e-5)\n",
    "        self.v_layernorm = layers.LayerNormalization(epsilon=1e-5)\n",
    "        self.add = layers.Add()\n",
    "\n",
    "    def call(self, input_query: tf.Tensor, key: tf.Tensor, value: tf.Tensor):\n",
    "        query = self.q_layernorm(input_query)\n",
    "        key = self.k_layernorm(key)\n",
    "        value = self.v_layernorm(value)\n",
    "        (attn_outs, attn_scores) = self.mha(\n",
    "            query=query,\n",
    "            key=key,\n",
    "            value=value,\n",
    "            return_attention_scores=True,\n",
    "        )\n",
    "        self.attn_scores = attn_scores\n",
    "        x = self.add([input_query, attn_outs])\n",
    "        return x"
   ]
  },
  {
   "cell_type": "code",
   "execution_count": 14,
   "metadata": {
    "id": "rOH4DFJKDr5n"
   },
   "outputs": [],
   "source": [
    "class AttentionWithFFN(layers.Layer):\n",
    "    \"\"\"Self-attention module with FFN\n",
    "\n",
    "    Args:\n",
    "        ffn_dims (`int`): Number of units in FFN.\n",
    "        ffn_dropout (`float`): Dropout probability for FFN.\n",
    "        num_heads (`int`): Number of attention heads.\n",
    "        key_dim (`int`): Size of each attention head for query and key.\n",
    "        attn_dropout (`float`): Dropout probability for attention module.\n",
    "    \"\"\"\n",
    "\n",
    "    def __init__(\n",
    "        self,\n",
    "        ffn_dims: int = 128,\n",
    "        ffn_dropout: float = 0.1, \n",
    "        num_heads: int = 4,\n",
    "        key_dim: int = 256,\n",
    "        attn_dropout: float = 0.1,\n",
    "        **kwargs\n",
    "    ):\n",
    "        super().__init__(**kwargs)\n",
    "        self.attention = BaseAttention(num_heads, key_dim, attn_dropout, name=\"BaseAttention\")\n",
    "        self.ffn = FeedForwardNetwork(ffn_dims, ffn_dropout, name=\"FeedForward\")\n",
    "        \n",
    "    \n",
    "    def call(self, query: tf.Tensor, key: tf.Tensor, value: tf.Tensor):\n",
    "        x = self.attention(query, key, value)\n",
    "        self.attn_scores = self.attention.attn_scores\n",
    "        x = self.ffn(x)\n",
    "        return x"
   ]
  },
  {
   "cell_type": "markdown",
   "metadata": {
    "id": "QFRetSjPD8Cx"
   },
   "source": [
    "# Recurrence"
   ]
  },
  {
   "cell_type": "code",
   "execution_count": 15,
   "metadata": {
    "id": "QT4kMDPnDuBP"
   },
   "outputs": [],
   "source": [
    "class CustomCell(layers.Layer):\n",
    "    \"\"\"Custom logic inside each recurrence.\n",
    "\n",
    "    Args:\n",
    "        chunk_size (`int`): Chunk size of the inputs.\n",
    "        r (`int`): One Cross Attention per **r** Self Attention.\n",
    "        num_layers (`int`): Number of layers in the Perceptual Model.\n",
    "        ffn_dims (`int`): Number of units in FFN.\n",
    "        ffn_dropout (`float`): Dropout probability for FFN.\n",
    "        num_heads (`int`): Number of attention heads.\n",
    "        key_dim (`int`): Size of each attention head for query and key.\n",
    "        attn_dropout (`float`): Dropout probability for attention module.\n",
    "    \"\"\"\n",
    "    def __init__(\n",
    "        self,\n",
    "        chunk_size,\n",
    "        r=2,\n",
    "        num_layers: int = 5,\n",
    "        ffn_dims: int = 128,\n",
    "        ffn_dropout: float = 0.1, \n",
    "        num_heads: int = 4,\n",
    "        key_dim: int = 256,\n",
    "        attn_dropout: float = 0.1,\n",
    "        **kwargs\n",
    "    ):\n",
    "        super().__init__(**kwargs)\n",
    "        self.chunk_size = chunk_size\n",
    "        self.r = r\n",
    "        self.num_layers = num_layers\n",
    "        self.ffn_dims = ffn_dims\n",
    "        self.ffn_droput = ffn_dropout\n",
    "        self.num_heads = num_heads\n",
    "        self.key_dim = key_dim\n",
    "        self.attn_dropout = attn_dropout\n",
    "\n",
    "        self.state_size = tf.TensorShape([chunk_size, ffn_dims])\n",
    "        self.output_size = tf.TensorShape([chunk_size, ffn_dims])\n",
    "\n",
    "        self.get_attn_scores = False\n",
    "        self.attn_scores = []\n",
    "\n",
    "        ########################################################################\n",
    "        # Perceptual Module\n",
    "        ########################################################################\n",
    "        perceptual_module = list()\n",
    "        for layer_idx in range(num_layers):\n",
    "            perceptual_module.append(\n",
    "                AttentionWithFFN(\n",
    "                    ffn_dims=ffn_dims,\n",
    "                    ffn_dropout=ffn_dropout, \n",
    "                    num_heads=num_heads,\n",
    "                    key_dim=key_dim,\n",
    "                    attn_dropout=attn_dropout,\n",
    "                    name=f\"PM_SelfAttentionFFN{layer_idx}\")\n",
    "            )\n",
    "            if layer_idx % r == 0:\n",
    "                perceptual_module.append(\n",
    "                    AttentionWithFFN(\n",
    "                    ffn_dims=ffn_dims,\n",
    "                    ffn_dropout=ffn_dropout, \n",
    "                    num_heads=num_heads,\n",
    "                    key_dim=key_dim,\n",
    "                    attn_dropout=attn_dropout,\n",
    "                    name=f\"PM_CrossAttentionFFN{layer_idx}\")\n",
    "                )\n",
    "        self.perceptual_module = perceptual_module\n",
    "\n",
    "        ########################################################################\n",
    "        # Temporal Latent Bottleneck Module\n",
    "        ########################################################################\n",
    "        self.tlb_module = AttentionWithFFN(\n",
    "            ffn_dims=ffn_dims,\n",
    "            ffn_dropout=ffn_dropout, \n",
    "            num_heads=num_heads,\n",
    "            key_dim=key_dim,\n",
    "            attn_dropout=attn_dropout,\n",
    "            name=f\"TLBM_CrossAttentionFFN\"\n",
    "        )\n",
    "\n",
    "    def call(self, inputs, states, training=None):\n",
    "        # inputs => (batch, chunk_size, dims)\n",
    "        # states => [(batch, chunk_size, units)]\n",
    "\n",
    "        slow_stream = states[0]\n",
    "        fast_stream = inputs\n",
    "\n",
    "        for layer_idx, layer in enumerate(self.perceptual_module):\n",
    "            fast_stream = layer(\n",
    "                query=fast_stream,\n",
    "                key=fast_stream,\n",
    "                value=fast_stream\n",
    "            )\n",
    "            \n",
    "            if layer_idx % self.r == 0:\n",
    "                fast_stream = layer(\n",
    "                    query=fast_stream,\n",
    "                    key=slow_stream,\n",
    "                    value=slow_stream\n",
    "                )\n",
    "        \n",
    "        slow_stream = self.tlb_module(\n",
    "            query=slow_stream,\n",
    "            key=fast_stream,\n",
    "            value=fast_stream\n",
    "        )\n",
    "\n",
    "        if self.get_attn_scores:\n",
    "            self.attn_scores.append(self.tlb_module.attn_scores)\n",
    "        \n",
    "        return fast_stream, [slow_stream]"
   ]
  },
  {
   "cell_type": "markdown",
   "metadata": {
    "id": "ZiHEV98_QxCS"
   },
   "source": [
    "# Build the model"
   ]
  },
  {
   "cell_type": "code",
   "execution_count": 16,
   "metadata": {
    "id": "1aNjF5SXRMo9"
   },
   "outputs": [],
   "source": [
    "class ModelTrainer(keras.Model):\n",
    "    def __init__(self, patch_layer, custom_cell, **kwargs):\n",
    "        super().__init__(**kwargs)\n",
    "        self.patch_layer = patch_layer\n",
    "        self.rnn = layers.RNN(custom_cell)\n",
    "        self.gap = layers.GlobalAveragePooling1D()\n",
    "        self.head = layers.Dense(10, activation=\"softmax\")\n",
    "    \n",
    "    def call(self, inputs):\n",
    "        x = self.patch_layer(inputs)\n",
    "        x = self.rnn(x)\n",
    "        x = self.gap(x)\n",
    "        outputs = self.head(x)\n",
    "        return outputs"
   ]
  },
  {
   "cell_type": "code",
   "execution_count": 17,
   "metadata": {
    "id": "Z9EngzvgD99W"
   },
   "outputs": [],
   "source": [
    "keras.backend.clear_session()\n",
    "\n",
    "# PATCH\n",
    "patch_layer = PatchEmbed(\n",
    "    image_size=(IMAGE_SIZE, IMAGE_SIZE),\n",
    "    patch_size=(PATCH_SIZE, PATCH_SIZE),\n",
    "    embed_dim=EMBED_DIM,\n",
    "    chunk_size=CHUNK_SIZE,\n",
    ")\n",
    "\n",
    "# RECURRENCE\n",
    "cell = CustomCell(\n",
    "    chunk_size=CHUNK_SIZE,\n",
    "    r=R,\n",
    "    num_layers=NUM_LAYERS,\n",
    "    ffn_dims=EMBED_DIM,\n",
    "    ffn_dropout=FFN_DROP, \n",
    "    num_heads=NUM_HEADS,\n",
    "    key_dim=EMBED_DIM,\n",
    "    attn_dropout=ATTN_DROP,\n",
    ")\n",
    "\n",
    "\n",
    "model = ModelTrainer(patch_layer, cell)"
   ]
  },
  {
   "cell_type": "code",
   "execution_count": 18,
   "metadata": {
    "colab": {
     "base_uri": "https://localhost:8080/"
    },
    "id": "-7pwBfVwFdPv",
    "outputId": "eccb78d0-d975-40fa-f248-dd3eac8bf3d3"
   },
   "outputs": [
    {
     "name": "stdout",
     "output_type": "stream",
     "text": [
      "Epoch 1/50\n"
     ]
    },
    {
     "name": "stderr",
     "output_type": "stream",
     "text": [
      "2023-03-09 15:09:18.621682: I tensorflow/compiler/xla/stream_executor/cuda/cuda_dnn.cc:428] Loaded cuDNN version 8700\n",
      "2023-03-09 15:09:19.140417: I tensorflow/compiler/xla/stream_executor/cuda/cuda_blas.cc:630] TensorFloat-32 will be used for the matrix multiplication. This will only be logged once.\n",
      "2023-03-09 15:09:21.428944: I tensorflow/compiler/xla/service/service.cc:173] XLA service 0x7fc2a410b140 initialized for platform CUDA (this does not guarantee that XLA will be used). Devices:\n",
      "2023-03-09 15:09:21.429005: I tensorflow/compiler/xla/service/service.cc:181]   StreamExecutor device (0): NVIDIA A100-PCIE-40GB, Compute Capability 8.0\n",
      "2023-03-09 15:09:21.433813: I tensorflow/compiler/mlir/tensorflow/utils/dump_mlir_util.cc:268] disabling MLIR crash reproducer, set env var `MLIR_CRASH_REPRODUCER_DIRECTORY` to enable.\n",
      "2023-03-09 15:09:21.553797: I tensorflow/compiler/jit/xla_compilation_cache.cc:477] Compiled cluster using XLA!  This line is logged at most once for the lifetime of the process.\n"
     ]
    },
    {
     "name": "stdout",
     "output_type": "stream",
     "text": [
      "20/20 [==============================] - 129s 2s/step - loss: 2.5933 - accuracy: 0.1293 - val_loss: 2.2527 - val_accuracy: 0.1685\n",
      "Epoch 2/50\n",
      "20/20 [==============================] - 37s 2s/step - loss: 2.2278 - accuracy: 0.1763 - val_loss: 2.1173 - val_accuracy: 0.2229\n",
      "Epoch 3/50\n",
      "20/20 [==============================] - 38s 2s/step - loss: 2.1346 - accuracy: 0.2158 - val_loss: 2.0477 - val_accuracy: 0.2591\n",
      "Epoch 4/50\n",
      "20/20 [==============================] - 38s 2s/step - loss: 2.0745 - accuracy: 0.2426 - val_loss: 2.0063 - val_accuracy: 0.2812\n",
      "Epoch 5/50\n",
      "20/20 [==============================] - 38s 2s/step - loss: 2.0353 - accuracy: 0.2555 - val_loss: 1.9836 - val_accuracy: 0.2866\n",
      "Epoch 6/50\n",
      "20/20 [==============================] - 38s 2s/step - loss: 2.0108 - accuracy: 0.2621 - val_loss: 1.9625 - val_accuracy: 0.2903\n",
      "Epoch 7/50\n",
      "20/20 [==============================] - 38s 2s/step - loss: 1.9846 - accuracy: 0.2752 - val_loss: 1.9348 - val_accuracy: 0.3055\n",
      "Epoch 8/50\n",
      "20/20 [==============================] - 37s 2s/step - loss: 1.9570 - accuracy: 0.2831 - val_loss: 1.9457 - val_accuracy: 0.2926\n",
      "Epoch 9/50\n",
      "20/20 [==============================] - 38s 2s/step - loss: 1.9359 - accuracy: 0.2935 - val_loss: 1.8853 - val_accuracy: 0.3182\n",
      "Epoch 10/50\n",
      "20/20 [==============================] - 37s 2s/step - loss: 1.9083 - accuracy: 0.3061 - val_loss: 1.8671 - val_accuracy: 0.3333\n",
      "Epoch 11/50\n",
      "20/20 [==============================] - 37s 2s/step - loss: 1.8829 - accuracy: 0.3151 - val_loss: 1.8384 - val_accuracy: 0.3396\n",
      "Epoch 12/50\n",
      "20/20 [==============================] - 38s 2s/step - loss: 1.8531 - accuracy: 0.3297 - val_loss: 1.8177 - val_accuracy: 0.3457\n",
      "Epoch 13/50\n",
      "20/20 [==============================] - 37s 2s/step - loss: 1.8175 - accuracy: 0.3406 - val_loss: 1.7774 - val_accuracy: 0.3629\n",
      "Epoch 14/50\n",
      "20/20 [==============================] - 38s 2s/step - loss: 1.7805 - accuracy: 0.3550 - val_loss: 1.7368 - val_accuracy: 0.3788\n",
      "Epoch 15/50\n",
      "20/20 [==============================] - 38s 2s/step - loss: 1.7393 - accuracy: 0.3673 - val_loss: 1.7181 - val_accuracy: 0.3858\n",
      "Epoch 16/50\n",
      "20/20 [==============================] - 37s 2s/step - loss: 1.7176 - accuracy: 0.3762 - val_loss: 1.6570 - val_accuracy: 0.4040\n",
      "Epoch 17/50\n",
      "20/20 [==============================] - 37s 2s/step - loss: 1.6751 - accuracy: 0.3883 - val_loss: 1.6233 - val_accuracy: 0.4132\n",
      "Epoch 18/50\n",
      "20/20 [==============================] - 38s 2s/step - loss: 1.6411 - accuracy: 0.3972 - val_loss: 1.6286 - val_accuracy: 0.4152\n",
      "Epoch 19/50\n",
      "20/20 [==============================] - 38s 2s/step - loss: 1.6208 - accuracy: 0.4070 - val_loss: 1.5996 - val_accuracy: 0.4197\n",
      "Epoch 20/50\n",
      "20/20 [==============================] - 38s 2s/step - loss: 1.5976 - accuracy: 0.4145 - val_loss: 1.5417 - val_accuracy: 0.4410\n",
      "Epoch 21/50\n",
      "20/20 [==============================] - 38s 2s/step - loss: 1.5725 - accuracy: 0.4250 - val_loss: 1.5211 - val_accuracy: 0.4461\n",
      "Epoch 22/50\n",
      "20/20 [==============================] - 38s 2s/step - loss: 1.5497 - accuracy: 0.4284 - val_loss: 1.5663 - val_accuracy: 0.4333\n",
      "Epoch 23/50\n",
      "20/20 [==============================] - 37s 2s/step - loss: 1.5375 - accuracy: 0.4340 - val_loss: 1.4982 - val_accuracy: 0.4565\n",
      "Epoch 24/50\n",
      "20/20 [==============================] - 37s 2s/step - loss: 1.5248 - accuracy: 0.4411 - val_loss: 1.4823 - val_accuracy: 0.4653\n",
      "Epoch 25/50\n",
      "20/20 [==============================] - 38s 2s/step - loss: 1.4990 - accuracy: 0.4486 - val_loss: 1.4586 - val_accuracy: 0.4690\n",
      "Epoch 26/50\n",
      "20/20 [==============================] - 39s 2s/step - loss: 1.4850 - accuracy: 0.4534 - val_loss: 1.4422 - val_accuracy: 0.4778\n",
      "Epoch 27/50\n",
      "20/20 [==============================] - 37s 2s/step - loss: 1.4752 - accuracy: 0.4565 - val_loss: 1.4472 - val_accuracy: 0.4754\n",
      "Epoch 28/50\n",
      "20/20 [==============================] - 38s 2s/step - loss: 1.4668 - accuracy: 0.4588 - val_loss: 1.4348 - val_accuracy: 0.4769\n",
      "Epoch 29/50\n",
      "20/20 [==============================] - 38s 2s/step - loss: 1.4551 - accuracy: 0.4673 - val_loss: 1.4417 - val_accuracy: 0.4788\n",
      "Epoch 30/50\n",
      "20/20 [==============================] - 38s 2s/step - loss: 1.4496 - accuracy: 0.4663 - val_loss: 1.4055 - val_accuracy: 0.4912\n",
      "Epoch 31/50\n",
      "20/20 [==============================] - 37s 2s/step - loss: 1.4308 - accuracy: 0.4745 - val_loss: 1.3970 - val_accuracy: 0.4936\n",
      "Epoch 32/50\n",
      "20/20 [==============================] - 38s 2s/step - loss: 1.4182 - accuracy: 0.4791 - val_loss: 1.3959 - val_accuracy: 0.4937\n",
      "Epoch 33/50\n",
      "20/20 [==============================] - 37s 2s/step - loss: 1.4134 - accuracy: 0.4795 - val_loss: 1.3760 - val_accuracy: 0.4993\n",
      "Epoch 34/50\n",
      "20/20 [==============================] - 38s 2s/step - loss: 1.3966 - accuracy: 0.4887 - val_loss: 1.3590 - val_accuracy: 0.5054\n",
      "Epoch 35/50\n",
      "20/20 [==============================] - 38s 2s/step - loss: 1.3950 - accuracy: 0.4883 - val_loss: 1.3590 - val_accuracy: 0.5079\n",
      "Epoch 36/50\n",
      "20/20 [==============================] - 38s 2s/step - loss: 1.3773 - accuracy: 0.4946 - val_loss: 1.3561 - val_accuracy: 0.5089\n",
      "Epoch 37/50\n",
      "20/20 [==============================] - 39s 2s/step - loss: 1.3752 - accuracy: 0.4929 - val_loss: 1.3495 - val_accuracy: 0.5106\n",
      "Epoch 38/50\n",
      "20/20 [==============================] - 38s 2s/step - loss: 1.3670 - accuracy: 0.4960 - val_loss: 1.3448 - val_accuracy: 0.5121\n",
      "Epoch 39/50\n",
      "20/20 [==============================] - 39s 2s/step - loss: 1.3601 - accuracy: 0.5039 - val_loss: 1.3264 - val_accuracy: 0.5210\n",
      "Epoch 40/50\n",
      "20/20 [==============================] - 37s 2s/step - loss: 1.3509 - accuracy: 0.5089 - val_loss: 1.3216 - val_accuracy: 0.5227\n",
      "Epoch 41/50\n",
      "20/20 [==============================] - 38s 2s/step - loss: 1.3445 - accuracy: 0.5098 - val_loss: 1.3165 - val_accuracy: 0.5210\n",
      "Epoch 42/50\n",
      "20/20 [==============================] - 38s 2s/step - loss: 1.3292 - accuracy: 0.5123 - val_loss: 1.3080 - val_accuracy: 0.5255\n",
      "Epoch 43/50\n",
      "20/20 [==============================] - 38s 2s/step - loss: 1.3215 - accuracy: 0.5156 - val_loss: 1.3381 - val_accuracy: 0.5206\n",
      "Epoch 44/50\n",
      "20/20 [==============================] - 37s 2s/step - loss: 1.3159 - accuracy: 0.5197 - val_loss: 1.2924 - val_accuracy: 0.5347\n",
      "Epoch 45/50\n",
      "20/20 [==============================] - 38s 2s/step - loss: 1.3052 - accuracy: 0.5213 - val_loss: 1.2869 - val_accuracy: 0.5368\n",
      "Epoch 46/50\n",
      "20/20 [==============================] - 38s 2s/step - loss: 1.3062 - accuracy: 0.5228 - val_loss: 1.2714 - val_accuracy: 0.5405\n",
      "Epoch 47/50\n",
      "20/20 [==============================] - 37s 2s/step - loss: 1.2882 - accuracy: 0.5312 - val_loss: 1.2882 - val_accuracy: 0.5387\n",
      "Epoch 48/50\n",
      "20/20 [==============================] - 36s 2s/step - loss: 1.2901 - accuracy: 0.5287 - val_loss: 1.2646 - val_accuracy: 0.5436\n",
      "Epoch 49/50\n",
      "20/20 [==============================] - 37s 2s/step - loss: 1.2765 - accuracy: 0.5336 - val_loss: 1.2696 - val_accuracy: 0.5434\n",
      "Epoch 50/50\n",
      "20/20 [==============================] - 36s 2s/step - loss: 1.2729 - accuracy: 0.5354 - val_loss: 1.2453 - val_accuracy: 0.5561\n"
     ]
    }
   ],
   "source": [
    "optimizer = AdamW(learning_rate=LEARNING_RATE, weight_decay=WEIGHT_DECAY)\n",
    "\n",
    "# Compile and train the model.\n",
    "model.compile(\n",
    "    optimizer=optimizer,\n",
    "    loss=\"sparse_categorical_crossentropy\",\n",
    "    metrics=[\"accuracy\"],\n",
    ")\n",
    "history = model.fit(\n",
    "    train_ds,\n",
    "    epochs=EPOCHS,\n",
    "    validation_data=val_ds,\n",
    ")"
   ]
  },
  {
   "cell_type": "code",
   "execution_count": 19,
   "metadata": {
    "colab": {
     "base_uri": "https://localhost:8080/",
     "height": 513
    },
    "id": "QtAaAc8zLhTi",
    "outputId": "8ad90b0a-7847-466d-d641-d20abfc9ccc7"
   },
   "outputs": [
    {
     "data": {
      "image/png": "[encoded data removed]",
      "text/plain": [
       "<Figure size 640x480 with 1 Axes>"
      ]
     },
     "metadata": {},
     "output_type": "display_data"
    },
    {
     "data": {
      "image/png": "[encoded data removed]",
      "text/plain": [
       "<Figure size 640x480 with 1 Axes>"
      ]
     },
     "metadata": {},
     "output_type": "display_data"
    }
   ],
   "source": [
    "plt.plot(history.history[\"loss\"], label=\"loss\")\n",
    "plt.plot(history.history[\"val_loss\"], label=\"val_loss\")\n",
    "plt.legend()\n",
    "plt.show()\n",
    "\n",
    "plt.plot(history.history[\"accuracy\"], label=\"accuracy\")\n",
    "plt.plot(history.history[\"val_accuracy\"], label=\"val_accuracy\")\n",
    "plt.legend()\n",
    "plt.show()"
   ]
  },
  {
   "cell_type": "markdown",
   "metadata": {
    "id": "46jtqZe1ZU-S"
   },
   "source": [
    "# Visualize the Latent Bottleneck"
   ]
  },
  {
   "cell_type": "code",
   "execution_count": 20,
   "metadata": {
    "id": "T4mOZkr6ZUtu"
   },
   "outputs": [],
   "source": [
    "images, labels = next(iter(test_ds))\n",
    "\n",
    "# Set the flag for attn score\n",
    "model.rnn.cell.get_attn_scores = True\n",
    "outputs = model(images)"
   ]
  },
  {
   "cell_type": "code",
   "execution_count": 21,
   "metadata": {
    "id": "kOlZjLck25ga"
   },
   "outputs": [],
   "source": [
    "# Grab the list of chunk scores\n",
    "list_chunk_scores = model.rnn.cell.attn_scores"
   ]
  },
  {
   "cell_type": "code",
   "execution_count": 22,
   "metadata": {
    "id": "7gs1eZGL6Q1i"
   },
   "outputs": [],
   "source": [
    "def score_to_viz(chunk_score):\n",
    "    chunk_viz = tf.math.reduce_max(chunk_score, axis=-2) # get the most attended token\n",
    "    chunk_viz = tf.math.reduce_mean(chunk_viz, axis=1) # get the mean across heads\n",
    "    return chunk_viz"
   ]
  },
  {
   "cell_type": "code",
   "execution_count": 23,
   "metadata": {
    "id": "_eynRKf13xM3"
   },
   "outputs": [],
   "source": [
    "list_chunk_viz = [score_to_viz(x) for x in list_chunk_scores]"
   ]
  },
  {
   "cell_type": "code",
   "execution_count": 24,
   "metadata": {
    "id": "9zmhicYN7DKG"
   },
   "outputs": [],
   "source": [
    "chunk_viz = tf.concat(list_chunk_viz[1:], axis=-1)\n",
    "chunk_viz = tf.reshape(\n",
    "    chunk_viz,\n",
    "    (BATCH_SIZE, IMAGE_SIZE//PATCH_SIZE, IMAGE_SIZE//PATCH_SIZE, 1)\n",
    ")"
   ]
  },
  {
   "cell_type": "code",
   "execution_count": 25,
   "metadata": {
    "id": "ihBgmyV_3AH1"
   },
   "outputs": [],
   "source": [
    "upsampled_heat_map = layers.UpSampling2D(\n",
    "    size=(4, 4),\n",
    "    interpolation='bilinear'\n",
    ")(chunk_viz)"
   ]
  },
  {
   "cell_type": "code",
   "execution_count": 26,
   "metadata": {
    "colab": {
     "base_uri": "https://localhost:8080/",
     "height": 318
    },
    "id": "Ju48l8DC3CJQ",
    "outputId": "d0370dbb-a79e-4435-b7ab-adf0a6fe646f"
   },
   "outputs": [
    {
     "data": {
      "image/png": "[encoded data removed]",
      "text/plain": [
       "<Figure size 1000x500 with 2 Axes>"
      ]
     },
     "metadata": {},
     "output_type": "display_data"
    }
   ],
   "source": [
    "fig, ax = plt.subplots(nrows=1, ncols=2, figsize=(10, 5))\n",
    "\n",
    "index = 10\n",
    "orig_image = images[index]\n",
    "overlay_image = upsampled_heat_map[index, ..., 0]\n",
    "\n",
    "ax[0].imshow(orig_image)\n",
    "ax[0].set_title(\"Original:\")\n",
    "ax[0].axis(\"off\")\n",
    "\n",
    "image = ax[1].imshow(orig_image)\n",
    "ax[1].imshow(\n",
    "    overlay_image,\n",
    "    cmap=\"inferno\",\n",
    "    alpha=0.6,\n",
    "    extent=image.get_extent()\n",
    ")\n",
    "ax[1].set_title(\"TLB Attention:\")\n",
    "\n",
    "plt.show()"
   ]
  },
  {
   "cell_type": "markdown",
   "metadata": {
    "id": "vqB2B-oYindY"
   },
   "source": [
    "# Save the model"
   ]
  },
  {
   "cell_type": "code",
   "execution_count": 27,
   "metadata": {
    "colab": {
     "base_uri": "https://localhost:8080/"
    },
    "id": "T0GmvHG9inIc",
    "outputId": "14e42ccd-67d4-496d-bdd6-2f034312f4ac"
   },
   "outputs": [
    {
     "name": "stdout",
     "output_type": "stream",
     "text": [
      "Model: \"model_trainer\"\n",
      "_________________________________________________________________\n",
      " Layer (type)                Output Shape              Param #   \n",
      "=================================================================\n",
      " patch_embed (PatchEmbed)    multiple                  12480     \n",
      "                                                                 \n",
      " rnn (RNN)                   multiple                  502400    \n",
      "                                                                 \n",
      " global_average_pooling1d (G  multiple                 0         \n",
      " lobalAveragePooling1D)                                          \n",
      "                                                                 \n",
      " dense_20 (Dense)            multiple                  650       \n",
      "                                                                 \n",
      "=================================================================\n",
      "Total params: 515,530\n",
      "Trainable params: 515,530\n",
      "Non-trainable params: 0\n",
      "_________________________________________________________________\n"
     ]
    }
   ],
   "source": [
    "model.summary()"
   ]
  },
  {
   "cell_type": "code",
   "execution_count": 28,
   "metadata": {
    "id": "k314y9KIwVoX"
   },
   "outputs": [],
   "source": [
    "model.save_weights(\"50_epoch.ckpt\")"
   ]
  },
  {
   "cell_type": "markdown",
   "metadata": {
    "id": "4UEq2DLD2pbs"
   },
   "source": [
    "# Load the model back"
   ]
  },
  {
   "cell_type": "code",
   "execution_count": 29,
   "metadata": {
    "colab": {
     "base_uri": "https://localhost:8080/"
    },
    "id": "8RrNBs2pwn5g",
    "outputId": "d63c6d27-6ccf-4f3c-cc36-dc4efdd77c8e"
   },
   "outputs": [
    {
     "data": {
      "text/plain": [
       "<tensorflow.python.checkpoint.checkpoint.CheckpointLoadStatus at 0x7fc323645340>"
      ]
     },
     "execution_count": 29,
     "metadata": {},
     "output_type": "execute_result"
    }
   ],
   "source": [
    "keras.backend.clear_session()\n",
    "\n",
    "# PATCH\n",
    "patch_layer = PatchEmbed(\n",
    "    image_size=(IMAGE_SIZE, IMAGE_SIZE),\n",
    "    patch_size=(PATCH_SIZE, PATCH_SIZE),\n",
    "    embed_dim=EMBED_DIM,\n",
    "    chunk_size=CHUNK_SIZE,\n",
    ")\n",
    "\n",
    "# RECURRENCE\n",
    "cell = CustomCell(\n",
    "    chunk_size=CHUNK_SIZE,\n",
    "    r=R,\n",
    "    num_layers=NUM_LAYERS,\n",
    "    ffn_dims=EMBED_DIM,\n",
    "    ffn_dropout=FFN_DROP, \n",
    "    num_heads=NUM_HEADS,\n",
    "    key_dim=EMBED_DIM,\n",
    "    attn_dropout=ATTN_DROP,\n",
    ")\n",
    "\n",
    "\n",
    "model_temp = ModelTrainer(patch_layer, cell)\n",
    "model_temp.load_weights(\"50_epoch.ckpt\")"
   ]
  },
  {
   "cell_type": "code",
   "execution_count": 30,
   "metadata": {},
   "outputs": [],
   "source": [
    "images, labels = next(iter(test_ds))\n",
    "\n",
    "# Set the flag for attn score\n",
    "model_temp.rnn.cell.get_attn_scores = True\n",
    "outputs = model_temp(images)"
   ]
  },
  {
   "cell_type": "code",
   "execution_count": 31,
   "metadata": {},
   "outputs": [],
   "source": [
    "# Grab the list of chunk scores\n",
    "list_chunk_scores = model_temp.rnn.cell.attn_scores"
   ]
  },
  {
   "cell_type": "code",
   "execution_count": 32,
   "metadata": {},
   "outputs": [
    {
     "data": {
      "image/png": "[encoded data removed]",
      "text/plain": [
       "<Figure size 1000x500 with 2 Axes>"
      ]
     },
     "metadata": {},
     "output_type": "display_data"
    }
   ],
   "source": [
    "def score_to_viz(chunk_score):\n",
    "    chunk_viz = tf.math.reduce_max(chunk_score, axis=-2) # get the most attended token\n",
    "    chunk_viz = tf.math.reduce_mean(chunk_viz, axis=1) # get the mean across heads\n",
    "    return chunk_viz\n",
    "\n",
    "list_chunk_viz = [score_to_viz(x) for x in list_chunk_scores]\n",
    "chunk_viz = tf.concat(list_chunk_viz[1:], axis=-1)\n",
    "chunk_viz = tf.reshape(\n",
    "    chunk_viz,\n",
    "    (BATCH_SIZE, IMAGE_SIZE//PATCH_SIZE, IMAGE_SIZE//PATCH_SIZE, 1)\n",
    ")\n",
    "upsampled_heat_map = layers.UpSampling2D(\n",
    "    size=(4, 4),\n",
    "    interpolation='bilinear'\n",
    ")(chunk_viz)"
   ]
  },
  {
   "cell_type": "code",
   "execution_count": 34,
   "metadata": {},
   "outputs": [
    {
     "data": {
      "image/png": "[encoded data removed]",
      "text/plain": [
       "<Figure size 1000x500 with 2 Axes>"
      ]
     },
     "metadata": {},
     "output_type": "display_data"
    },
    {
     "name": "stdout",
     "output_type": "stream",
     "text": [
      "WARNING:tensorflow:Detecting that an object or model or tf.train.Checkpoint is being deleted with unrestored values. See the following logs for the specific values in question. To silence these warnings, use `status.expect_partial()`. See https://www.tensorflow.org/api_docs/python/tf/train/Checkpoint#restorefor details about the status object returned by the restore function.\n",
      "WARNING:tensorflow:Value in checkpoint could not be found in the restored object: (root).optimizer._iterations\n",
      "WARNING:tensorflow:Value in checkpoint could not be found in the restored object: (root).optimizer._learning_rate\n",
      "WARNING:tensorflow:Value in checkpoint could not be found in the restored object: (root).optimizer._variables.1\n",
      "WARNING:tensorflow:Value in checkpoint could not be found in the restored object: (root).optimizer._variables.2\n",
      "WARNING:tensorflow:Value in checkpoint could not be found in the restored object: (root).optimizer._variables.3\n",
      "WARNING:tensorflow:Value in checkpoint could not be found in the restored object: (root).optimizer._variables.4\n",
      "WARNING:tensorflow:Value in checkpoint could not be found in the restored object: (root).optimizer._variables.5\n",
      "WARNING:tensorflow:Value in checkpoint could not be found in the restored object: (root).optimizer._variables.6\n",
      "WARNING:tensorflow:Value in checkpoint could not be found in the restored object: (root).optimizer._variables.7\n",
      "WARNING:tensorflow:Value in checkpoint could not be found in the restored object: (root).optimizer._variables.8\n",
      "WARNING:tensorflow:Value in checkpoint could not be found in the restored object: (root).optimizer._variables.9\n",
      "WARNING:tensorflow:Value in checkpoint could not be found in the restored object: (root).optimizer._variables.10\n",
      "WARNING:tensorflow:Value in checkpoint could not be found in the restored object: (root).optimizer._variables.11\n",
      "WARNING:tensorflow:Value in checkpoint could not be found in the restored object: (root).optimizer._variables.12\n",
      "WARNING:tensorflow:Value in checkpoint could not be found in the restored object: (root).optimizer._variables.13\n",
      "WARNING:tensorflow:Value in checkpoint could not be found in the restored object: (root).optimizer._variables.14\n",
      "WARNING:tensorflow:Value in checkpoint could not be found in the restored object: (root).optimizer._variables.15\n",
      "WARNING:tensorflow:Value in checkpoint could not be found in the restored object: (root).optimizer._variables.16\n",
      "WARNING:tensorflow:Value in checkpoint could not be found in the restored object: (root).optimizer._variables.17\n",
      "WARNING:tensorflow:Value in checkpoint could not be found in the restored object: (root).optimizer._variables.18\n",
      "WARNING:tensorflow:Value in checkpoint could not be found in the restored object: (root).optimizer._variables.19\n",
      "WARNING:tensorflow:Value in checkpoint could not be found in the restored object: (root).optimizer._variables.20\n",
      "WARNING:tensorflow:Value in checkpoint could not be found in the restored object: (root).optimizer._variables.21\n",
      "WARNING:tensorflow:Value in checkpoint could not be found in the restored object: (root).optimizer._variables.22\n",
      "WARNING:tensorflow:Value in checkpoint could not be found in the restored object: (root).optimizer._variables.23\n",
      "WARNING:tensorflow:Value in checkpoint could not be found in the restored object: (root).optimizer._variables.24\n",
      "WARNING:tensorflow:Value in checkpoint could not be found in the restored object: (root).optimizer._variables.25\n",
      "WARNING:tensorflow:Value in checkpoint could not be found in the restored object: (root).optimizer._variables.26\n",
      "WARNING:tensorflow:Value in checkpoint could not be found in the restored object: (root).optimizer._variables.27\n",
      "WARNING:tensorflow:Value in checkpoint could not be found in the restored object: (root).optimizer._variables.28\n",
      "WARNING:tensorflow:Value in checkpoint could not be found in the restored object: (root).optimizer._variables.29\n",
      "WARNING:tensorflow:Value in checkpoint could not be found in the restored object: (root).optimizer._variables.30\n",
      "WARNING:tensorflow:Value in checkpoint could not be found in the restored object: (root).optimizer._variables.31\n",
      "WARNING:tensorflow:Value in checkpoint could not be found in the restored object: (root).optimizer._variables.32\n",
      "WARNING:tensorflow:Value in checkpoint could not be found in the restored object: (root).optimizer._variables.33\n",
      "WARNING:tensorflow:Value in checkpoint could not be found in the restored object: (root).optimizer._variables.34\n",
      "WARNING:tensorflow:Value in checkpoint could not be found in the restored object: (root).optimizer._variables.35\n",
      "WARNING:tensorflow:Value in checkpoint could not be found in the restored object: (root).optimizer._variables.36\n",
      "WARNING:tensorflow:Value in checkpoint could not be found in the restored object: (root).optimizer._variables.37\n",
      "WARNING:tensorflow:Value in checkpoint could not be found in the restored object: (root).optimizer._variables.38\n",
      "WARNING:tensorflow:Value in checkpoint could not be found in the restored object: (root).optimizer._variables.39\n",
      "WARNING:tensorflow:Value in checkpoint could not be found in the restored object: (root).optimizer._variables.40\n",
      "WARNING:tensorflow:Value in checkpoint could not be found in the restored object: (root).optimizer._variables.41\n",
      "WARNING:tensorflow:Value in checkpoint could not be found in the restored object: (root).optimizer._variables.42\n",
      "WARNING:tensorflow:Value in checkpoint could not be found in the restored object: (root).optimizer._variables.43\n",
      "WARNING:tensorflow:Value in checkpoint could not be found in the restored object: (root).optimizer._variables.44\n",
      "WARNING:tensorflow:Value in checkpoint could not be found in the restored object: (root).optimizer._variables.45\n",
      "WARNING:tensorflow:Value in checkpoint could not be found in the restored object: (root).optimizer._variables.46\n",
      "WARNING:tensorflow:Value in checkpoint could not be found in the restored object: (root).optimizer._variables.47\n",
      "WARNING:tensorflow:Value in checkpoint could not be found in the restored object: (root).optimizer._variables.48\n",
      "WARNING:tensorflow:Value in checkpoint could not be found in the restored object: (root).optimizer._variables.49\n",
      "WARNING:tensorflow:Value in checkpoint could not be found in the restored object: (root).optimizer._variables.50\n",
      "WARNING:tensorflow:Value in checkpoint could not be found in the restored object: (root).optimizer._variables.51\n",
      "WARNING:tensorflow:Value in checkpoint could not be found in the restored object: (root).optimizer._variables.52\n",
      "WARNING:tensorflow:Value in checkpoint could not be found in the restored object: (root).optimizer._variables.53\n",
      "WARNING:tensorflow:Value in checkpoint could not be found in the restored object: (root).optimizer._variables.54\n",
      "WARNING:tensorflow:Value in checkpoint could not be found in the restored object: (root).optimizer._variables.55\n",
      "WARNING:tensorflow:Value in checkpoint could not be found in the restored object: (root).optimizer._variables.56\n",
      "WARNING:tensorflow:Value in checkpoint could not be found in the restored object: (root).optimizer._variables.57\n",
      "WARNING:tensorflow:Value in checkpoint could not be found in the restored object: (root).optimizer._variables.58\n",
      "WARNING:tensorflow:Value in checkpoint could not be found in the restored object: (root).optimizer._variables.59\n",
      "WARNING:tensorflow:Value in checkpoint could not be found in the restored object: (root).optimizer._variables.60\n",
      "WARNING:tensorflow:Value in checkpoint could not be found in the restored object: (root).optimizer._variables.61\n",
      "WARNING:tensorflow:Value in checkpoint could not be found in the restored object: (root).optimizer._variables.62\n",
      "WARNING:tensorflow:Value in checkpoint could not be found in the restored object: (root).optimizer._variables.63\n",
      "WARNING:tensorflow:Value in checkpoint could not be found in the restored object: (root).optimizer._variables.64\n",
      "WARNING:tensorflow:Value in checkpoint could not be found in the restored object: (root).optimizer._variables.65\n",
      "WARNING:tensorflow:Value in checkpoint could not be found in the restored object: (root).optimizer._variables.66\n",
      "WARNING:tensorflow:Value in checkpoint could not be found in the restored object: (root).optimizer._variables.67\n",
      "WARNING:tensorflow:Value in checkpoint could not be found in the restored object: (root).optimizer._variables.68\n",
      "WARNING:tensorflow:Value in checkpoint could not be found in the restored object: (root).optimizer._variables.69\n",
      "WARNING:tensorflow:Value in checkpoint could not be found in the restored object: (root).optimizer._variables.70\n",
      "WARNING:tensorflow:Value in checkpoint could not be found in the restored object: (root).optimizer._variables.71\n",
      "WARNING:tensorflow:Value in checkpoint could not be found in the restored object: (root).optimizer._variables.72\n",
      "WARNING:tensorflow:Value in checkpoint could not be found in the restored object: (root).optimizer._variables.73\n",
      "WARNING:tensorflow:Value in checkpoint could not be found in the restored object: (root).optimizer._variables.74\n",
      "WARNING:tensorflow:Value in checkpoint could not be found in the restored object: (root).optimizer._variables.75\n",
      "WARNING:tensorflow:Value in checkpoint could not be found in the restored object: (root).optimizer._variables.76\n",
      "WARNING:tensorflow:Value in checkpoint could not be found in the restored object: (root).optimizer._variables.77\n",
      "WARNING:tensorflow:Value in checkpoint could not be found in the restored object: (root).optimizer._variables.78\n",
      "WARNING:tensorflow:Value in checkpoint could not be found in the restored object: (root).optimizer._variables.79\n",
      "WARNING:tensorflow:Value in checkpoint could not be found in the restored object: (root).optimizer._variables.80\n",
      "WARNING:tensorflow:Value in checkpoint could not be found in the restored object: (root).optimizer._variables.81\n",
      "WARNING:tensorflow:Value in checkpoint could not be found in the restored object: (root).optimizer._variables.82\n",
      "WARNING:tensorflow:Value in checkpoint could not be found in the restored object: (root).optimizer._variables.83\n",
      "WARNING:tensorflow:Value in checkpoint could not be found in the restored object: (root).optimizer._variables.84\n",
      "WARNING:tensorflow:Value in checkpoint could not be found in the restored object: (root).optimizer._variables.85\n",
      "WARNING:tensorflow:Value in checkpoint could not be found in the restored object: (root).optimizer._variables.86\n",
      "WARNING:tensorflow:Value in checkpoint could not be found in the restored object: (root).optimizer._variables.87\n",
      "WARNING:tensorflow:Value in checkpoint could not be found in the restored object: (root).optimizer._variables.88\n",
      "WARNING:tensorflow:Value in checkpoint could not be found in the restored object: (root).optimizer._variables.89\n",
      "WARNING:tensorflow:Value in checkpoint could not be found in the restored object: (root).optimizer._variables.90\n",
      "WARNING:tensorflow:Value in checkpoint could not be found in the restored object: (root).optimizer._variables.91\n",
      "WARNING:tensorflow:Value in checkpoint could not be found in the restored object: (root).optimizer._variables.92\n",
      "WARNING:tensorflow:Value in checkpoint could not be found in the restored object: (root).optimizer._variables.93\n",
      "WARNING:tensorflow:Value in checkpoint could not be found in the restored object: (root).optimizer._variables.94\n",
      "WARNING:tensorflow:Value in checkpoint could not be found in the restored object: (root).optimizer._variables.95\n",
      "WARNING:tensorflow:Value in checkpoint could not be found in the restored object: (root).optimizer._variables.96\n",
      "WARNING:tensorflow:Value in checkpoint could not be found in the restored object: (root).optimizer._variables.97\n",
      "WARNING:tensorflow:Value in checkpoint could not be found in the restored object: (root).optimizer._variables.98\n",
      "WARNING:tensorflow:Value in checkpoint could not be found in the restored object: (root).optimizer._variables.99\n",
      "WARNING:tensorflow:Value in checkpoint could not be found in the restored object: (root).optimizer._variables.100\n",
      "WARNING:tensorflow:Value in checkpoint could not be found in the restored object: (root).optimizer._variables.101\n",
      "WARNING:tensorflow:Value in checkpoint could not be found in the restored object: (root).optimizer._variables.102\n",
      "WARNING:tensorflow:Value in checkpoint could not be found in the restored object: (root).optimizer._variables.103\n",
      "WARNING:tensorflow:Value in checkpoint could not be found in the restored object: (root).optimizer._variables.104\n",
      "WARNING:tensorflow:Value in checkpoint could not be found in the restored object: (root).optimizer._variables.105\n",
      "WARNING:tensorflow:Value in checkpoint could not be found in the restored object: (root).optimizer._variables.106\n",
      "WARNING:tensorflow:Value in checkpoint could not be found in the restored object: (root).optimizer._variables.107\n",
      "WARNING:tensorflow:Value in checkpoint could not be found in the restored object: (root).optimizer._variables.108\n",
      "WARNING:tensorflow:Value in checkpoint could not be found in the restored object: (root).optimizer._variables.109\n",
      "WARNING:tensorflow:Value in checkpoint could not be found in the restored object: (root).optimizer._variables.110\n",
      "WARNING:tensorflow:Value in checkpoint could not be found in the restored object: (root).optimizer._variables.111\n",
      "WARNING:tensorflow:Value in checkpoint could not be found in the restored object: (root).optimizer._variables.112\n",
      "WARNING:tensorflow:Value in checkpoint could not be found in the restored object: (root).optimizer._variables.113\n",
      "WARNING:tensorflow:Value in checkpoint could not be found in the restored object: (root).optimizer._variables.114\n",
      "WARNING:tensorflow:Value in checkpoint could not be found in the restored object: (root).optimizer._variables.115\n",
      "WARNING:tensorflow:Value in checkpoint could not be found in the restored object: (root).optimizer._variables.116\n",
      "WARNING:tensorflow:Value in checkpoint could not be found in the restored object: (root).optimizer._variables.117\n",
      "WARNING:tensorflow:Value in checkpoint could not be found in the restored object: (root).optimizer._variables.118\n",
      "WARNING:tensorflow:Value in checkpoint could not be found in the restored object: (root).optimizer._variables.119\n",
      "WARNING:tensorflow:Value in checkpoint could not be found in the restored object: (root).optimizer._variables.120\n",
      "WARNING:tensorflow:Value in checkpoint could not be found in the restored object: (root).optimizer._variables.121\n",
      "WARNING:tensorflow:Value in checkpoint could not be found in the restored object: (root).optimizer._variables.122\n",
      "WARNING:tensorflow:Value in checkpoint could not be found in the restored object: (root).optimizer._variables.123\n",
      "WARNING:tensorflow:Value in checkpoint could not be found in the restored object: (root).optimizer._variables.124\n",
      "WARNING:tensorflow:Value in checkpoint could not be found in the restored object: (root).optimizer._variables.125\n",
      "WARNING:tensorflow:Value in checkpoint could not be found in the restored object: (root).optimizer._variables.126\n",
      "WARNING:tensorflow:Value in checkpoint could not be found in the restored object: (root).optimizer._variables.127\n",
      "WARNING:tensorflow:Value in checkpoint could not be found in the restored object: (root).optimizer._variables.128\n",
      "WARNING:tensorflow:Value in checkpoint could not be found in the restored object: (root).optimizer._variables.129\n",
      "WARNING:tensorflow:Value in checkpoint could not be found in the restored object: (root).optimizer._variables.130\n",
      "WARNING:tensorflow:Value in checkpoint could not be found in the restored object: (root).optimizer._variables.131\n",
      "WARNING:tensorflow:Value in checkpoint could not be found in the restored object: (root).optimizer._variables.132\n",
      "WARNING:tensorflow:Value in checkpoint could not be found in the restored object: (root).optimizer._variables.133\n",
      "WARNING:tensorflow:Value in checkpoint could not be found in the restored object: (root).optimizer._variables.134\n",
      "WARNING:tensorflow:Value in checkpoint could not be found in the restored object: (root).optimizer._variables.135\n",
      "WARNING:tensorflow:Value in checkpoint could not be found in the restored object: (root).optimizer._variables.136\n",
      "WARNING:tensorflow:Value in checkpoint could not be found in the restored object: (root).optimizer._variables.137\n",
      "WARNING:tensorflow:Value in checkpoint could not be found in the restored object: (root).optimizer._variables.138\n",
      "WARNING:tensorflow:Value in checkpoint could not be found in the restored object: (root).optimizer._variables.139\n",
      "WARNING:tensorflow:Value in checkpoint could not be found in the restored object: (root).optimizer._variables.140\n",
      "WARNING:tensorflow:Value in checkpoint could not be found in the restored object: (root).optimizer._variables.141\n",
      "WARNING:tensorflow:Value in checkpoint could not be found in the restored object: (root).optimizer._variables.142\n",
      "WARNING:tensorflow:Value in checkpoint could not be found in the restored object: (root).optimizer._variables.143\n",
      "WARNING:tensorflow:Value in checkpoint could not be found in the restored object: (root).optimizer._variables.144\n",
      "WARNING:tensorflow:Value in checkpoint could not be found in the restored object: (root).optimizer._variables.145\n",
      "WARNING:tensorflow:Value in checkpoint could not be found in the restored object: (root).optimizer._variables.146\n",
      "WARNING:tensorflow:Value in checkpoint could not be found in the restored object: (root).optimizer._variables.147\n",
      "WARNING:tensorflow:Value in checkpoint could not be found in the restored object: (root).optimizer._variables.148\n",
      "WARNING:tensorflow:Value in checkpoint could not be found in the restored object: (root).optimizer._variables.149\n",
      "WARNING:tensorflow:Value in checkpoint could not be found in the restored object: (root).optimizer._variables.150\n",
      "WARNING:tensorflow:Value in checkpoint could not be found in the restored object: (root).optimizer._variables.151\n",
      "WARNING:tensorflow:Value in checkpoint could not be found in the restored object: (root).optimizer._variables.152\n",
      "WARNING:tensorflow:Value in checkpoint could not be found in the restored object: (root).optimizer._variables.153\n",
      "WARNING:tensorflow:Value in checkpoint could not be found in the restored object: (root).optimizer._variables.154\n",
      "WARNING:tensorflow:Value in checkpoint could not be found in the restored object: (root).optimizer._variables.155\n",
      "WARNING:tensorflow:Value in checkpoint could not be found in the restored object: (root).optimizer._variables.156\n",
      "WARNING:tensorflow:Value in checkpoint could not be found in the restored object: (root).optimizer._variables.157\n",
      "WARNING:tensorflow:Value in checkpoint could not be found in the restored object: (root).optimizer._variables.158\n",
      "WARNING:tensorflow:Value in checkpoint could not be found in the restored object: (root).optimizer._variables.159\n",
      "WARNING:tensorflow:Value in checkpoint could not be found in the restored object: (root).optimizer._variables.160\n",
      "WARNING:tensorflow:Value in checkpoint could not be found in the restored object: (root).optimizer._variables.161\n",
      "WARNING:tensorflow:Value in checkpoint could not be found in the restored object: (root).optimizer._variables.162\n",
      "WARNING:tensorflow:Value in checkpoint could not be found in the restored object: (root).optimizer._variables.163\n",
      "WARNING:tensorflow:Value in checkpoint could not be found in the restored object: (root).optimizer._variables.164\n",
      "WARNING:tensorflow:Value in checkpoint could not be found in the restored object: (root).optimizer._variables.165\n",
      "WARNING:tensorflow:Value in checkpoint could not be found in the restored object: (root).optimizer._variables.166\n",
      "WARNING:tensorflow:Value in checkpoint could not be found in the restored object: (root).optimizer._variables.167\n",
      "WARNING:tensorflow:Value in checkpoint could not be found in the restored object: (root).optimizer._variables.168\n",
      "WARNING:tensorflow:Value in checkpoint could not be found in the restored object: (root).optimizer._variables.169\n",
      "WARNING:tensorflow:Value in checkpoint could not be found in the restored object: (root).optimizer._variables.170\n",
      "WARNING:tensorflow:Value in checkpoint could not be found in the restored object: (root).optimizer._variables.171\n",
      "WARNING:tensorflow:Value in checkpoint could not be found in the restored object: (root).optimizer._variables.172\n",
      "WARNING:tensorflow:Value in checkpoint could not be found in the restored object: (root).optimizer._variables.173\n",
      "WARNING:tensorflow:Value in checkpoint could not be found in the restored object: (root).optimizer._variables.174\n",
      "WARNING:tensorflow:Value in checkpoint could not be found in the restored object: (root).optimizer._variables.175\n",
      "WARNING:tensorflow:Value in checkpoint could not be found in the restored object: (root).optimizer._variables.176\n",
      "WARNING:tensorflow:Value in checkpoint could not be found in the restored object: (root).optimizer._variables.177\n",
      "WARNING:tensorflow:Value in checkpoint could not be found in the restored object: (root).optimizer._variables.178\n",
      "WARNING:tensorflow:Value in checkpoint could not be found in the restored object: (root).optimizer._variables.179\n",
      "WARNING:tensorflow:Value in checkpoint could not be found in the restored object: (root).optimizer._variables.180\n",
      "WARNING:tensorflow:Value in checkpoint could not be found in the restored object: (root).optimizer._variables.181\n",
      "WARNING:tensorflow:Value in checkpoint could not be found in the restored object: (root).optimizer._variables.182\n",
      "WARNING:tensorflow:Value in checkpoint could not be found in the restored object: (root).optimizer._variables.183\n",
      "WARNING:tensorflow:Value in checkpoint could not be found in the restored object: (root).optimizer._variables.184\n",
      "WARNING:tensorflow:Value in checkpoint could not be found in the restored object: (root).optimizer._variables.185\n",
      "WARNING:tensorflow:Value in checkpoint could not be found in the restored object: (root).optimizer._variables.186\n",
      "WARNING:tensorflow:Value in checkpoint could not be found in the restored object: (root).optimizer._variables.187\n",
      "WARNING:tensorflow:Value in checkpoint could not be found in the restored object: (root).optimizer._variables.188\n",
      "WARNING:tensorflow:Value in checkpoint could not be found in the restored object: (root).optimizer._variables.189\n",
      "WARNING:tensorflow:Value in checkpoint could not be found in the restored object: (root).optimizer._variables.190\n",
      "WARNING:tensorflow:Value in checkpoint could not be found in the restored object: (root).optimizer._variables.191\n",
      "WARNING:tensorflow:Value in checkpoint could not be found in the restored object: (root).optimizer._variables.192\n",
      "WARNING:tensorflow:Value in checkpoint could not be found in the restored object: (root).optimizer._variables.193\n",
      "WARNING:tensorflow:Value in checkpoint could not be found in the restored object: (root).optimizer._variables.194\n",
      "WARNING:tensorflow:Value in checkpoint could not be found in the restored object: (root).optimizer._variables.195\n",
      "WARNING:tensorflow:Value in checkpoint could not be found in the restored object: (root).optimizer._variables.196\n",
      "WARNING:tensorflow:Value in checkpoint could not be found in the restored object: (root).optimizer._variables.197\n",
      "WARNING:tensorflow:Value in checkpoint could not be found in the restored object: (root).optimizer._variables.198\n",
      "WARNING:tensorflow:Value in checkpoint could not be found in the restored object: (root).optimizer._variables.199\n",
      "WARNING:tensorflow:Value in checkpoint could not be found in the restored object: (root).optimizer._variables.200\n",
      "WARNING:tensorflow:Value in checkpoint could not be found in the restored object: (root).optimizer._variables.201\n",
      "WARNING:tensorflow:Value in checkpoint could not be found in the restored object: (root).optimizer._variables.202\n",
      "WARNING:tensorflow:Value in checkpoint could not be found in the restored object: (root).optimizer._variables.203\n",
      "WARNING:tensorflow:Value in checkpoint could not be found in the restored object: (root).optimizer._variables.204\n",
      "WARNING:tensorflow:Value in checkpoint could not be found in the restored object: (root).optimizer._variables.205\n",
      "WARNING:tensorflow:Value in checkpoint could not be found in the restored object: (root).optimizer._variables.206\n",
      "WARNING:tensorflow:Value in checkpoint could not be found in the restored object: (root).optimizer._variables.207\n",
      "WARNING:tensorflow:Value in checkpoint could not be found in the restored object: (root).optimizer._variables.208\n",
      "WARNING:tensorflow:Value in checkpoint could not be found in the restored object: (root).optimizer._variables.209\n",
      "WARNING:tensorflow:Value in checkpoint could not be found in the restored object: (root).optimizer._variables.210\n",
      "WARNING:tensorflow:Value in checkpoint could not be found in the restored object: (root).optimizer._variables.211\n",
      "WARNING:tensorflow:Value in checkpoint could not be found in the restored object: (root).optimizer._variables.212\n",
      "WARNING:tensorflow:Value in checkpoint could not be found in the restored object: (root).optimizer._variables.213\n",
      "WARNING:tensorflow:Value in checkpoint could not be found in the restored object: (root).optimizer._variables.214\n",
      "WARNING:tensorflow:Value in checkpoint could not be found in the restored object: (root).optimizer._variables.215\n",
      "WARNING:tensorflow:Value in checkpoint could not be found in the restored object: (root).optimizer._variables.216\n",
      "WARNING:tensorflow:Value in checkpoint could not be found in the restored object: (root).optimizer._variables.217\n",
      "WARNING:tensorflow:Value in checkpoint could not be found in the restored object: (root).optimizer._variables.218\n",
      "WARNING:tensorflow:Value in checkpoint could not be found in the restored object: (root).optimizer._variables.219\n",
      "WARNING:tensorflow:Value in checkpoint could not be found in the restored object: (root).optimizer._variables.220\n",
      "WARNING:tensorflow:Value in checkpoint could not be found in the restored object: (root).optimizer._variables.221\n",
      "WARNING:tensorflow:Value in checkpoint could not be found in the restored object: (root).optimizer._variables.222\n",
      "WARNING:tensorflow:Value in checkpoint could not be found in the restored object: (root).optimizer._variables.223\n",
      "WARNING:tensorflow:Value in checkpoint could not be found in the restored object: (root).optimizer._variables.224\n",
      "WARNING:tensorflow:Value in checkpoint could not be found in the restored object: (root).optimizer._variables.225\n",
      "WARNING:tensorflow:Value in checkpoint could not be found in the restored object: (root).optimizer._variables.226\n",
      "WARNING:tensorflow:Value in checkpoint could not be found in the restored object: (root).optimizer._variables.227\n",
      "WARNING:tensorflow:Value in checkpoint could not be found in the restored object: (root).optimizer._variables.228\n",
      "WARNING:tensorflow:Value in checkpoint could not be found in the restored object: (root).optimizer._variables.229\n",
      "WARNING:tensorflow:Value in checkpoint could not be found in the restored object: (root).optimizer._variables.230\n",
      "WARNING:tensorflow:Value in checkpoint could not be found in the restored object: (root).optimizer._variables.231\n",
      "WARNING:tensorflow:Value in checkpoint could not be found in the restored object: (root).optimizer._variables.232\n",
      "WARNING:tensorflow:Value in checkpoint could not be found in the restored object: (root).optimizer._variables.233\n",
      "WARNING:tensorflow:Value in checkpoint could not be found in the restored object: (root).optimizer._variables.234\n",
      "WARNING:tensorflow:Value in checkpoint could not be found in the restored object: (root).optimizer._variables.235\n",
      "WARNING:tensorflow:Value in checkpoint could not be found in the restored object: (root).optimizer._variables.236\n",
      "WARNING:tensorflow:Value in checkpoint could not be found in the restored object: (root).optimizer._variables.237\n",
      "WARNING:tensorflow:Value in checkpoint could not be found in the restored object: (root).optimizer._variables.238\n",
      "WARNING:tensorflow:Value in checkpoint could not be found in the restored object: (root).optimizer._variables.239\n",
      "WARNING:tensorflow:Value in checkpoint could not be found in the restored object: (root).optimizer._variables.240\n",
      "WARNING:tensorflow:Value in checkpoint could not be found in the restored object: (root).optimizer._variables.241\n",
      "WARNING:tensorflow:Value in checkpoint could not be found in the restored object: (root).optimizer._variables.242\n",
      "WARNING:tensorflow:Value in checkpoint could not be found in the restored object: (root).optimizer._variables.243\n",
      "WARNING:tensorflow:Value in checkpoint could not be found in the restored object: (root).optimizer._variables.244\n",
      "WARNING:tensorflow:Value in checkpoint could not be found in the restored object: (root).optimizer._variables.245\n",
      "WARNING:tensorflow:Value in checkpoint could not be found in the restored object: (root).optimizer._variables.246\n",
      "WARNING:tensorflow:Value in checkpoint could not be found in the restored object: (root).optimizer._variables.247\n",
      "WARNING:tensorflow:Value in checkpoint could not be found in the restored object: (root).optimizer._variables.248\n",
      "WARNING:tensorflow:Value in checkpoint could not be found in the restored object: (root).optimizer._variables.249\n",
      "WARNING:tensorflow:Value in checkpoint could not be found in the restored object: (root).optimizer._variables.250\n",
      "WARNING:tensorflow:Value in checkpoint could not be found in the restored object: (root).optimizer._variables.251\n",
      "WARNING:tensorflow:Value in checkpoint could not be found in the restored object: (root).optimizer._variables.252\n",
      "WARNING:tensorflow:Value in checkpoint could not be found in the restored object: (root).optimizer._variables.253\n",
      "WARNING:tensorflow:Value in checkpoint could not be found in the restored object: (root).optimizer._variables.254\n",
      "WARNING:tensorflow:Value in checkpoint could not be found in the restored object: (root).optimizer._variables.255\n",
      "WARNING:tensorflow:Value in checkpoint could not be found in the restored object: (root).optimizer._variables.256\n",
      "WARNING:tensorflow:Value in checkpoint could not be found in the restored object: (root).optimizer._variables.257\n",
      "WARNING:tensorflow:Value in checkpoint could not be found in the restored object: (root).optimizer._variables.258\n",
      "WARNING:tensorflow:Value in checkpoint could not be found in the restored object: (root).optimizer._variables.259\n",
      "WARNING:tensorflow:Value in checkpoint could not be found in the restored object: (root).optimizer._variables.260\n",
      "WARNING:tensorflow:Value in checkpoint could not be found in the restored object: (root).optimizer._variables.261\n",
      "WARNING:tensorflow:Value in checkpoint could not be found in the restored object: (root).optimizer._variables.262\n",
      "WARNING:tensorflow:Value in checkpoint could not be found in the restored object: (root).optimizer._variables.263\n",
      "WARNING:tensorflow:Value in checkpoint could not be found in the restored object: (root).optimizer._variables.264\n",
      "WARNING:tensorflow:Value in checkpoint could not be found in the restored object: (root).optimizer._variables.265\n",
      "WARNING:tensorflow:Value in checkpoint could not be found in the restored object: (root).optimizer._variables.266\n",
      "WARNING:tensorflow:Value in checkpoint could not be found in the restored object: (root).optimizer._variables.267\n",
      "WARNING:tensorflow:Value in checkpoint could not be found in the restored object: (root).optimizer._variables.268\n",
      "WARNING:tensorflow:Value in checkpoint could not be found in the restored object: (root).optimizer._variables.269\n",
      "WARNING:tensorflow:Value in checkpoint could not be found in the restored object: (root).optimizer._variables.270\n",
      "WARNING:tensorflow:Value in checkpoint could not be found in the restored object: (root).optimizer._variables.271\n",
      "WARNING:tensorflow:Value in checkpoint could not be found in the restored object: (root).optimizer._variables.272\n",
      "WARNING:tensorflow:Value in checkpoint could not be found in the restored object: (root).optimizer._variables.273\n",
      "WARNING:tensorflow:Value in checkpoint could not be found in the restored object: (root).optimizer._variables.274\n",
      "WARNING:tensorflow:Value in checkpoint could not be found in the restored object: (root).optimizer._variables.275\n",
      "WARNING:tensorflow:Value in checkpoint could not be found in the restored object: (root).optimizer._variables.276\n",
      "WARNING:tensorflow:Value in checkpoint could not be found in the restored object: (root).optimizer._variables.277\n",
      "WARNING:tensorflow:Value in checkpoint could not be found in the restored object: (root).optimizer._variables.278\n",
      "WARNING:tensorflow:Value in checkpoint could not be found in the restored object: (root).optimizer._variables.279\n",
      "WARNING:tensorflow:Value in checkpoint could not be found in the restored object: (root).optimizer._variables.280\n",
      "WARNING:tensorflow:Value in checkpoint could not be found in the restored object: (root).optimizer._variables.281\n",
      "WARNING:tensorflow:Value in checkpoint could not be found in the restored object: (root).optimizer._variables.282\n",
      "WARNING:tensorflow:Value in checkpoint could not be found in the restored object: (root).optimizer._variables.283\n",
      "WARNING:tensorflow:Value in checkpoint could not be found in the restored object: (root).optimizer._variables.284\n",
      "WARNING:tensorflow:Value in checkpoint could not be found in the restored object: (root).optimizer._variables.285\n",
      "WARNING:tensorflow:Value in checkpoint could not be found in the restored object: (root).optimizer._variables.286\n",
      "WARNING:tensorflow:Value in checkpoint could not be found in the restored object: (root).optimizer._variables.287\n",
      "WARNING:tensorflow:Value in checkpoint could not be found in the restored object: (root).optimizer._variables.288\n",
      "WARNING:tensorflow:Value in checkpoint could not be found in the restored object: (root).optimizer._variables.289\n",
      "WARNING:tensorflow:Value in checkpoint could not be found in the restored object: (root).optimizer._variables.290\n",
      "WARNING:tensorflow:Value in checkpoint could not be found in the restored object: (root).optimizer._variables.291\n",
      "WARNING:tensorflow:Value in checkpoint could not be found in the restored object: (root).optimizer._variables.292\n",
      "WARNING:tensorflow:Value in checkpoint could not be found in the restored object: (root).optimizer._variables.293\n",
      "WARNING:tensorflow:Value in checkpoint could not be found in the restored object: (root).optimizer._variables.294\n",
      "WARNING:tensorflow:Value in checkpoint could not be found in the restored object: (root).optimizer._variables.295\n",
      "WARNING:tensorflow:Value in checkpoint could not be found in the restored object: (root).optimizer._variables.296\n",
      "WARNING:tensorflow:Value in checkpoint could not be found in the restored object: (root).optimizer._variables.297\n",
      "WARNING:tensorflow:Value in checkpoint could not be found in the restored object: (root).optimizer._variables.298\n",
      "WARNING:tensorflow:Value in checkpoint could not be found in the restored object: (root).optimizer._variables.299\n",
      "WARNING:tensorflow:Value in checkpoint could not be found in the restored object: (root).optimizer._variables.300\n",
      "WARNING:tensorflow:Value in checkpoint could not be found in the restored object: (root).optimizer._variables.301\n",
      "WARNING:tensorflow:Value in checkpoint could not be found in the restored object: (root).optimizer._variables.302\n",
      "WARNING:tensorflow:Value in checkpoint could not be found in the restored object: (root).optimizer._variables.303\n",
      "WARNING:tensorflow:Value in checkpoint could not be found in the restored object: (root).optimizer._variables.304\n",
      "WARNING:tensorflow:Value in checkpoint could not be found in the restored object: (root).optimizer._variables.305\n",
      "WARNING:tensorflow:Value in checkpoint could not be found in the restored object: (root).optimizer._variables.306\n",
      "WARNING:tensorflow:Value in checkpoint could not be found in the restored object: (root).optimizer._variables.307\n",
      "WARNING:tensorflow:Value in checkpoint could not be found in the restored object: (root).optimizer._variables.308\n",
      "WARNING:tensorflow:Value in checkpoint could not be found in the restored object: (root).optimizer._variables.309\n",
      "WARNING:tensorflow:Value in checkpoint could not be found in the restored object: (root).optimizer._variables.310\n",
      "WARNING:tensorflow:Value in checkpoint could not be found in the restored object: (root).optimizer._variables.311\n",
      "WARNING:tensorflow:Value in checkpoint could not be found in the restored object: (root).optimizer._variables.312\n",
      "WARNING:tensorflow:Value in checkpoint could not be found in the restored object: (root).optimizer._variables.313\n",
      "WARNING:tensorflow:Value in checkpoint could not be found in the restored object: (root).optimizer._variables.314\n",
      "WARNING:tensorflow:Value in checkpoint could not be found in the restored object: (root).optimizer._variables.315\n",
      "WARNING:tensorflow:Value in checkpoint could not be found in the restored object: (root).optimizer._variables.316\n",
      "WARNING:tensorflow:Value in checkpoint could not be found in the restored object: (root).optimizer._variables.317\n",
      "WARNING:tensorflow:Value in checkpoint could not be found in the restored object: (root).optimizer._variables.318\n",
      "WARNING:tensorflow:Value in checkpoint could not be found in the restored object: (root).optimizer._variables.319\n",
      "WARNING:tensorflow:Value in checkpoint could not be found in the restored object: (root).optimizer._variables.320\n",
      "WARNING:tensorflow:Value in checkpoint could not be found in the restored object: (root).optimizer._variables.321\n",
      "WARNING:tensorflow:Value in checkpoint could not be found in the restored object: (root).optimizer._variables.322\n",
      "WARNING:tensorflow:Value in checkpoint could not be found in the restored object: (root).optimizer._variables.323\n",
      "WARNING:tensorflow:Value in checkpoint could not be found in the restored object: (root).optimizer._variables.324\n",
      "WARNING:tensorflow:Value in checkpoint could not be found in the restored object: (root).optimizer._variables.325\n",
      "WARNING:tensorflow:Value in checkpoint could not be found in the restored object: (root).optimizer._variables.326\n",
      "WARNING:tensorflow:Value in checkpoint could not be found in the restored object: (root).optimizer._variables.327\n",
      "WARNING:tensorflow:Value in checkpoint could not be found in the restored object: (root).optimizer._variables.328\n",
      "WARNING:tensorflow:Value in checkpoint could not be found in the restored object: (root).optimizer._variables.329\n",
      "WARNING:tensorflow:Value in checkpoint could not be found in the restored object: (root).optimizer._variables.330\n",
      "WARNING:tensorflow:Value in checkpoint could not be found in the restored object: (root).optimizer._variables.331\n",
      "WARNING:tensorflow:Value in checkpoint could not be found in the restored object: (root).optimizer._variables.332\n",
      "WARNING:tensorflow:Value in checkpoint could not be found in the restored object: (root).optimizer._variables.333\n",
      "WARNING:tensorflow:Value in checkpoint could not be found in the restored object: (root).optimizer._variables.334\n",
      "WARNING:tensorflow:Value in checkpoint could not be found in the restored object: (root).optimizer._variables.335\n",
      "WARNING:tensorflow:Value in checkpoint could not be found in the restored object: (root).optimizer._variables.336\n",
      "WARNING:tensorflow:Value in checkpoint could not be found in the restored object: (root).optimizer._variables.337\n",
      "WARNING:tensorflow:Value in checkpoint could not be found in the restored object: (root).optimizer._variables.338\n",
      "WARNING:tensorflow:Value in checkpoint could not be found in the restored object: (root).optimizer._variables.339\n",
      "WARNING:tensorflow:Value in checkpoint could not be found in the restored object: (root).optimizer._variables.340\n",
      "WARNING:tensorflow:Value in checkpoint could not be found in the restored object: (root).optimizer._variables.341\n",
      "WARNING:tensorflow:Value in checkpoint could not be found in the restored object: (root).optimizer._variables.342\n",
      "WARNING:tensorflow:Value in checkpoint could not be found in the restored object: (root).optimizer._variables.343\n",
      "WARNING:tensorflow:Value in checkpoint could not be found in the restored object: (root).optimizer._variables.344\n",
      "WARNING:tensorflow:Value in checkpoint could not be found in the restored object: (root).optimizer._variables.345\n",
      "WARNING:tensorflow:Value in checkpoint could not be found in the restored object: (root).optimizer._variables.346\n",
      "WARNING:tensorflow:Value in checkpoint could not be found in the restored object: (root).optimizer._variables.347\n",
      "WARNING:tensorflow:Value in checkpoint could not be found in the restored object: (root).optimizer._variables.348\n",
      "WARNING:tensorflow:Value in checkpoint could not be found in the restored object: (root).optimizer._variables.349\n",
      "WARNING:tensorflow:Value in checkpoint could not be found in the restored object: (root).optimizer._variables.350\n",
      "WARNING:tensorflow:Value in checkpoint could not be found in the restored object: (root).optimizer._variables.351\n",
      "WARNING:tensorflow:Value in checkpoint could not be found in the restored object: (root).optimizer._variables.352\n",
      "WARNING:tensorflow:Value in checkpoint could not be found in the restored object: (root).optimizer._variables.353\n",
      "WARNING:tensorflow:Value in checkpoint could not be found in the restored object: (root).optimizer._variables.354\n",
      "WARNING:tensorflow:Value in checkpoint could not be found in the restored object: (root).optimizer._variables.355\n",
      "WARNING:tensorflow:Value in checkpoint could not be found in the restored object: (root).optimizer._variables.356\n",
      "WARNING:tensorflow:Value in checkpoint could not be found in the restored object: (root).optimizer._variables.357\n",
      "WARNING:tensorflow:Value in checkpoint could not be found in the restored object: (root).optimizer._variables.358\n",
      "WARNING:tensorflow:Value in checkpoint could not be found in the restored object: (root).optimizer._variables.359\n",
      "WARNING:tensorflow:Value in checkpoint could not be found in the restored object: (root).optimizer._variables.360\n",
      "WARNING:tensorflow:Value in checkpoint could not be found in the restored object: (root).optimizer._variables.361\n",
      "WARNING:tensorflow:Value in checkpoint could not be found in the restored object: (root).optimizer._variables.362\n",
      "WARNING:tensorflow:Value in checkpoint could not be found in the restored object: (root).optimizer._variables.363\n",
      "WARNING:tensorflow:Value in checkpoint could not be found in the restored object: (root).optimizer._variables.364\n",
      "WARNING:tensorflow:Value in checkpoint could not be found in the restored object: (root).optimizer._variables.365\n",
      "WARNING:tensorflow:Value in checkpoint could not be found in the restored object: (root).optimizer._variables.366\n",
      "WARNING:tensorflow:Value in checkpoint could not be found in the restored object: (root).optimizer._variables.367\n",
      "WARNING:tensorflow:Value in checkpoint could not be found in the restored object: (root).optimizer._variables.368\n",
      "WARNING:tensorflow:Value in checkpoint could not be found in the restored object: (root).optimizer._variables.369\n",
      "WARNING:tensorflow:Value in checkpoint could not be found in the restored object: (root).optimizer._variables.370\n",
      "WARNING:tensorflow:Value in checkpoint could not be found in the restored object: (root).optimizer._variables.371\n",
      "WARNING:tensorflow:Value in checkpoint could not be found in the restored object: (root).optimizer._variables.372\n",
      "WARNING:tensorflow:Value in checkpoint could not be found in the restored object: (root).optimizer._variables.373\n",
      "WARNING:tensorflow:Value in checkpoint could not be found in the restored object: (root).optimizer._variables.374\n",
      "WARNING:tensorflow:Value in checkpoint could not be found in the restored object: (root).optimizer._variables.375\n",
      "WARNING:tensorflow:Value in checkpoint could not be found in the restored object: (root).optimizer._variables.376\n",
      "WARNING:tensorflow:Value in checkpoint could not be found in the restored object: (root).optimizer._variables.377\n",
      "WARNING:tensorflow:Value in checkpoint could not be found in the restored object: (root).optimizer._variables.378\n",
      "WARNING:tensorflow:Value in checkpoint could not be found in the restored object: (root).optimizer._variables.379\n",
      "WARNING:tensorflow:Value in checkpoint could not be found in the restored object: (root).optimizer._variables.380\n",
      "WARNING:tensorflow:Value in checkpoint could not be found in the restored object: (root).optimizer._variables.381\n",
      "WARNING:tensorflow:Value in checkpoint could not be found in the restored object: (root).optimizer._variables.382\n",
      "WARNING:tensorflow:Value in checkpoint could not be found in the restored object: (root).optimizer._variables.383\n",
      "WARNING:tensorflow:Value in checkpoint could not be found in the restored object: (root).optimizer._variables.384\n",
      "WARNING:tensorflow:Value in checkpoint could not be found in the restored object: (root).optimizer._variables.385\n",
      "WARNING:tensorflow:Value in checkpoint could not be found in the restored object: (root).optimizer._variables.386\n",
      "WARNING:tensorflow:Value in checkpoint could not be found in the restored object: (root).optimizer._variables.387\n",
      "WARNING:tensorflow:Value in checkpoint could not be found in the restored object: (root).optimizer._variables.388\n",
      "WARNING:tensorflow:Value in checkpoint could not be found in the restored object: (root).optimizer._variables.389\n",
      "WARNING:tensorflow:Value in checkpoint could not be found in the restored object: (root).optimizer._variables.390\n",
      "WARNING:tensorflow:Value in checkpoint could not be found in the restored object: (root).optimizer._variables.391\n",
      "WARNING:tensorflow:Value in checkpoint could not be found in the restored object: (root).optimizer._variables.392\n",
      "WARNING:tensorflow:Value in checkpoint could not be found in the restored object: (root).optimizer._variables.393\n",
      "WARNING:tensorflow:Value in checkpoint could not be found in the restored object: (root).optimizer._variables.394\n",
      "WARNING:tensorflow:Value in checkpoint could not be found in the restored object: (root).optimizer._variables.395\n",
      "WARNING:tensorflow:Value in checkpoint could not be found in the restored object: (root).optimizer._variables.396\n",
      "WARNING:tensorflow:Value in checkpoint could not be found in the restored object: (root).optimizer._variables.397\n",
      "WARNING:tensorflow:Value in checkpoint could not be found in the restored object: (root).optimizer._variables.398\n",
      "WARNING:tensorflow:Value in checkpoint could not be found in the restored object: (root).optimizer._variables.399\n",
      "WARNING:tensorflow:Value in checkpoint could not be found in the restored object: (root).optimizer._variables.400\n",
      "WARNING:tensorflow:Value in checkpoint could not be found in the restored object: (root).optimizer._variables.401\n",
      "WARNING:tensorflow:Value in checkpoint could not be found in the restored object: (root).optimizer._variables.402\n",
      "WARNING:tensorflow:Value in checkpoint could not be found in the restored object: (root).optimizer._variables.403\n",
      "WARNING:tensorflow:Value in checkpoint could not be found in the restored object: (root).optimizer._variables.404\n",
      "WARNING:tensorflow:Value in checkpoint could not be found in the restored object: (root).optimizer._variables.405\n",
      "WARNING:tensorflow:Value in checkpoint could not be found in the restored object: (root).optimizer._variables.406\n",
      "WARNING:tensorflow:Value in checkpoint could not be found in the restored object: (root).optimizer._variables.407\n",
      "WARNING:tensorflow:Value in checkpoint could not be found in the restored object: (root).optimizer._variables.408\n",
      "WARNING:tensorflow:Value in checkpoint could not be found in the restored object: (root).optimizer._variables.409\n",
      "WARNING:tensorflow:Value in checkpoint could not be found in the restored object: (root).optimizer._variables.410\n",
      "WARNING:tensorflow:Value in checkpoint could not be found in the restored object: (root).optimizer._variables.411\n",
      "WARNING:tensorflow:Value in checkpoint could not be found in the restored object: (root).optimizer._variables.412\n",
      "WARNING:tensorflow:Value in checkpoint could not be found in the restored object: (root).optimizer._variables.413\n",
      "WARNING:tensorflow:Value in checkpoint could not be found in the restored object: (root).optimizer._variables.414\n"
     ]
    }
   ],
   "source": [
    "fig, ax = plt.subplots(nrows=1, ncols=2, figsize=(10, 5))\n",
    "\n",
    "index = 200\n",
    "orig_image = images[index]\n",
    "overlay_image = upsampled_heat_map[index, ..., 0]\n",
    "\n",
    "ax[0].imshow(orig_image)\n",
    "ax[0].set_title(\"Original:\")\n",
    "ax[0].axis(\"off\")\n",
    "\n",
    "image = ax[1].imshow(orig_image)\n",
    "ax[1].imshow(\n",
    "    overlay_image,\n",
    "    cmap=\"inferno\",\n",
    "    alpha=0.6,\n",
    "    extent=image.get_extent()\n",
    ")\n",
    "ax[1].set_title(\"TLB Attention:\")\n",
    "\n",
    "plt.show()"
   ]
  }
 ],
 "metadata": {
  "accelerator": "GPU",
  "colab": {
   "provenance": []
  },
  "gpuClass": "standard",
  "kernelspec": {
   "display_name": "Python 3 (ipykernel)",
   "language": "python",
   "name": "python3"
  },
  "language_info": {
   "codemirror_mode": {
    "name": "ipython",
    "version": 3
   },
   "file_extension": ".py",
   "mimetype": "text/x-python",
   "name": "python",
   "nbconvert_exporter": "python",
   "pygments_lexer": "ipython3",
   "version": "3.8.10"
  }
 },
 "nbformat": 4,
 "nbformat_minor": 4
}
